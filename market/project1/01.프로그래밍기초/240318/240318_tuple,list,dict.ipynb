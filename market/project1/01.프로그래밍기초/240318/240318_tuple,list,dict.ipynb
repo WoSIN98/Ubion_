{
 "cells": [
  {
   "cell_type": "markdown",
   "metadata": {},
   "source": [
    "### 자료형 데이터\n",
    "> 여러개의 데이터를 하나의 변수에 저장시키는 데이터의 타입\n",
    "- tuple\n",
    "    - 자료형 데이터 중 가장 기본적이 형태 \n",
    "    - () 안에 데이터들을 적어서 저장 \n",
    "    - 한번 생성이 되면 안에 원소들을 수정, 추가 삭제 불가능 \n",
    "- list\n",
    "    - [] 안에 데이터들을 적어서 저장\n",
    "    - tuple과는 다르게 안에 원소들을 수정, 추가 삭제 가능\n",
    "    - 내부의 함수들을 이용하여 데이터를 수정\n",
    "    - 리스트이 원소 개수는 0개부터 생성 가능\n",
    "- dict \n",
    "    - {} 안에 데이터들을 key : value의 형태로 적어서 저장\n",
    "    - list는 위치를 기준으로 데이터가 생성이 된다면 dict는 key값을 기준으로 데티어가 생성\n",
    "    - 딕셔너리의 원소 개수는 0개부터 생성 가능\n"
   ]
  },
  {
   "cell_type": "code",
   "execution_count": 2,
   "metadata": {},
   "outputs": [
    {
     "name": "stdout",
     "output_type": "stream",
     "text": [
      "(10, 'test')\n",
      "(3, 3.14)\n",
      "<class 'tuple'>\n",
      "<class 'tuple'>\n"
     ]
    }
   ],
   "source": [
    "# tuple 데이터 생성\n",
    "tuple_a = (10, 'test')\n",
    "tuple_b = (3, 3.14)\n",
    "print(tuple_a)\n",
    "print(tuple_b)\n",
    "print(type(tuple_a))\n",
    "print(type(tuple_b))"
   ]
  },
  {
   "cell_type": "code",
   "execution_count": 5,
   "metadata": {},
   "outputs": [
    {
     "name": "stdout",
     "output_type": "stream",
     "text": [
      "(10, 'test', 3, 3.14)\n",
      "(10, 'test', 10, 'test', 10, 'test')\n"
     ]
    }
   ],
   "source": [
    "# tuple 간의 결합\n",
    "tuple_c = tuple_a + tuple_b\n",
    "tuple_d = tuple_a * 3\n",
    "#tuple_e = tuple_b + 3  튜플은 데이터의 수정이 불가능하기 때문에 에러발생\n",
    "print(tuple_c)\n",
    "print(tuple_d)"
   ]
  },
  {
   "cell_type": "code",
   "execution_count": null,
   "metadata": {},
   "outputs": [],
   "source": [
    "# tuple 안에 데이터를 추출\n",
    "print(tuple_d[1])\n",
    "# 두번째 데이터부터 네번째 데이터 전까지\n",
    "print(tuple_d[1:3])\n",
    "# 처음부터 3번째 데이터 전까지\n",
    "print(tuple_d[:2])\n",
    "# 두번째 데이터부터 마지막까지\n",
    "print(tuple_d[1:])\n",
    "# 마지막 데이터만 출력\n",
    "print(tuple_d[5])\n",
    "# len(tuple_d) = 6\n",
    "print(tuple_d[len(tuple_d)-1])      # 데이터 원소의 개수 모를 때 \n",
    "print(tuple_d[-1])"
   ]
  },
  {
   "cell_type": "code",
   "execution_count": 35,
   "metadata": {},
   "outputs": [
    {
     "name": "stdout",
     "output_type": "stream",
     "text": [
      "[20, 10, 40, 30]\n",
      "['abc', 'ade', 'aaa']\n",
      "<class 'list'>\n",
      "<class 'list'>\n"
     ]
    }
   ],
   "source": [
    "# list 데이터 생성 \n",
    "list_a = [20, 10, 40, 30]\n",
    "list_b = ['abc', 'ade', 'aaa']\n",
    "print(list_a)\n",
    "print(list_b)\n",
    "print(type(list_a))\n",
    "print(type(list_b))"
   ]
  },
  {
   "cell_type": "code",
   "execution_count": 22,
   "metadata": {},
   "outputs": [
    {
     "name": "stdout",
     "output_type": "stream",
     "text": [
      "[10, 20, 30, 40]\n"
     ]
    }
   ],
   "source": [
    "## 정렬을 변경\n",
    "# 오름차순 정렬\n",
    "list_a.sort()           # 결과가 나오지 않음. 메모리 상 변경이 있다. \n",
    "print(list_a)"
   ]
  },
  {
   "cell_type": "code",
   "execution_count": 23,
   "metadata": {},
   "outputs": [
    {
     "name": "stdout",
     "output_type": "stream",
     "text": [
      "['aaa', 'ade', 'abc']\n"
     ]
    }
   ],
   "source": [
    "# 역순으로 변경\n",
    "list_b.reverse()\n",
    "print(list_b)"
   ]
  },
  {
   "cell_type": "code",
   "execution_count": 24,
   "metadata": {},
   "outputs": [
    {
     "name": "stdout",
     "output_type": "stream",
     "text": [
      "[40, 30, 20, 10]\n"
     ]
    }
   ],
   "source": [
    "# 내림차순 정렬 \n",
    "list_c = [20, 40, 10, 30]\n",
    "# 우선 오름차순 정렬\n",
    "list_c.sort()\n",
    "# 역순으로 변경\n",
    "list_c.reverse()\n",
    "print(list_c)"
   ]
  },
  {
   "cell_type": "code",
   "execution_count": 26,
   "metadata": {},
   "outputs": [
    {
     "name": "stdout",
     "output_type": "stream",
     "text": [
      "[40, 30, 20, 10]\n"
     ]
    }
   ],
   "source": [
    "# 위의 과정 거치지 않고 내림차순 정렬\n",
    "list_d = [20, 40, 10, 30]\n",
    "list_d.sort(reverse = True)\n",
    "print(list_d)"
   ]
  },
  {
   "cell_type": "code",
   "execution_count": 36,
   "metadata": {},
   "outputs": [
    {
     "name": "stdout",
     "output_type": "stream",
     "text": [
      "[20, 10, 40, 30, 22]\n",
      "[20, 10, 100, 40, 30, 22]\n"
     ]
    }
   ],
   "source": [
    "## list에 원소를 추가\n",
    "# 마지막에 원소를 추가 \n",
    "list_a.append(22)\n",
    "print(list_a)\n",
    "# 특정 위치에 데이터를 추가\n",
    "list_a.insert(2, 100)\n",
    "print(list_a)\n"
   ]
  },
  {
   "cell_type": "code",
   "execution_count": null,
   "metadata": {},
   "outputs": [],
   "source": [
    "## 원소를 제거\n",
    "# 가장 마지막 원소를 제거\n",
    "list_a.pop()\n",
    "print(list_a)\n"
   ]
  },
  {
   "cell_type": "code",
   "execution_count": null,
   "metadata": {},
   "outputs": [],
   "source": [
    "# 특정 위치의 원소를 제거\n",
    "del list_a[3]\n",
    "print(list_a)"
   ]
  },
  {
   "cell_type": "code",
   "execution_count": 56,
   "metadata": {},
   "outputs": [
    {
     "name": "stdout",
     "output_type": "stream",
     "text": [
      "[20, 100, 30, 10]\n"
     ]
    }
   ],
   "source": [
    "## 특정 값을 제거\n",
    "# 해당하는 값이 2개 이상이라면 앞에 있는 데이터가 제거\n",
    "# 제거하려는 데이터가 존재하지 않는다면 에러가 발생\n",
    "list_a.append(10)\n",
    "print(list_a)"
   ]
  },
  {
   "cell_type": "code",
   "execution_count": 57,
   "metadata": {},
   "outputs": [
    {
     "name": "stdout",
     "output_type": "stream",
     "text": [
      "[20, 100, 30]\n"
     ]
    }
   ],
   "source": [
    "list_a.remove(10)\n",
    "print(list_a)"
   ]
  },
  {
   "cell_type": "code",
   "execution_count": 59,
   "metadata": {},
   "outputs": [],
   "source": [
    "## 리스트를 확장(리스트의 결합)\n",
    "list_a + list_b            # 데이터 변경 x\n",
    "list_a += list_b           # 데이터 변경 o 대입연산자가 존재 "
   ]
  },
  {
   "cell_type": "code",
   "execution_count": 61,
   "metadata": {},
   "outputs": [
    {
     "name": "stdout",
     "output_type": "stream",
     "text": [
      "[20, 100, 30, 'abc', 'ade', 'aaa', 'abc', 'ade', 'aaa', 'abc', 'ade', 'aaa']\n"
     ]
    }
   ],
   "source": [
    "list_a.extend(list_b)\n",
    "print(list_a)"
   ]
  },
  {
   "cell_type": "code",
   "execution_count": 62,
   "metadata": {},
   "outputs": [
    {
     "name": "stdout",
     "output_type": "stream",
     "text": [
      "10\n",
      "10\n",
      "10\n",
      "11\n"
     ]
    }
   ],
   "source": [
    "a = 10\n",
    "b = a \n",
    "print(a)\n",
    "print(b)\n",
    "b += 1\n",
    "print(a)\n",
    "print(b)\n",
    "# 데이터 하나일때는 상관 X"
   ]
  },
  {
   "cell_type": "code",
   "execution_count": 71,
   "metadata": {},
   "outputs": [
    {
     "name": "stdout",
     "output_type": "stream",
     "text": [
      "[10, 20, 30]\n",
      "[10, 20, 30]\n"
     ]
    }
   ],
   "source": [
    "list_a = [10, 20, 30, 40]\n",
    "list_b = list_a\n",
    "list_b.pop()\n",
    "print(list_a)\n",
    "print(list_b)\n",
    "# copy 안써주면 모두 바뀐다."
   ]
  },
  {
   "cell_type": "code",
   "execution_count": 72,
   "metadata": {},
   "outputs": [
    {
     "name": "stdout",
     "output_type": "stream",
     "text": [
      "[10, 20, 30, 40]\n",
      "[10, 20, 30]\n"
     ]
    }
   ],
   "source": [
    "list_a = [10,20,30,40]\n",
    "list_b = list_a.copy()\n",
    "list_b.pop()\n",
    "print(list_a)\n",
    "print(list_b)"
   ]
  },
  {
   "cell_type": "code",
   "execution_count": 69,
   "metadata": {},
   "outputs": [],
   "source": [
    "list_1 = [10, 20, 30, 40]\n",
    "list_2 = list_1\n"
   ]
  },
  {
   "cell_type": "code",
   "execution_count": 70,
   "metadata": {},
   "outputs": [
    {
     "name": "stdout",
     "output_type": "stream",
     "text": [
      "[10, 20, 30, 40, 1]\n",
      "[10, 20, 30, 40, 1]\n"
     ]
    }
   ],
   "source": [
    "list_2.append(1)\n",
    "print(list_1)\n",
    "print(list_2)"
   ]
  },
  {
   "cell_type": "code",
   "execution_count": 74,
   "metadata": {},
   "outputs": [
    {
     "name": "stdout",
     "output_type": "stream",
     "text": [
      "[10, 20, 30, 40, 1]\n",
      "[10, 20, 30, 40, 1]\n"
     ]
    }
   ],
   "source": [
    "# copy() : 복사본을 생성 (백업데이터를 생성)\n",
    "list_3 = list_1.copy()\n",
    "print(list_1)\n",
    "print(list_3)"
   ]
  },
  {
   "cell_type": "code",
   "execution_count": 75,
   "metadata": {},
   "outputs": [
    {
     "name": "stdout",
     "output_type": "stream",
     "text": [
      "[10, 20, 30, 40, 1]\n",
      "[10, 20, 30, 40]\n"
     ]
    }
   ],
   "source": [
    "# list_3에서 마지막 원소를 제거\n",
    "list_3.pop()\n",
    "print(list_1)\n",
    "print(list_3)"
   ]
  },
  {
   "cell_type": "code",
   "execution_count": 86,
   "metadata": {},
   "outputs": [
    {
     "name": "stdout",
     "output_type": "stream",
     "text": [
      "[[10, 20, 30], (50, 60, 70)]\n"
     ]
    }
   ],
   "source": [
    "## 1차원 데이터가 아닌 2차원 데이터\n",
    "list_4 = [\n",
    "    [10, 20, 30],\n",
    "    (50, 60, 70)\n",
    "]\n",
    "print(list_4)"
   ]
  },
  {
   "cell_type": "code",
   "execution_count": 87,
   "metadata": {},
   "outputs": [
    {
     "name": "stdout",
     "output_type": "stream",
     "text": [
      "(50, 60, 70)\n",
      "60\n"
     ]
    }
   ],
   "source": [
    "# list_4에서 60이라는 데이터 추출\n",
    "print(list_4[1])\n",
    "print(list_4[1][1])"
   ]
  },
  {
   "cell_type": "code",
   "execution_count": 1,
   "metadata": {},
   "outputs": [
    {
     "name": "stdout",
     "output_type": "stream",
     "text": [
      "[]\n",
      "[]\n"
     ]
    }
   ],
   "source": [
    "# 리스트는 0개 이상의 데이터를 생성이 가능 \n",
    "# 비어있는 리스트를 생성\n",
    "list1 = []\n",
    "list2 = list()\n",
    "print(list1)\n",
    "print(list2)\n"
   ]
  },
  {
   "cell_type": "code",
   "execution_count": 11,
   "metadata": {},
   "outputs": [
    {
     "name": "stdout",
     "output_type": "stream",
     "text": [
      "[(1, 4), (2, 3), (3, 2), (4, 1), (4, 6), (5, 5), (6, 4)]\n"
     ]
    }
   ],
   "source": [
    "## 2개의 주사위가 존재한다.\n",
    "# 2개의 주사위를 굴렸을 때, 주사위의 합이 5의 배수인 경우의 수를 리스트에 대입\n",
    "# 5의 배수 : 5로 나누었을 때 나머지가 0\n",
    "# (1, 4), (2, 3), (3, 2), (4, 1) --> 두 주사위의 합이 5\n",
    "# (4, 6), (5, 5), (6, 4) --> 두 주사위의 합이 10 \n",
    "res = []\n",
    "for i in range(1,7):                           # 첫번째 주사위 경우의 수\n",
    "    for j in range(1,7):                       # 두번째 주사위 경우의 수\n",
    "        if (i + j) % 5 == 0:                   # 합을 5로 나누었을 때 나머지가 0이라면\n",
    "            res.append((i, j))           # res라는 리스트에 i,j를 대입하라\n",
    "print(res)\n"
   ]
  },
  {
   "cell_type": "code",
   "execution_count": 13,
   "metadata": {},
   "outputs": [
    {
     "name": "stdout",
     "output_type": "stream",
     "text": [
      "[(1, 4), (2, 3), (3, 2), (4, 1), (4, 6), (5, 5), (6, 4)]\n"
     ]
    }
   ],
   "source": [
    "list_1 = []\n",
    "for i in range(1,7,1):\n",
    "    for j in range(1,7,1):\n",
    "        if (i + j) % 5 == 0:\n",
    "            # list_1에 (i,j)를 추가\n",
    "            list_1.append((i, j))\n",
    "print(list_1)"
   ]
  },
  {
   "cell_type": "code",
   "execution_count": 14,
   "metadata": {},
   "outputs": [],
   "source": [
    "## 리스트 형태를 bool의 형태로 강제 변환    # T, F 맞추기\n",
    "list1 = []                     # False \n",
    "list2 = ['test']               # True  \n",
    "list3 = ['']                   # True\n",
    "list4 = [0]                    # True\n",
    "list5 = [5]                    # True  "
   ]
  },
  {
   "cell_type": "code",
   "execution_count": 16,
   "metadata": {},
   "outputs": [
    {
     "name": "stdout",
     "output_type": "stream",
     "text": [
      "False 0\n",
      "True 1\n",
      "True 1\n",
      "True 1\n",
      "True 1\n"
     ]
    }
   ],
   "source": [
    "print(bool(list1), len(list1))\n",
    "print(bool(list2), len(list2))\n",
    "print(bool(list3), len(list3))\n",
    "print(bool(list4), len(list4))\n",
    "print(bool(list5), len(list5))           # 데이터 자체가 존재하는 지. 길이가 0인 경우 False.\n",
    "# 외부의 data를 load할 때 리스트의 형태로 많이 들어오게 된다. 이 리스트를 데이터가 존재하는 지 존재하지 않는 지에 따라 다르게 행동할 수 있다.\n",
    "# if data: \n",
    "#   [ ]\n",
    "# else:\n",
    "#   []\n",
    "\n",
    "# if len) !(data= 0:"
   ]
  },
  {
   "cell_type": "code",
   "execution_count": 20,
   "metadata": {},
   "outputs": [
    {
     "name": "stdout",
     "output_type": "stream",
     "text": [
      "{'name': 'test', 'age': 20}\n",
      "<class 'dict'>\n",
      "20\n"
     ]
    }
   ],
   "source": [
    "## dict 데이터 생성\n",
    "# list와의 차이 : 기준이 다르다. \n",
    "# list의 기준은 index(위치)\n",
    "# dict의 기준은 key \n",
    "# list는 위치를 0, 1, 2...로 고정한 것, dict는 list에서 index의 이름을 설정한 것. \n",
    "dict_1 = {\n",
    "    'name' : 'test',\n",
    "    'age' : 20                               # dict 내의 : 을 = 로 쓰지 않게 조심.\n",
    "}  \n",
    "print(dict_1)\n",
    "print(type(dict_1))\n",
    "print(dict_1['age'])"
   ]
  },
  {
   "cell_type": "code",
   "execution_count": 21,
   "metadata": {},
   "outputs": [
    {
     "name": "stdout",
     "output_type": "stream",
     "text": [
      "dict_keys(['name', 'age'])\n",
      "dict_values(['test', 20])\n",
      "dict_items([('name', 'test'), ('age', 20)])\n"
     ]
    }
   ],
   "source": [
    "## dict는 key와 value로 이루어져 있다.\n",
    "# key 값들만 따로 출력\n",
    "print(dict_1.keys())\n",
    "# value 값들만 따로 출력\n",
    "print(dict_1.values())\n",
    "# dict형태를 list의 형태로 변환 [ (key, value), ... ]\n",
    "print(dict_1.items())"
   ]
  },
  {
   "cell_type": "code",
   "execution_count": 31,
   "metadata": {},
   "outputs": [
    {
     "name": "stdout",
     "output_type": "stream",
     "text": [
      "[{'name': 'test', 'age': 20}, {'name': 'test2', 'age': 30}, {'name': 'test3', 'age': 25}]\n",
      "<class 'list'>\n"
     ]
    }
   ],
   "source": [
    "## 외부에서 데이터를 로드하는 경우\n",
    "# 데이터의 형태는 [{}, {}], {key:[], key2:[]}\n",
    "sample1 = [\n",
    "    {\n",
    "        'name' : 'test',\n",
    "        'age' : 20 \n",
    "    },\n",
    "    {\n",
    "        'name' : 'test2',\n",
    "        'age' : 30\n",
    "    },\n",
    "    {\n",
    "        'name' : 'test3',\n",
    "        'age' : 25\n",
    "    }\n",
    "]\n",
    "print(sample1)\n",
    "print(type(sample1))              # sample1의 타입은 리스트"
   ]
  },
  {
   "cell_type": "code",
   "execution_count": null,
   "metadata": {},
   "outputs": [],
   "source": [
    " # sample1에서 20이라는 데이터만 추출\n",
    "\n",
    "print(sample1[0])                  # sample1에서 첫번째 dict를 보자.\n",
    "print(sample1[0]['age'])           # sample1에서 첫번째 dict의 'age'를 보자.\n",
    "print(sample1[0:2]['age'])"
   ]
  },
  {
   "cell_type": "code",
   "execution_count": 32,
   "metadata": {},
   "outputs": [
    {
     "name": "stdout",
     "output_type": "stream",
     "text": [
      "[20]\n",
      "[20, 30]\n",
      "[20, 30, 25]\n"
     ]
    }
   ],
   "source": [
    "# sample1에서 age의 값들만 따로 추출하여 새로운 리스트를 생성\n",
    "\n",
    "# 비어있는 리스트 생성\n",
    "res1 = []\n",
    "res1.append(\n",
    "    sample1[0]['age']\n",
    ")\n",
    "print(res1)\n",
    "res1.append(\n",
    "    sample1[1]['age']\n",
    ")\n",
    "print(res1)\n",
    "res1.append(\n",
    "    sample1[2]['age']\n",
    ")\n",
    "print(res1)"
   ]
  },
  {
   "cell_type": "code",
   "execution_count": 36,
   "metadata": {},
   "outputs": [
    {
     "name": "stdout",
     "output_type": "stream",
     "text": [
      "[20, 30, 25]\n"
     ]
    }
   ],
   "source": [
    "res2 = []\n",
    "for i in range(len(sample1)):\n",
    "    res2.append(sample1[i]['age'])\n",
    "print(res2)"
   ]
  },
  {
   "cell_type": "code",
   "execution_count": 39,
   "metadata": {},
   "outputs": [
    {
     "name": "stdout",
     "output_type": "stream",
     "text": [
      "test\n",
      "test2\n",
      "test3\n"
     ]
    }
   ],
   "source": [
    "_list = [\n",
    "    'test','test2','test3'\n",
    "]\n",
    "for i in _list:\n",
    "    print(i)"
   ]
  },
  {
   "cell_type": "code",
   "execution_count": 42,
   "metadata": {},
   "outputs": [
    {
     "name": "stdout",
     "output_type": "stream",
     "text": [
      "[20, 30, 25]\n"
     ]
    }
   ],
   "source": [
    "res3 = []\n",
    "for i in sample1:\n",
    "    # print(i)\n",
    "    # print(i['age'])\n",
    "    # i가 의미하는 것은? : sample1[0], sample1[1], sample1[2]\n",
    "    res3.append(i['age'])  # sample1의 딕셔너리 데이터 중 age의 값들만 res3 추가\n",
    "print(res3)"
   ]
  },
  {
   "cell_type": "code",
   "execution_count": 46,
   "metadata": {},
   "outputs": [
    {
     "data": {
      "text/plain": [
       "[{'name': 'test', 'age': 20},\n",
       " {'name': 'test2', 'age': 30},\n",
       " {'name': 'test3', 'age': 25}]"
      ]
     },
     "execution_count": 46,
     "metadata": {},
     "output_type": "execute_result"
    }
   ],
   "source": [
    "sample1"
   ]
  },
  {
   "cell_type": "code",
   "execution_count": 47,
   "metadata": {},
   "outputs": [],
   "source": [
    "#### 형태 변환\n",
    "sample2 = {\n",
    "    'name' : ['test', 'test2', 'tset3'],\n",
    "    'age' : [20, 30, 25]\n",
    "}                                          # dict 안의 list\n",
    "\n",
    "# 위의 sample1과 sample2를 둘 다 호환하는 것이 r에서의 dataframe\n"
   ]
  },
  {
   "cell_type": "code",
   "execution_count": 55,
   "metadata": {},
   "outputs": [
    {
     "name": "stdout",
     "output_type": "stream",
     "text": [
      "['test', 'test2', 'tset3']\n",
      "[20, 30, 25]\n",
      "[['test', 'test2', 'tset3'], [20, 30, 25]]\n"
     ]
    }
   ],
   "source": [
    "# dict도 for문에서 쓸 수 있을까?      #### 복습 확인할 것\n",
    "sample3 = []\n",
    "for i in sample2:\n",
    "    #print(i)                 # i가 의미하는 것은? : sample2의 key 값\n",
    "    # smaple2에서 ['test', 'test2', 'test3'] 출력하려면? print(sample2['name'])\n",
    "    print(sample2[i])         # dict 안의 리스트 값을 가져옴. \n",
    "    sample3.append(sample2[i])  # 가져온 리스트 값을 빈 리스트 안에 리스트 형태로 넣는다.\n",
    "print(sample3)                  # 결과 리스트 안의 리스트"
   ]
  },
  {
   "cell_type": "code",
   "execution_count": 63,
   "metadata": {},
   "outputs": [
    {
     "name": "stdout",
     "output_type": "stream",
     "text": [
      "name 0 test\n",
      "name 1 test2\n",
      "name 2 tset3\n",
      "age 0 20\n",
      "age 1 30\n",
      "age 2 25\n",
      "[{'name': 'test', 'age': 20}, {'name': 'test2', 'age': 30}, {'name': 'tset3', 'age': 25}, {}, {}, {}]\n"
     ]
    }
   ],
   "source": [
    "sample3 = []                                ## 녹음 6:10\n",
    "for i in sample2:\n",
    "    #print(sample2[i])         # dict 안의 리스트 값을 가져옴. \n",
    "    #for j in sample2[i]:\n",
    "    for j in range(len(sample2[i])):\n",
    "        print(i, j, sample2[i][j])\n",
    "        sample3.append({})                    # 6번 반복하면서 sample3에 빈 dict 6개 추가.     # 3번(dict안에 list의 길이)만 추가하도록 코드 수정\n",
    "        sample3[j][i] = sample2[i][j]\n",
    "        # print(j)\n",
    "        \n",
    "      # 가져온 리스트 값을 빈 리스트 안에 dict 형태로 넣는다.\n",
    "print(sample3)  "
   ]
  },
  {
   "cell_type": "code",
   "execution_count": 72,
   "metadata": {},
   "outputs": [
    {
     "name": "stdout",
     "output_type": "stream",
     "text": [
      "[{'name': 'test'}]\n",
      "[{'name': 'test'}, {'name': 'test2'}]\n",
      "[{'name': 'test'}, {'name': 'test2'}, {'name': 'tset3'}]\n",
      "[{'name': 'test', 'age': 20}, {'name': 'test2'}, {'name': 'tset3'}]\n",
      "[{'name': 'test', 'age': 20}, {'name': 'test2', 'age': 30}, {'name': 'tset3'}]\n",
      "[{'name': 'test', 'age': 20}, {'name': 'test2', 'age': 30}, {'name': 'tset3', 'age': 25}]\n",
      "[{'name': 'test', 'age': 20}, {'name': 'test2', 'age': 30}, {'name': 'tset3', 'age': 25}]\n"
     ]
    }
   ],
   "source": [
    "sample3 = []                                ## 녹음 6:30\n",
    "for i in sample2:\n",
    "    for j in range(len(sample2[i])):\n",
    "        # 조건식: sample2[i]의 길이 > sample3 길이 \n",
    "            if len(sample2[i]) > len(sample3):\n",
    "                sample3.append({})                    \n",
    "            sample3[j][i] = sample2[i][j]\n",
    "            print(sample3)\n",
    "print(sample3)                      # 리스트 안의 dict 형태"
   ]
  },
  {
   "cell_type": "code",
   "execution_count": 83,
   "metadata": {},
   "outputs": [
    {
     "name": "stdout",
     "output_type": "stream",
     "text": [
      "name\n",
      "['test', 'test2', 'tset3']\n",
      "i= name, j= 0, sample2= test\n",
      "[{}]\n",
      "[{'name': 'test'}]\n",
      "i= name, j= 1, sample2= test2\n",
      "[{'name': 'test'}, {}]\n",
      "[{'name': 'test'}, {'name': 'test2'}]\n",
      "i= name, j= 2, sample2= tset3\n",
      "[{'name': 'test'}, {'name': 'test2'}, {}]\n",
      "[{'name': 'test'}, {'name': 'test2'}, {'name': 'tset3'}]\n",
      "age\n",
      "[20, 30, 25]\n",
      "i= age, j= 0, sample2= 20\n",
      "[{'name': 'test'}, {'name': 'test2'}, {'name': 'tset3'}]\n",
      "[{'name': 'test', 'age': 20}, {'name': 'test2'}, {'name': 'tset3'}]\n",
      "i= age, j= 1, sample2= 30\n",
      "[{'name': 'test', 'age': 20}, {'name': 'test2'}, {'name': 'tset3'}]\n",
      "[{'name': 'test', 'age': 20}, {'name': 'test2', 'age': 30}, {'name': 'tset3'}]\n",
      "i= age, j= 2, sample2= 25\n",
      "[{'name': 'test', 'age': 20}, {'name': 'test2', 'age': 30}, {'name': 'tset3'}]\n",
      "[{'name': 'test', 'age': 20}, {'name': 'test2', 'age': 30}, {'name': 'tset3', 'age': 25}]\n",
      "[{'name': 'test', 'age': 20}, {'name': 'test2', 'age': 30}, {'name': 'tset3', 'age': 25}]\n"
     ]
    }
   ],
   "source": [
    "## 총 정리    # 녹음 6:39\n",
    "sample2 = {\n",
    "    'name' : ['test', 'test2', 'tset3'],\n",
    "    'age' : [20, 30, 25]\n",
    "}             \n",
    "sample3 = []\n",
    "for i in sample2:\n",
    "    print(i)                            # i에 들어오는 값 : name, age\n",
    "    print(sample2[i])                   # sample2[i] :  i가 name일 때 ['test', 'test2', 'test3'] , i가 age일 때 [20, 30, 25]\n",
    "    for j in range(len(sample2[i])):     # len(sample2[i]) : i가 name일 때 3, i가 age일 때 3  j: 0, 1, 2  \n",
    "        print(f\"i= {i}, j= {j}, sample2= {sample2[i][j]}\")\n",
    "        if len(sample2[i]) > len(sample3):    # len(sample3) : 0, 1, 2 \n",
    "            sample3.append({})                # sample3에 빈 dict 3개 만든다.\n",
    "        print(sample3)            # 현재 sample3상태: [{},{},{}]\n",
    "        sample3[j][i] = sample2[i][j]     # 순서 i:name j:0 , i:name j:1 , i:name j:2 , i:age  j:0 , i:age  j:1 , i:age  j:2\n",
    "        # dict key    = 값                 \n",
    "        # 리스트 안의 dict, dict 안의 리스트\n",
    "        print(sample3)         \n",
    "print(sample3)\n"
   ]
  },
  {
   "cell_type": "code",
   "execution_count": 77,
   "metadata": {},
   "outputs": [
    {
     "name": "stdout",
     "output_type": "stream",
     "text": [
      "{}\n",
      "{'new': 1}\n",
      "{'new': 3}\n"
     ]
    }
   ],
   "source": [
    "##### dict 데이터에서 key:value 추가        # 녹음 6:37\n",
    "test_dict ={}\n",
    "print(test_dict)\n",
    "test_dict['new'] = 1\n",
    "print(test_dict)\n",
    "# 기존에 존재하는 key에 vaule를 변경\n",
    "test_dict['new'] = 3\n",
    "print(test_dict)    # key 값은 변경 불가, value는 변경 가능\n"
   ]
  },
  {
   "cell_type": "code",
   "execution_count": null,
   "metadata": {},
   "outputs": [],
   "source": []
  },
  {
   "cell_type": "code",
   "execution_count": null,
   "metadata": {},
   "outputs": [],
   "source": []
  }
 ],
 "metadata": {
  "kernelspec": {
   "display_name": "Python 3",
   "language": "python",
   "name": "python3"
  },
  "language_info": {
   "codemirror_mode": {
    "name": "ipython",
    "version": 3
   },
   "file_extension": ".py",
   "mimetype": "text/x-python",
   "name": "python",
   "nbconvert_exporter": "python",
   "pygments_lexer": "ipython3",
   "version": "3.12.2"
  }
 },
 "nbformat": 4,
 "nbformat_minor": 2
}
