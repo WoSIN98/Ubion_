{
 "cells": [
  {
   "cell_type": "code",
   "execution_count": 64,
   "metadata": {},
   "outputs": [],
   "source": [
    "import pandas as pd\n",
    "popout = pd.read_csv('./시군구간유출인구의이동수단별성별_연령대별데이터.csv', encoding = 'cp949')"
   ]
  },
  {
   "cell_type": "code",
   "execution_count": 65,
   "metadata": {},
   "outputs": [],
   "source": [
    "# 컬럼 삭제\n",
    "# 삭제할 컬럼 리스트\n",
    "columns_to_drop = ['출발 시간대', '출발지_시도명', '출발지_중심_X좌표', '출발지_중심_Y좌표', '이동수단 구분', '요일구분']\n",
    "\n",
    "# 지정된 컬럼 삭제\n",
    "popout = popout.drop(columns=columns_to_drop)\n",
    "popout\n",
    "\n",
    "popout.to_csv('./전처리 후/유출인구정제.csv')\n"
   ]
  },
  {
   "cell_type": "code",
   "execution_count": 66,
   "metadata": {},
   "outputs": [
    {
     "data": {
      "text/html": [
       "<div>\n",
       "<style scoped>\n",
       "    .dataframe tbody tr th:only-of-type {\n",
       "        vertical-align: middle;\n",
       "    }\n",
       "\n",
       "    .dataframe tbody tr th {\n",
       "        vertical-align: top;\n",
       "    }\n",
       "\n",
       "    .dataframe thead th {\n",
       "        text-align: right;\n",
       "    }\n",
       "</style>\n",
       "<table border=\"1\" class=\"dataframe\">\n",
       "  <thead>\n",
       "    <tr style=\"text-align: right;\">\n",
       "      <th></th>\n",
       "      <th>시군코드</th>\n",
       "      <th>시군이름</th>\n",
       "    </tr>\n",
       "  </thead>\n",
       "  <tbody>\n",
       "    <tr>\n",
       "      <th>0</th>\n",
       "      <td>41610</td>\n",
       "      <td>광주시</td>\n",
       "    </tr>\n",
       "    <tr>\n",
       "      <th>1</th>\n",
       "      <td>41630</td>\n",
       "      <td>양주시</td>\n",
       "    </tr>\n",
       "    <tr>\n",
       "      <th>2</th>\n",
       "      <td>41650</td>\n",
       "      <td>포천시</td>\n",
       "    </tr>\n",
       "    <tr>\n",
       "      <th>3</th>\n",
       "      <td>41670</td>\n",
       "      <td>여주시</td>\n",
       "    </tr>\n",
       "    <tr>\n",
       "      <th>4</th>\n",
       "      <td>41800</td>\n",
       "      <td>연천군</td>\n",
       "    </tr>\n",
       "  </tbody>\n",
       "</table>\n",
       "</div>"
      ],
      "text/plain": [
       "    시군코드 시군이름\n",
       "0  41610  광주시\n",
       "1  41630  양주시\n",
       "2  41650  포천시\n",
       "3  41670  여주시\n",
       "4  41800  연천군"
      ]
     },
     "execution_count": 66,
     "metadata": {},
     "output_type": "execute_result"
    }
   ],
   "source": [
    "import pandas as pd\n",
    "\n",
    "# Load the new Excel file\n",
    "file_path = './시군코드이름.xlsx'\n",
    "sigoon = pd.read_excel(file_path)\n",
    "\n",
    "# Display the dataframe to understand its structure\n",
    "sigoon.head()\n",
    "\n",
    "# Remove the unwanted characters (single quote and comma) from the '시군이름' column\n",
    "sigoon['시군이름'] = sigoon['시군이름'].str.replace(\"'\", \"\").str.replace(\",\", \"\")\n",
    "\n",
    "# Display the cleaned dataframe\n",
    "sigoon.head()"
   ]
  },
  {
   "cell_type": "code",
   "execution_count": 67,
   "metadata": {},
   "outputs": [
    {
     "data": {
      "text/html": [
       "<div>\n",
       "<style scoped>\n",
       "    .dataframe tbody tr th:only-of-type {\n",
       "        vertical-align: middle;\n",
       "    }\n",
       "\n",
       "    .dataframe tbody tr th {\n",
       "        vertical-align: top;\n",
       "    }\n",
       "\n",
       "    .dataframe thead th {\n",
       "        text-align: right;\n",
       "    }\n",
       "</style>\n",
       "<table border=\"1\" class=\"dataframe\">\n",
       "  <thead>\n",
       "    <tr style=\"text-align: right;\">\n",
       "      <th></th>\n",
       "      <th>출발지_시군구명</th>\n",
       "      <th>연령별(10세)</th>\n",
       "      <th>인구 수</th>\n",
       "    </tr>\n",
       "  </thead>\n",
       "  <tbody>\n",
       "    <tr>\n",
       "      <th>0</th>\n",
       "      <td>광명시</td>\n",
       "      <td>1</td>\n",
       "      <td>3693.19</td>\n",
       "    </tr>\n",
       "    <tr>\n",
       "      <th>1</th>\n",
       "      <td>광명시</td>\n",
       "      <td>2</td>\n",
       "      <td>27059.52</td>\n",
       "    </tr>\n",
       "    <tr>\n",
       "      <th>2</th>\n",
       "      <td>광명시</td>\n",
       "      <td>3</td>\n",
       "      <td>47568.31</td>\n",
       "    </tr>\n",
       "    <tr>\n",
       "      <th>3</th>\n",
       "      <td>광명시</td>\n",
       "      <td>4</td>\n",
       "      <td>53453.29</td>\n",
       "    </tr>\n",
       "    <tr>\n",
       "      <th>4</th>\n",
       "      <td>광명시</td>\n",
       "      <td>5</td>\n",
       "      <td>60612.59</td>\n",
       "    </tr>\n",
       "  </tbody>\n",
       "</table>\n",
       "</div>"
      ],
      "text/plain": [
       "  출발지_시군구명  연령별(10세)      인구 수\n",
       "0      광명시         1   3693.19\n",
       "1      광명시         2  27059.52\n",
       "2      광명시         3  47568.31\n",
       "3      광명시         4  53453.29\n",
       "4      광명시         5  60612.59"
      ]
     },
     "execution_count": 67,
     "metadata": {},
     "output_type": "execute_result"
    }
   ],
   "source": [
    "import pandas as pd\n",
    "\n",
    "# Drop the '출발지_시군구코드' column\n",
    "popout = popout.drop(columns=['출발지_시군구코드'])\n",
    "\n",
    "# Filter '출발지_시군구명' to contain only the first three characters\n",
    "popout['출발지_시군구명'] = popout['출발지_시군구명'].str[:3]\n",
    "\n",
    "# Sort the dataframe by '출발지_시군구명' in ascending order\n",
    "popout = popout.sort_values(by='출발지_시군구명').reset_index(drop=True)\n",
    "\n",
    "# Sort the dataframe by '출발지_시군구명' and then by '연령별(10세)' in ascending order\n",
    "popout = popout.sort_values(by=['출발지_시군구명', '연령별(10세)']).reset_index(drop=True)\n",
    "\n",
    "# Group the dataframe by '출발지_시군구명' and '연령별(10세)' and calculate the sum of '인구 수'\n",
    "popout_sort = popout.groupby(['출발지_시군구명', '연령별(10세)'])['인구 수'].sum().reset_index()\n",
    "\n",
    "\n",
    "# Display the grouped dataframe\n",
    "popout_sort.head()"
   ]
  },
  {
   "cell_type": "code",
   "execution_count": 68,
   "metadata": {},
   "outputs": [],
   "source": [
    "popout_sort.to_csv('./유출인구연령별_인구수.csv')"
   ]
  },
  {
   "cell_type": "code",
   "execution_count": 70,
   "metadata": {},
   "outputs": [
    {
     "data": {
      "text/html": [
       "<div>\n",
       "<style scoped>\n",
       "    .dataframe tbody tr th:only-of-type {\n",
       "        vertical-align: middle;\n",
       "    }\n",
       "\n",
       "    .dataframe tbody tr th {\n",
       "        vertical-align: top;\n",
       "    }\n",
       "\n",
       "    .dataframe thead th {\n",
       "        text-align: right;\n",
       "    }\n",
       "</style>\n",
       "<table border=\"1\" class=\"dataframe\">\n",
       "  <thead>\n",
       "    <tr style=\"text-align: right;\">\n",
       "      <th></th>\n",
       "      <th>출발지_시군구명</th>\n",
       "      <th>인구 수</th>\n",
       "    </tr>\n",
       "  </thead>\n",
       "  <tbody>\n",
       "    <tr>\n",
       "      <th>0</th>\n",
       "      <td>광명시</td>\n",
       "      <td>297671.53</td>\n",
       "    </tr>\n",
       "    <tr>\n",
       "      <th>1</th>\n",
       "      <td>부천시</td>\n",
       "      <td>911518.15</td>\n",
       "    </tr>\n",
       "    <tr>\n",
       "      <th>2</th>\n",
       "      <td>수원시</td>\n",
       "      <td>1399743.36</td>\n",
       "    </tr>\n",
       "    <tr>\n",
       "      <th>3</th>\n",
       "      <td>시흥시</td>\n",
       "      <td>430288.93</td>\n",
       "    </tr>\n",
       "    <tr>\n",
       "      <th>4</th>\n",
       "      <td>안산시</td>\n",
       "      <td>687455.55</td>\n",
       "    </tr>\n",
       "    <tr>\n",
       "      <th>5</th>\n",
       "      <td>안양시</td>\n",
       "      <td>585539.22</td>\n",
       "    </tr>\n",
       "    <tr>\n",
       "      <th>6</th>\n",
       "      <td>용인시</td>\n",
       "      <td>1276109.70</td>\n",
       "    </tr>\n",
       "    <tr>\n",
       "      <th>7</th>\n",
       "      <td>포천시</td>\n",
       "      <td>209838.01</td>\n",
       "    </tr>\n",
       "    <tr>\n",
       "      <th>8</th>\n",
       "      <td>하남시</td>\n",
       "      <td>436345.02</td>\n",
       "    </tr>\n",
       "    <tr>\n",
       "      <th>9</th>\n",
       "      <td>화성시</td>\n",
       "      <td>1286840.88</td>\n",
       "    </tr>\n",
       "  </tbody>\n",
       "</table>\n",
       "</div>"
      ],
      "text/plain": [
       "  출발지_시군구명        인구 수\n",
       "0      광명시   297671.53\n",
       "1      부천시   911518.15\n",
       "2      수원시  1399743.36\n",
       "3      시흥시   430288.93\n",
       "4      안산시   687455.55\n",
       "5      안양시   585539.22\n",
       "6      용인시  1276109.70\n",
       "7      포천시   209838.01\n",
       "8      하남시   436345.02\n",
       "9      화성시  1286840.88"
      ]
     },
     "execution_count": 70,
     "metadata": {},
     "output_type": "execute_result"
    }
   ],
   "source": [
    "all_popout = popout_sort.groupby('출발지_시군구명')['인구 수'].sum().reset_index()\n",
    "all_popout\n"
   ]
  },
  {
   "cell_type": "code",
   "execution_count": 72,
   "metadata": {},
   "outputs": [],
   "source": [
    "all_popout.to_csv('./202401_종합유출인구수.csv')"
   ]
  },
  {
   "cell_type": "code",
   "execution_count": 75,
   "metadata": {},
   "outputs": [],
   "source": [
    "## 202401 일별 평균 유출 인구수\n",
    "all_popout['일별평균유출인구'] = all_popout['인구 수'] / 31\n"
   ]
  },
  {
   "cell_type": "code",
   "execution_count": 76,
   "metadata": {},
   "outputs": [],
   "source": [
    "all_popout.to_csv('./202401_일별평균유출인구수.csv')"
   ]
  }
 ],
 "metadata": {
  "kernelspec": {
   "display_name": "Python 3",
   "language": "python",
   "name": "python3"
  },
  "language_info": {
   "codemirror_mode": {
    "name": "ipython",
    "version": 3
   },
   "file_extension": ".py",
   "mimetype": "text/x-python",
   "name": "python",
   "nbconvert_exporter": "python",
   "pygments_lexer": "ipython3",
   "version": "3.11.7"
  }
 },
 "nbformat": 4,
 "nbformat_minor": 2
}
