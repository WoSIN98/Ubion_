{
 "cells": [
  {
   "cell_type": "code",
   "execution_count": 7,
   "metadata": {},
   "outputs": [],
   "source": [
    "import pandas as pd\n",
    "popin = pd.read_csv('./시군구간유입인구의이동수단별성별_연령대별데이터.csv', encoding = 'cp949')"
   ]
  },
  {
   "cell_type": "code",
   "execution_count": 8,
   "metadata": {},
   "outputs": [],
   "source": [
    "# 컬럼 삭제\n",
    "# 삭제할 컬럼 리스트\n",
    "columns_to_drop = ['도착 시간대', '도착지_시도명', '도착지_중심_X좌표', '도착지_중심_Y좌표', '이동수단 구분', '요일구분']\n",
    "\n",
    "# 지정된 컬럼 삭제\n",
    "popin = popin.drop(columns=columns_to_drop)\n",
    "popin\n",
    "\n",
    "popin.to_csv('./전처리 후/유입인구정제.csv')\n"
   ]
  },
  {
   "cell_type": "code",
   "execution_count": 9,
   "metadata": {},
   "outputs": [
    {
     "data": {
      "text/html": [
       "<div>\n",
       "<style scoped>\n",
       "    .dataframe tbody tr th:only-of-type {\n",
       "        vertical-align: middle;\n",
       "    }\n",
       "\n",
       "    .dataframe tbody tr th {\n",
       "        vertical-align: top;\n",
       "    }\n",
       "\n",
       "    .dataframe thead th {\n",
       "        text-align: right;\n",
       "    }\n",
       "</style>\n",
       "<table border=\"1\" class=\"dataframe\">\n",
       "  <thead>\n",
       "    <tr style=\"text-align: right;\">\n",
       "      <th></th>\n",
       "      <th>도착지_시군구명</th>\n",
       "      <th>연령별(10세)</th>\n",
       "      <th>인구 수</th>\n",
       "    </tr>\n",
       "  </thead>\n",
       "  <tbody>\n",
       "    <tr>\n",
       "      <th>0</th>\n",
       "      <td>광명시</td>\n",
       "      <td>1</td>\n",
       "      <td>3128.43</td>\n",
       "    </tr>\n",
       "    <tr>\n",
       "      <th>1</th>\n",
       "      <td>광명시</td>\n",
       "      <td>2</td>\n",
       "      <td>12312.61</td>\n",
       "    </tr>\n",
       "    <tr>\n",
       "      <th>2</th>\n",
       "      <td>광명시</td>\n",
       "      <td>3</td>\n",
       "      <td>40189.26</td>\n",
       "    </tr>\n",
       "    <tr>\n",
       "      <th>3</th>\n",
       "      <td>광명시</td>\n",
       "      <td>4</td>\n",
       "      <td>28207.16</td>\n",
       "    </tr>\n",
       "    <tr>\n",
       "      <th>4</th>\n",
       "      <td>광명시</td>\n",
       "      <td>5</td>\n",
       "      <td>46821.86</td>\n",
       "    </tr>\n",
       "  </tbody>\n",
       "</table>\n",
       "</div>"
      ],
      "text/plain": [
       "  도착지_시군구명  연령별(10세)      인구 수\n",
       "0      광명시         1   3128.43\n",
       "1      광명시         2  12312.61\n",
       "2      광명시         3  40189.26\n",
       "3      광명시         4  28207.16\n",
       "4      광명시         5  46821.86"
      ]
     },
     "execution_count": 9,
     "metadata": {},
     "output_type": "execute_result"
    }
   ],
   "source": [
    "import pandas as pd\n",
    "\n",
    "# Drop '도착지_시군구코드' column\n",
    "popin = popin.drop(columns=['도착지_시군구코드'])\n",
    "\n",
    "# Filter '도착지_시군구명' to contain only the first three characters\n",
    "popin['도착지_시군구명'] = popin['도착지_시군구명'].str[:3]\n",
    "\n",
    "# Sort the dataframe by '도착지_시군구명' in ascending order\n",
    "popin = popin.sort_values(by='도착지_시군구명').reset_index(drop=True)\n",
    "\n",
    "# Sort the dataframe by '도착지_시군구명' and then by '연령별(10세)' in ascending order\n",
    "popin = popin.sort_values(by=['도착지_시군구명', '연령별(10세)']).reset_index(drop=True)\n",
    "\n",
    "# Group the dataframe by '도착지_시군구명' and '연령별(10세)' and calculate the sum of '인구 수'\n",
    "popin_sort = popin.groupby(['도착지_시군구명', '연령별(10세)'])['인구 수'].sum().reset_index()\n",
    "\n",
    "\n",
    "# Display the grouped dataframe\n",
    "popin_sort.head()"
   ]
  },
  {
   "cell_type": "code",
   "execution_count": 12,
   "metadata": {},
   "outputs": [],
   "source": [
    "popin_sort.to_csv('./유입인구연령별_인구수.csv')"
   ]
  },
  {
   "cell_type": "code",
   "execution_count": 13,
   "metadata": {},
   "outputs": [
    {
     "data": {
      "text/html": [
       "<div>\n",
       "<style scoped>\n",
       "    .dataframe tbody tr th:only-of-type {\n",
       "        vertical-align: middle;\n",
       "    }\n",
       "\n",
       "    .dataframe tbody tr th {\n",
       "        vertical-align: top;\n",
       "    }\n",
       "\n",
       "    .dataframe thead th {\n",
       "        text-align: right;\n",
       "    }\n",
       "</style>\n",
       "<table border=\"1\" class=\"dataframe\">\n",
       "  <thead>\n",
       "    <tr style=\"text-align: right;\">\n",
       "      <th></th>\n",
       "      <th>도착지_시군구명</th>\n",
       "      <th>인구 수</th>\n",
       "    </tr>\n",
       "  </thead>\n",
       "  <tbody>\n",
       "    <tr>\n",
       "      <th>0</th>\n",
       "      <td>광명시</td>\n",
       "      <td>292390.85</td>\n",
       "    </tr>\n",
       "    <tr>\n",
       "      <th>1</th>\n",
       "      <td>부천시</td>\n",
       "      <td>763887.25</td>\n",
       "    </tr>\n",
       "    <tr>\n",
       "      <th>2</th>\n",
       "      <td>수원시</td>\n",
       "      <td>1573195.06</td>\n",
       "    </tr>\n",
       "    <tr>\n",
       "      <th>3</th>\n",
       "      <td>시흥시</td>\n",
       "      <td>525449.45</td>\n",
       "    </tr>\n",
       "    <tr>\n",
       "      <th>4</th>\n",
       "      <td>안산시</td>\n",
       "      <td>659174.26</td>\n",
       "    </tr>\n",
       "    <tr>\n",
       "      <th>5</th>\n",
       "      <td>안양시</td>\n",
       "      <td>691297.61</td>\n",
       "    </tr>\n",
       "    <tr>\n",
       "      <th>6</th>\n",
       "      <td>용인시</td>\n",
       "      <td>1464258.84</td>\n",
       "    </tr>\n",
       "    <tr>\n",
       "      <th>7</th>\n",
       "      <td>포천시</td>\n",
       "      <td>182241.77</td>\n",
       "    </tr>\n",
       "    <tr>\n",
       "      <th>8</th>\n",
       "      <td>하남시</td>\n",
       "      <td>369754.32</td>\n",
       "    </tr>\n",
       "    <tr>\n",
       "      <th>9</th>\n",
       "      <td>화성시</td>\n",
       "      <td>1366159.27</td>\n",
       "    </tr>\n",
       "  </tbody>\n",
       "</table>\n",
       "</div>"
      ],
      "text/plain": [
       "  도착지_시군구명        인구 수\n",
       "0      광명시   292390.85\n",
       "1      부천시   763887.25\n",
       "2      수원시  1573195.06\n",
       "3      시흥시   525449.45\n",
       "4      안산시   659174.26\n",
       "5      안양시   691297.61\n",
       "6      용인시  1464258.84\n",
       "7      포천시   182241.77\n",
       "8      하남시   369754.32\n",
       "9      화성시  1366159.27"
      ]
     },
     "execution_count": 13,
     "metadata": {},
     "output_type": "execute_result"
    }
   ],
   "source": [
    "all_popin = popin_sort.groupby('도착지_시군구명')['인구 수'].sum().reset_index()\n",
    "all_popin\n"
   ]
  },
  {
   "cell_type": "code",
   "execution_count": 14,
   "metadata": {},
   "outputs": [],
   "source": [
    "all_popin.to_csv('./202401_종합유입인구수.csv')"
   ]
  },
  {
   "cell_type": "code",
   "execution_count": 15,
   "metadata": {},
   "outputs": [],
   "source": [
    "## 202401 일별 평균 유출 인구수\n",
    "all_popin['일별평균유입인구'] = all_popin['인구 수'] / 31\n"
   ]
  },
  {
   "cell_type": "code",
   "execution_count": 16,
   "metadata": {},
   "outputs": [],
   "source": [
    "all_popin.to_csv('./202401_일별평균유입인구수.csv')"
   ]
  }
 ],
 "metadata": {
  "kernelspec": {
   "display_name": "Python 3",
   "language": "python",
   "name": "python3"
  },
  "language_info": {
   "codemirror_mode": {
    "name": "ipython",
    "version": 3
   },
   "file_extension": ".py",
   "mimetype": "text/x-python",
   "name": "python",
   "nbconvert_exporter": "python",
   "pygments_lexer": "ipython3",
   "version": "3.11.7"
  }
 },
 "nbformat": 4,
 "nbformat_minor": 2
}
