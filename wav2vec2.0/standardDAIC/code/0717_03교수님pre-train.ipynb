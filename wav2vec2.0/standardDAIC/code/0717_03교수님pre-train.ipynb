{
 "cells": [
  {
   "cell_type": "code",
   "execution_count": 1,
   "metadata": {},
   "outputs": [
    {
     "name": "stderr",
     "output_type": "stream",
     "text": [
      "c:\\Users\\ekfla\\AppData\\Local\\Programs\\Python\\Python36\\lib\\site-packages\\tqdm\\auto.py:22: TqdmWarning: IProgress not found. Please update jupyter and ipywidgets. See https://ipywidgets.readthedocs.io/en/stable/user_install.html\n",
      "  from .autonotebook import tqdm as notebook_tqdm\n"
     ]
    }
   ],
   "source": [
    "import os\n",
    "import torch\n",
    "from torch.utils.data import Dataset, DataLoader\n",
    "import librosa\n",
    "from tqdm import tqdm"
   ]
  },
  {
   "cell_type": "code",
   "execution_count": 2,
   "metadata": {},
   "outputs": [],
   "source": [
    "from transformers import Wav2Vec2ForPreTraining, Trainer, TrainingArguments"
   ]
  },
  {
   "cell_type": "code",
   "execution_count": null,
   "metadata": {},
   "outputs": [],
   "source": [
    "class AudioDataset(Dataset):\n",
    "    def __init__(self, directory):\n",
    "        self.directory = directory\n",
    "        self.filenames = [os.path.join(directory, f) for f in os.listdir(directory) if f.endswith('.wav')]\n",
    "        self.files = []\n",
    "\n",
    "        for file in tqdm(self.filenames, desc=\"Loading audio files\"):\n",
    "            audio, _ = librosa.load(file, sr=16000, mono=True)\n",
    "            self.files.append(torch.tensor(audio, dtype=torch.float32))\n",
    "\n",
    "    def __len__(self):\n",
    "        return len(self.files)\n",
    "\n",
    "    def __getitem__(self, idx):\n",
    "        return self.files[idx]\n",
    "\n",
    "# 데이터셋 인스턴스화\n",
    "dataset = AudioDataset('./reduce/data/train')  \n",
    "loader = DataLoader(dataset, batch_size=1, shuffle=True)\n",
    "\n",
    "# 사전 학습된 모델 로드\n",
    "model = Wav2Vec2ForPreTraining.from_pretrained(\"kresnik/wav2vec2-large-xlsr-korean\")\n",
    "\n",
    "# Trainer 설정\n",
    "training_args = TrainingArguments(\n",
    "    output_dir='./wav2vec2_pretrained',\n",
    "    per_device_train_batch_size=1,  # GPU 메모리에 따라 조정\n",
    "    num_train_epochs=10,            # 적절한 에폭 수 설정\n",
    "    logging_dir='./logs',\n",
    "    logging_steps=10,\n",
    "    save_steps=500,\n",
    "    do_train=True\n",
    ")\n",
    "\n",
    "trainer = Trainer(\n",
    "    model=model,\n",
    "    args=training_args,\n",
    "    data_collator=lambda data: {'input_values': torch.cat([x.unsqueeze(0) for x in data], 0)},\n",
    "    train_dataset=dataset\n",
    ")\n",
    "\n",
    "# Pre-training 시작\n",
    "trainer.train()"
   ]
  },
  {
   "cell_type": "code",
   "execution_count": 1,
   "metadata": {},
   "outputs": [
    {
     "name": "stderr",
     "output_type": "stream",
     "text": [
      "c:\\Users\\ekfla\\AppData\\Local\\Programs\\Python\\Python36\\lib\\site-packages\\tqdm\\auto.py:22: TqdmWarning: IProgress not found. Please update jupyter and ipywidgets. See https://ipywidgets.readthedocs.io/en/stable/user_install.html\n",
      "  from .autonotebook import tqdm as notebook_tqdm\n",
      "c:\\Users\\ekfla\\AppData\\Local\\Programs\\Python\\Python36\\lib\\site-packages\\torchaudio\\extension\\extension.py:13: UserWarning: torchaudio C++ extension is not available.\n",
      "  warnings.warn('torchaudio C++ extension is not available.')\n",
      "Some weights of the model checkpoint at facebook/wav2vec2-large-xlsr-53 were not used when initializing Wav2Vec2ForSequenceClassification: ['quantizer.weight_proj.bias', 'project_q.bias', 'quantizer.codevectors', 'quantizer.weight_proj.weight', 'project_hid.bias', 'project_hid.weight', 'project_q.weight']\n",
      "- This IS expected if you are initializing Wav2Vec2ForSequenceClassification from the checkpoint of a model trained on another task or with another architecture (e.g. initializing a BertForSequenceClassification model from a BertForPreTraining model).\n",
      "- This IS NOT expected if you are initializing Wav2Vec2ForSequenceClassification from the checkpoint of a model that you expect to be exactly identical (initializing a BertForSequenceClassification model from a BertForSequenceClassification model).\n",
      "Some weights of Wav2Vec2ForSequenceClassification were not initialized from the model checkpoint at facebook/wav2vec2-large-xlsr-53 and are newly initialized: ['projector.bias', 'classifier.weight', 'classifier.bias', 'projector.weight']\n",
      "You should probably TRAIN this model on a down-stream task to be able to use it for predictions and inference.\n",
      "***** Running training *****\n",
      "  Num examples = 2\n",
      "  Num Epochs = 3\n",
      "  Instantaneous batch size per device = 1\n",
      "  Total train batch size (w. parallel, distributed & accumulation) = 8\n",
      "  Gradient Accumulation steps = 8\n",
      "  Total optimization steps = 3\n",
      "100%|██████████| 3/3 [12:37<00:00, 251.42s/it]\n",
      "\n",
      "Training completed. Do not forget to share your model on huggingface.co/models =)\n",
      "\n",
      "\n",
      "100%|██████████| 3/3 [12:37<00:00, 252.44s/it]"
     ]
    },
    {
     "name": "stdout",
     "output_type": "stream",
     "text": [
      "{'train_runtime': 757.3309, 'train_samples_per_second': 0.008, 'train_steps_per_second': 0.004, 'train_loss': 0.17487879594167074, 'epoch': 3.0}\n"
     ]
    },
    {
     "name": "stderr",
     "output_type": "stream",
     "text": [
      "\n"
     ]
    },
    {
     "data": {
      "text/plain": [
       "TrainOutput(global_step=3, training_loss=0.17487879594167074, metrics={'train_runtime': 757.3309, 'train_samples_per_second': 0.008, 'train_steps_per_second': 0.004, 'train_loss': 0.17487879594167074, 'epoch': 3.0})"
      ]
     },
     "execution_count": 1,
     "metadata": {},
     "output_type": "execute_result"
    }
   ],
   "source": [
    "import os\n",
    "import torch\n",
    "from transformers import Wav2Vec2ForSequenceClassification, Trainer, TrainingArguments\n",
    "import torchaudio\n",
    "\n",
    "# Dummy dataset for demonstration\n",
    "class AudioDataset(torch.utils.data.Dataset):\n",
    "    def __init__(self, directory):\n",
    "        self.directory = directory\n",
    "        self.sr = 16000  # Sampling rate\n",
    "        self.files = [f for f in os.listdir(directory) if f.endswith('.wav')]\n",
    "        self.labels = [i % 2 for i in range(len(self.files))]  # Dummy binary labels\n",
    "\n",
    "    def __len__(self):\n",
    "        return len(self.files)\n",
    "\n",
    "    def __getitem__(self, idx):\n",
    "        file_path = os.path.join(self.directory, self.files[idx])\n",
    "        waveform, _ = torchaudio.load(file_path)\n",
    "        waveform = torchaudio.transforms.Resample(orig_freq=_, new_freq=self.sr)(waveform)\n",
    "        return waveform.squeeze(0), self.labels[idx]\n",
    "\n",
    "# Dummy model (Wav2Vec2ForSequenceClassification)\n",
    "model = Wav2Vec2ForSequenceClassification.from_pretrained(\"facebook/wav2vec2-large-xlsr-53\", num_labels=2)\n",
    "\n",
    "# Dummy dataset\n",
    "dataset = AudioDataset('./reduce/data/train')\n",
    "\n",
    "# Custom data collator (concatenates input_values)\n",
    "def data_collator(data):\n",
    "    waveforms, labels = zip(*data)\n",
    "    # Pad sequences to the same length\n",
    "    batched_waveforms = torch.nn.utils.rnn.pad_sequence(waveforms, batch_first=True)\n",
    "    return {\n",
    "        'input_values': batched_waveforms,\n",
    "        'labels': torch.tensor(labels)  # Class labels\n",
    "    }\n",
    "\n",
    "# Custom Trainer class inheriting from Trainer\n",
    "class CustomTrainer(Trainer):\n",
    "    def compute_loss(self, model, inputs):\n",
    "        outputs = model(input_values=inputs['input_values'], labels=inputs['labels'])\n",
    "        return outputs.loss\n",
    "\n",
    "# Trainer configuration\n",
    "training_args = TrainingArguments(\n",
    "    output_dir='./wav2vec2_pretrained',\n",
    "    per_device_train_batch_size=1,  # 배치 크기 줄임\n",
    "    gradient_accumulation_steps=8,  # Gradient Accumulation\n",
    "    num_train_epochs=3,\n",
    "    logging_dir='./logs',\n",
    "    logging_steps=10,\n",
    "    save_steps=500,\n",
    "    do_train=True\n",
    ")\n",
    "\n",
    "# Custom Trainer initialization\n",
    "trainer = CustomTrainer(\n",
    "    model=model,\n",
    "    args=training_args,\n",
    "    data_collator=data_collator,\n",
    "    train_dataset=dataset\n",
    ")\n",
    "\n",
    "# Start training\n",
    "trainer.train()\n"
   ]
  }
 ],
 "metadata": {
  "kernelspec": {
   "display_name": ".venv",
   "language": "python",
   "name": "python3"
  },
  "language_info": {
   "codemirror_mode": {
    "name": "ipython",
    "version": 3
   },
   "file_extension": ".py",
   "mimetype": "text/x-python",
   "name": "python",
   "nbconvert_exporter": "python",
   "pygments_lexer": "ipython3",
   "version": "3.6.8"
  }
 },
 "nbformat": 4,
 "nbformat_minor": 2
}
