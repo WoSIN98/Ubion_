{
 "cells": [
  {
   "cell_type": "code",
   "execution_count": 2,
   "metadata": {},
   "outputs": [
    {
     "name": "stdout",
     "output_type": "stream",
     "text": [
      "Collecting librosa\n",
      "  Downloading librosa-0.10.2.post1-py3-none-any.whl.metadata (8.6 kB)\n",
      "Collecting audioread>=2.1.9 (from librosa)\n",
      "  Downloading audioread-3.0.1-py3-none-any.whl.metadata (8.4 kB)\n",
      "Requirement already satisfied: numpy!=1.22.0,!=1.22.1,!=1.22.2,>=1.20.3 in c:\\users\\jws\\appdata\\local\\programs\\python\\python312\\lib\\site-packages (from librosa) (1.26.4)\n",
      "Requirement already satisfied: scipy>=1.2.0 in c:\\users\\jws\\appdata\\local\\programs\\python\\python312\\lib\\site-packages (from librosa) (1.12.0)\n",
      "Requirement already satisfied: scikit-learn>=0.20.0 in c:\\users\\jws\\appdata\\local\\programs\\python\\python312\\lib\\site-packages (from librosa) (1.4.1.post1)\n",
      "Requirement already satisfied: joblib>=0.14 in c:\\users\\jws\\appdata\\local\\programs\\python\\python312\\lib\\site-packages (from librosa) (1.3.2)\n",
      "Requirement already satisfied: decorator>=4.3.0 in c:\\users\\jws\\appdata\\roaming\\python\\python312\\site-packages (from librosa) (5.1.1)\n",
      "Collecting numba>=0.51.0 (from librosa)\n",
      "  Downloading numba-0.60.0-cp312-cp312-win_amd64.whl.metadata (2.8 kB)\n",
      "Requirement already satisfied: soundfile>=0.12.1 in c:\\users\\jws\\appdata\\local\\programs\\python\\python312\\lib\\site-packages (from librosa) (0.12.1)\n",
      "Collecting pooch>=1.1 (from librosa)\n",
      "  Downloading pooch-1.8.2-py3-none-any.whl.metadata (10 kB)\n",
      "Collecting soxr>=0.3.2 (from librosa)\n",
      "  Downloading soxr-0.3.7-cp312-cp312-win_amd64.whl.metadata (5.7 kB)\n",
      "Requirement already satisfied: typing-extensions>=4.1.1 in c:\\users\\jws\\appdata\\local\\programs\\python\\python312\\lib\\site-packages (from librosa) (4.11.0)\n",
      "Collecting lazy-loader>=0.1 (from librosa)\n",
      "  Downloading lazy_loader-0.4-py3-none-any.whl.metadata (7.6 kB)\n",
      "Collecting msgpack>=1.0 (from librosa)\n",
      "  Downloading msgpack-1.0.8-cp312-cp312-win_amd64.whl.metadata (9.4 kB)\n",
      "Requirement already satisfied: packaging in c:\\users\\jws\\appdata\\roaming\\python\\python312\\site-packages (from lazy-loader>=0.1->librosa) (24.0)\n",
      "Collecting llvmlite<0.44,>=0.43.0dev0 (from numba>=0.51.0->librosa)\n",
      "  Downloading llvmlite-0.43.0-cp312-cp312-win_amd64.whl.metadata (4.9 kB)\n",
      "Requirement already satisfied: platformdirs>=2.5.0 in c:\\users\\jws\\appdata\\roaming\\python\\python312\\site-packages (from pooch>=1.1->librosa) (4.2.0)\n",
      "Requirement already satisfied: requests>=2.19.0 in c:\\users\\jws\\appdata\\local\\programs\\python\\python312\\lib\\site-packages (from pooch>=1.1->librosa) (2.31.0)\n",
      "Requirement already satisfied: threadpoolctl>=2.0.0 in c:\\users\\jws\\appdata\\local\\programs\\python\\python312\\lib\\site-packages (from scikit-learn>=0.20.0->librosa) (3.4.0)\n",
      "Requirement already satisfied: cffi>=1.0 in c:\\users\\jws\\appdata\\local\\programs\\python\\python312\\lib\\site-packages (from soundfile>=0.12.1->librosa) (1.16.0)\n",
      "Requirement already satisfied: pycparser in c:\\users\\jws\\appdata\\local\\programs\\python\\python312\\lib\\site-packages (from cffi>=1.0->soundfile>=0.12.1->librosa) (2.21)\n",
      "Requirement already satisfied: charset-normalizer<4,>=2 in c:\\users\\jws\\appdata\\local\\programs\\python\\python312\\lib\\site-packages (from requests>=2.19.0->pooch>=1.1->librosa) (3.3.2)\n",
      "Requirement already satisfied: idna<4,>=2.5 in c:\\users\\jws\\appdata\\local\\programs\\python\\python312\\lib\\site-packages (from requests>=2.19.0->pooch>=1.1->librosa) (3.6)\n",
      "Requirement already satisfied: urllib3<3,>=1.21.1 in c:\\users\\jws\\appdata\\local\\programs\\python\\python312\\lib\\site-packages (from requests>=2.19.0->pooch>=1.1->librosa) (2.2.1)\n",
      "Requirement already satisfied: certifi>=2017.4.17 in c:\\users\\jws\\appdata\\local\\programs\\python\\python312\\lib\\site-packages (from requests>=2.19.0->pooch>=1.1->librosa) (2024.2.2)\n",
      "Downloading librosa-0.10.2.post1-py3-none-any.whl (260 kB)\n",
      "   ---------------------------------------- 0.0/260.1 kB ? eta -:--:--\n",
      "   ---------------------------------------- 260.1/260.1 kB 8.1 MB/s eta 0:00:00\n",
      "Downloading audioread-3.0.1-py3-none-any.whl (23 kB)\n",
      "Downloading lazy_loader-0.4-py3-none-any.whl (12 kB)\n",
      "Downloading msgpack-1.0.8-cp312-cp312-win_amd64.whl (75 kB)\n",
      "   ---------------------------------------- 0.0/75.3 kB ? eta -:--:--\n",
      "   ---------------------------------------- 75.3/75.3 kB ? eta 0:00:00\n",
      "Downloading numba-0.60.0-cp312-cp312-win_amd64.whl (2.7 MB)\n",
      "   ---------------------------------------- 0.0/2.7 MB ? eta -:--:--\n",
      "   ---------------------------------------  2.7/2.7 MB 84.2 MB/s eta 0:00:01\n",
      "   ---------------------------------------- 2.7/2.7 MB 57.4 MB/s eta 0:00:00\n",
      "Downloading pooch-1.8.2-py3-none-any.whl (64 kB)\n",
      "   ---------------------------------------- 0.0/64.6 kB ? eta -:--:--\n",
      "   ---------------------------------------- 64.6/64.6 kB 3.4 MB/s eta 0:00:00\n",
      "Downloading soxr-0.3.7-cp312-cp312-win_amd64.whl (184 kB)\n",
      "   ---------------------------------------- 0.0/184.1 kB ? eta -:--:--\n",
      "   --------------------------------------- 184.1/184.1 kB 11.6 MB/s eta 0:00:00\n",
      "Downloading llvmlite-0.43.0-cp312-cp312-win_amd64.whl (28.1 MB)\n",
      "   ---------------------------------------- 0.0/28.1 MB ? eta -:--:--\n",
      "   ---------------------------------------- 0.3/28.1 MB 9.0 MB/s eta 0:00:04\n",
      "   -- ------------------------------------- 1.6/28.1 MB 17.3 MB/s eta 0:00:02\n",
      "   ------- -------------------------------- 5.1/28.1 MB 36.2 MB/s eta 0:00:01\n",
      "   ----------- ---------------------------- 8.0/28.1 MB 42.3 MB/s eta 0:00:01\n",
      "   --------------- ------------------------ 10.7/28.1 MB 59.5 MB/s eta 0:00:01\n",
      "   ------------------- -------------------- 13.5/28.1 MB 65.2 MB/s eta 0:00:01\n",
      "   ----------------------- ---------------- 16.2/28.1 MB 54.4 MB/s eta 0:00:01\n",
      "   ----------------------- ---------------- 16.7/28.1 MB 54.4 MB/s eta 0:00:01\n",
      "   ------------------------- -------------- 17.7/28.1 MB 43.5 MB/s eta 0:00:01\n",
      "   ----------------------------- ---------- 20.6/28.1 MB 43.5 MB/s eta 0:00:01\n",
      "   ----------------------------- ---------- 20.6/28.1 MB 43.5 MB/s eta 0:00:01\n",
      "   --------------------------------- ------ 23.4/28.1 MB 34.4 MB/s eta 0:00:01\n",
      "   ------------------------------------ --- 25.6/28.1 MB 36.4 MB/s eta 0:00:01\n",
      "   ------------------------------------- -- 26.1/28.1 MB 31.2 MB/s eta 0:00:01\n",
      "   -------------------------------------- - 26.9/28.1 MB 36.4 MB/s eta 0:00:01\n",
      "   ---------------------------------------  28.1/28.1 MB 34.4 MB/s eta 0:00:01\n",
      "   ---------------------------------------- 28.1/28.1 MB 28.4 MB/s eta 0:00:00\n",
      "Installing collected packages: soxr, msgpack, llvmlite, lazy-loader, audioread, pooch, numba, librosa\n",
      "Successfully installed audioread-3.0.1 lazy-loader-0.4 librosa-0.10.2.post1 llvmlite-0.43.0 msgpack-1.0.8 numba-0.60.0 pooch-1.8.2 soxr-0.3.7\n"
     ]
    },
    {
     "name": "stderr",
     "output_type": "stream",
     "text": [
      "\n",
      "[notice] A new release of pip is available: 24.0 -> 24.1.2\n",
      "[notice] To update, run: python.exe -m pip install --upgrade pip\n"
     ]
    }
   ],
   "source": [
    "# !pip install librosa"
   ]
  },
  {
   "cell_type": "code",
   "execution_count": 4,
   "metadata": {},
   "outputs": [],
   "source": [
    "import numpy as np\n",
    "import librosa as lr\n",
    "import soundfile as sf\n",
    "import struct\n",
    "import pathlib\n"
   ]
  },
  {
   "cell_type": "code",
   "execution_count": 25,
   "metadata": {},
   "outputs": [],
   "source": [
    "\n",
    "target = \"../data/test/KsponSpeech_000003.pcm\"\n",
    "destinationPath = \"../data2/KsponSpeech/sample.wav\"\n",
    "buf = None\n",
    "\n",
    "with open(target, 'rb') as tf:\n",
    "    buf = tf.read()\n",
    "    buf = buf+b'0' if len(buf)%2 else buf    # padding 0 (경우에 따라서 PCM 파일의 길이가 8bit[1byte]로 나누어 떨어지지 않는 경우가 있어 0으로 패딩값을 더해준다, 해당 처리를 하지 않는 경우 numpy나 librosa 라이브러리 사용 시 오류가 날 수 있다)\n",
    "\n",
    "pcm_data = np.frombuffer(buf, dtype='int16')\n",
    "wav_data = lr.util.buf_to_float(x=pcm_data, n_bytes=2)\n",
    "sf.write(destinationPath, wav_data, 16000, format='WAV', endian='LITTLE', subtype='PCM_16')"
   ]
  },
  {
   "cell_type": "code",
   "execution_count": 23,
   "metadata": {},
   "outputs": [],
   "source": [
    "def make_wav_format(pcm_data:bytes, ch:int) -> bytes:\n",
    "        \"\"\" \n",
    "        pcm_data를 통해서 wav 헤더를 만들고 wav 형식으로 저장한다.\n",
    "        :param pcm_data: pcm bytes\n",
    "        :param ch: 채널 수\n",
    "        :return wav: wave bytes\n",
    "        \"\"\"\n",
    "        waves = []\n",
    "        waves.append(struct.pack('<4s', b'RIFF'))\n",
    "        waves.append(struct.pack('I', 1))  \n",
    "        waves.append(struct.pack('4s', b'WAVE'))\n",
    "        waves.append(struct.pack('4s', b'fmt '))\n",
    "        waves.append(struct.pack('I', 16))\n",
    "        # audio_format, channel_cnt, sample_rate, bytes_rate(sr*blockalign:초당 바이츠수), block_align, bps\n",
    "        if ch == 2:\n",
    "            waves.append(struct.pack('HHIIHH', 1, 2, 16000, 64000, 4, 16))  \n",
    "        else:\n",
    "            waves.append(struct.pack('HHIIHH', 1, 1, 16000, 32000, 2, 16))\n",
    "        waves.append(struct.pack('<4s', b'data'))\n",
    "        waves.append(struct.pack('I', len(pcm_data)))\n",
    "        waves.append(pcm_data)\n",
    "        waves[1] = struct.pack('I', sum(len(w) for w in waves[2:]))\n",
    "        return b''.join(waves)"
   ]
  },
  {
   "cell_type": "code",
   "execution_count": 29,
   "metadata": {},
   "outputs": [],
   "source": [
    "\n",
    "pcm_bytes = pathlib.Path(\"../data/KsponSpeech_0002/KsponSpeech_001007.pcm\").read_bytes()\n",
    "wav_bytes = make_wav_format(pcm_bytes, 1)\n",
    "with open('../data2/KsponSpeech/KsponSpeech_001007.pcm.wav', 'wb') as file:\n",
    "     file.write(wav_bytes)"
   ]
  }
 ],
 "metadata": {
  "kernelspec": {
   "display_name": "Python 3",
   "language": "python",
   "name": "python3"
  },
  "language_info": {
   "codemirror_mode": {
    "name": "ipython",
    "version": 3
   },
   "file_extension": ".py",
   "mimetype": "text/x-python",
   "name": "python",
   "nbconvert_exporter": "python",
   "pygments_lexer": "ipython3",
   "version": "3.12.2"
  }
 },
 "nbformat": 4,
 "nbformat_minor": 2
}
