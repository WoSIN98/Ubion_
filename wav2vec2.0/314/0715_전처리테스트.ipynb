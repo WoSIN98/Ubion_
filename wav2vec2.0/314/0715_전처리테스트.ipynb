{
 "cells": [
  {
   "cell_type": "code",
   "execution_count": 1,
   "metadata": {},
   "outputs": [
    {
     "name": "stdout",
     "output_type": "stream",
     "text": [
      "Collecting pydub\n",
      "  Downloading pydub-0.25.1-py2.py3-none-any.whl.metadata (1.4 kB)\n",
      "Downloading pydub-0.25.1-py2.py3-none-any.whl (32 kB)\n",
      "Installing collected packages: pydub\n",
      "Successfully installed pydub-0.25.1\n"
     ]
    },
    {
     "name": "stderr",
     "output_type": "stream",
     "text": [
      "\n",
      "[notice] A new release of pip is available: 24.0 -> 24.1.2\n",
      "[notice] To update, run: python.exe -m pip install --upgrade pip\n"
     ]
    }
   ],
   "source": [
    "#!pip install pydub"
   ]
  },
  {
   "cell_type": "code",
   "execution_count": 3,
   "metadata": {},
   "outputs": [
    {
     "ename": "NameError",
     "evalue": "name 'non_ellie_data' is not defined",
     "output_type": "error",
     "traceback": [
      "\u001b[1;31m---------------------------------------------------------------------------\u001b[0m",
      "\u001b[1;31mNameError\u001b[0m                                 Traceback (most recent call last)",
      "Cell \u001b[1;32mIn[3], line 52\u001b[0m\n\u001b[0;32m     50\u001b[0m \u001b[38;5;66;03m# 오디오 슬라이스 처리 함수 호출\u001b[39;00m\n\u001b[0;32m     51\u001b[0m output_directory \u001b[38;5;241m=\u001b[39m \u001b[38;5;124m'\u001b[39m\u001b[38;5;124m./data/processed_audio\u001b[39m\u001b[38;5;124m'\u001b[39m\n\u001b[1;32m---> 52\u001b[0m process_audio_slices(\u001b[43mnon_ellie_data\u001b[49m, audio, output_directory)\n",
      "\u001b[1;31mNameError\u001b[0m: name 'non_ellie_data' is not defined"
     ]
    }
   ],
   "source": [
    "import os\n",
    "from pydub import AudioSegment\n",
    "\n",
    "# WAV 파일을 로드하고 처리하는 함수 정의\n",
    "def process_audio_slices(data, audio_segment, output_dir):\n",
    "    current_length_ms = 0  # 현재 오디오 파일의 길이를 밀리초 단위로 추적\n",
    "    combined_audio = None  # 결합된 오디오 세그먼트를 저장\n",
    "    file_index = 1  # 출력 파일의 인덱스 번호\n",
    "    \n",
    "    # 출력 디렉토리가 존재하는지 확인, 없으면 생성\n",
    "    os.makedirs(output_dir, exist_ok=True)\n",
    "    \n",
    "    for _, row in data.iterrows():\n",
    "        # 시작 및 종료 시간을 밀리초 단위로 계산\n",
    "        start_ms = int(row['start_time'] * 1000)\n",
    "        stop_ms = int(row['stop_time'] * 1000)\n",
    "        \n",
    "        # 오디오 세그먼트 추출\n",
    "        segment = audio_segment[start_ms:stop_ms]\n",
    "        \n",
    "        # 결합된 오디오가 없다면 초기화\n",
    "        if combined_audio is None:\n",
    "            combined_audio = segment\n",
    "            current_length_ms = segment.duration_seconds * 1000\n",
    "        else:\n",
    "            # 세그먼트를 결합된 오디오에 추가하고 길이 업데이트\n",
    "            combined_audio += segment\n",
    "            current_length_ms += segment.duration_seconds * 1000\n",
    "        \n",
    "        # 결합된 오디오 길이가 60초를 초과하는지 확인\n",
    "        if current_length_ms >= 60000:\n",
    "            # 현재 결합된 오디오를 파일로 저장\n",
    "            output_path = os.path.join(output_dir, f\"combined_audio_{file_index}.wav\")\n",
    "            combined_audio.export(output_path, format=\"wav\")\n",
    "            file_index += 1\n",
    "            \n",
    "            # 결합된 오디오와 길이를 초기화\n",
    "            combined_audio = None\n",
    "            current_length_ms = 0\n",
    "    \n",
    "    # 루프 후 남은 오디오가 있다면 파일로 저장\n",
    "    if combined_audio:\n",
    "        output_path = os.path.join(output_dir, f\"combined_audio_{file_index}.wav\")\n",
    "        combined_audio.export(output_path, format=\"wav\")\n",
    "\n",
    "# 오디오 파일을 로드\n",
    "wav_path = './data/314_AUDIO.wav'\n",
    "audio = AudioSegment.from_wav(wav_path)\n",
    "\n",
    "# 오디오 슬라이스 처리 함수 호출\n",
    "output_directory = './data/processed_audio'\n",
    "process_audio_slices(non_ellie_data, audio, output_directory)\n"
   ]
  },
  {
   "cell_type": "code",
   "execution_count": 8,
   "metadata": {},
   "outputs": [],
   "source": [
    "import os\n",
    "from pydub import AudioSegment\n",
    "import pandas as pd\n",
    "\n",
    "# CSV 파일을 로드하고 탭으로 구분된 값을 올바르게 파싱\n",
    "csv_path = './data/314_TRANSCRIPT.csv'\n",
    "transcript_data = pd.read_csv(csv_path, sep=\"\\t\")\n",
    "\n",
    "# Ellie가 아닌 다른 발화자의 데이터만 필터링\n",
    "non_ellie_data = transcript_data[transcript_data['speaker'] != 'Ellie']\n",
    "\n",
    "# WAV 파일 로드\n",
    "wav_path = './data/314_AUDIO.wav'\n",
    "audio = AudioSegment.from_wav(wav_path)\n",
    "\n",
    "# WAV 파일을 로드하고 처리하는 함수 정의\n",
    "def process_audio_slices(data, audio_segment, output_dir):\n",
    "    current_length_ms = 0  # 현재 오디오 파일의 길이를 밀리초 단위로 추적\n",
    "    combined_audio = None  # 결합된 오디오 세그먼트를 저장\n",
    "    file_index = 1  # 출력 파일의 인덱스 번호\n",
    "    \n",
    "    # 출력 디렉토리가 존재하는지 확인, 없으면 생성\n",
    "    os.makedirs(output_dir, exist_ok=True)\n",
    "    \n",
    "    for _, row in data.iterrows():\n",
    "        # 시작 및 종료 시간을 밀리초 단위로 계산\n",
    "        start_ms = int(row['start_time'] * 1000)\n",
    "        stop_ms = int(row['stop_time'] * 1000)\n",
    "        \n",
    "        # 오디오 세그먼트 추출\n",
    "        segment = audio_segment[start_ms:stop_ms]\n",
    "        \n",
    "        # 결합된 오디오가 없다면 초기화\n",
    "        if combined_audio is None:\n",
    "            combined_audio = segment\n",
    "            current_length_ms = segment.duration_seconds * 1000\n",
    "        else:\n",
    "            # 세그먼트를 결합된 오디오에 추가하고 길이 업데이트\n",
    "            combined_audio += segment\n",
    "            current_length_ms += segment.duration_seconds * 1000\n",
    "        \n",
    "        # 결합된 오디오 길이가 60초를 초과하는지 확인\n",
    "        if current_length_ms >= 30000:\n",
    "            # 현재 결합된 오디오를 파일로 저장\n",
    "            output_path = os.path.join(output_dir, f\"combined_audio_{file_index}.wav\")\n",
    "            combined_audio.export(output_path, format=\"wav\")\n",
    "            file_index += 1\n",
    "            \n",
    "            # 결합된 오디오와 길이를 초기화\n",
    "            combined_audio = None\n",
    "            current_length_ms = 0\n",
    "    \n",
    "    # 루프 후 남은 오디오가 있다면 파일로 저장\n",
    "    if combined_audio:\n",
    "        output_path = os.path.join(output_dir, f\"combined_audio_{file_index}.wav\")\n",
    "        combined_audio.export(output_path, format=\"wav\")\n",
    "\n",
    "# 오디오 슬라이스 처리 함수 호출\n",
    "output_directory = './output'\n",
    "process_audio_slices(non_ellie_data, audio, output_directory)\n"
   ]
  }
 ],
 "metadata": {
  "kernelspec": {
   "display_name": "Python 3",
   "language": "python",
   "name": "python3"
  },
  "language_info": {
   "codemirror_mode": {
    "name": "ipython",
    "version": 3
   },
   "file_extension": ".py",
   "mimetype": "text/x-python",
   "name": "python",
   "nbconvert_exporter": "python",
   "pygments_lexer": "ipython3",
   "version": "3.12.2"
  }
 },
 "nbformat": 4,
 "nbformat_minor": 2
}
