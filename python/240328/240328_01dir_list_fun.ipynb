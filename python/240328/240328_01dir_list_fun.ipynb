{
 "cells": [
  {
   "cell_type": "code",
   "execution_count": 1,
   "metadata": {},
   "outputs": [],
   "source": [
    "import os\n",
    "import glob\n",
    "import pandas as pd"
   ]
  },
  {
   "cell_type": "code",
   "execution_count": 3,
   "metadata": {},
   "outputs": [
    {
     "name": "stdout",
     "output_type": "stream",
     "text": [
      "['campaign_master.csv', 'class_master.csv', 'customer_master.csv', 'use_log.csv']\n",
      "['../../csv/num_3\\\\campaign_master.csv', '../../csv/num_3\\\\class_master.csv', '../../csv/num_3\\\\customer_master.csv', '../../csv/num_3\\\\use_log.csv']\n"
     ]
    }
   ],
   "source": [
    "## os 라이브러리를 이용하여 파일의 목록\n",
    "print(\n",
    "    os.listdir('../../csv/num_3')\n",
    ")\n",
    "## glob 라이브러리를 이용하여 파일의 목록\n",
    "print(\n",
    "    glob.glob('../../csv/num_3/*.*')                           # * 전체를 의미 *.* : 전체파일을 가져오겠다. 확장자도 전체를 보겠다.\n",
    "                                                               # *.csv : 전체파일을 가져오겠다. 그 중 csv확장자만 보겠다.\n",
    "    \n",
    ")"
   ]
  },
  {
   "cell_type": "code",
   "execution_count": 4,
   "metadata": {},
   "outputs": [
    {
     "data": {
      "text/plain": [
       "['../../csv/num_3\\\\campaign_master.csv',\n",
       " '../../csv/num_3\\\\class_master.csv',\n",
       " '../../csv/num_3\\\\customer_master.csv',\n",
       " '../../csv/num_3\\\\use_log.csv']"
      ]
     },
     "execution_count": 4,
     "metadata": {},
     "output_type": "execute_result"
    }
   ],
   "source": [
    "file_list = glob.glob(\"../../csv/num_3/*.csv\")\n",
    "file_list"
   ]
  },
  {
   "cell_type": "code",
   "execution_count": 13,
   "metadata": {},
   "outputs": [
    {
     "name": "stdout",
     "output_type": "stream",
     "text": [
      "../../csv/num_3   campaign_master.csv\n",
      "../../csv/num_3   class_master.csv\n",
      "../../csv/num_3   customer_master.csv\n",
      "../../csv/num_3   use_log.csv\n"
     ]
    }
   ],
   "source": [
    "for file in file_list:\n",
    "    # print(file)\n",
    "    # df = pd.read_csv(file)\n",
    "    ## 경로와 파일을 나눠준다.\n",
    "    folder, name = os.path.split(file)\n",
    "    # print(folder,  ' ' , name )\n",
    "    head, tail = os.path.splitext(name)\n",
    "    # print(head, \" \", tail)\n",
    "    globals()[f\"{head}\"] = pd.read_csv(file) \n",
    "# df"
   ]
  },
  {
   "cell_type": "code",
   "execution_count": 16,
   "metadata": {},
   "outputs": [
    {
     "data": {
      "text/html": [
       "<div>\n",
       "<style scoped>\n",
       "    .dataframe tbody tr th:only-of-type {\n",
       "        vertical-align: middle;\n",
       "    }\n",
       "\n",
       "    .dataframe tbody tr th {\n",
       "        vertical-align: top;\n",
       "    }\n",
       "\n",
       "    .dataframe thead th {\n",
       "        text-align: right;\n",
       "    }\n",
       "</style>\n",
       "<table border=\"1\" class=\"dataframe\">\n",
       "  <thead>\n",
       "    <tr style=\"text-align: right;\">\n",
       "      <th></th>\n",
       "      <th>class</th>\n",
       "      <th>class_name</th>\n",
       "      <th>price</th>\n",
       "    </tr>\n",
       "  </thead>\n",
       "  <tbody>\n",
       "    <tr>\n",
       "      <th>0</th>\n",
       "      <td>C01</td>\n",
       "      <td>0_종일</td>\n",
       "      <td>10500</td>\n",
       "    </tr>\n",
       "    <tr>\n",
       "      <th>1</th>\n",
       "      <td>C02</td>\n",
       "      <td>1_주간</td>\n",
       "      <td>7500</td>\n",
       "    </tr>\n",
       "    <tr>\n",
       "      <th>2</th>\n",
       "      <td>C03</td>\n",
       "      <td>2_야간</td>\n",
       "      <td>6000</td>\n",
       "    </tr>\n",
       "  </tbody>\n",
       "</table>\n",
       "</div>"
      ],
      "text/plain": [
       "  class class_name  price\n",
       "0   C01       0_종일  10500\n",
       "1   C02       1_주간   7500\n",
       "2   C03       2_야간   6000"
      ]
     },
     "execution_count": 16,
     "metadata": {},
     "output_type": "execute_result"
    }
   ],
   "source": [
    "class_master"
   ]
  },
  {
   "cell_type": "code",
   "execution_count": 26,
   "metadata": {},
   "outputs": [],
   "source": [
    "## 특정 경로에 있는 파일의 목록들을 각각 파일의 이름으로 전역변수 생성하는 함수 생성  # 녹음 3:18\n",
    "# 매개변수 : 경로\n",
    "def data_load2(_path):\n",
    "    # 입력받은 경로를 기준으로 파일의 목록을 모두 로드한다.\n",
    "    file_list = glob.glob(_path+'/*.*')\n",
    "    # 반복 실행 file_list를 이용하여 \n",
    "    for file in file_list:\n",
    "        # 경로와 파일명을 나눠준다.\n",
    "        foler, name = os.path.split(file)\n",
    "        # 파일명에서 이름과 확장자를 나눠준다.\n",
    "        head, tail = os.path.splitext(name)\n",
    "        # tail의 형태는 : \".확장자\"\n",
    "        if tail == '.csv':\n",
    "            df = pd.read_csv(file)\n",
    "        elif tail == '.json':\n",
    "            df = pd.read_json(file)\n",
    "        elif tail == '.xml':\n",
    "            df = pd.read_xml(file)\n",
    "        elif tail in ['.xlsx', '.xls']:\n",
    "            df = pd.read_excel(file)\n",
    "        else:\n",
    "            print(\"지원하지 않는 타입입니다.\")\n",
    "            continue \n",
    "        globals()[f\"{head}\"] = df.copy()\n",
    "        print(f\"{head} 전역변수 저장 완료\")\n",
    "    \n",
    "    return f\"{_path} 파일의 목록 저장 완료\""
   ]
  },
  {
   "cell_type": "code",
   "execution_count": 27,
   "metadata": {},
   "outputs": [
    {
     "name": "stdout",
     "output_type": "stream",
     "text": [
      "campaign_master 전역변수 저장 완료\n",
      "class_master 전역변수 저장 완료\n",
      "customer_master 전역변수 저장 완료\n",
      "use_log 전역변수 저장 완료\n"
     ]
    },
    {
     "data": {
      "text/plain": [
       "'../../csv/num_3 파일의 목록 저장 완료'"
      ]
     },
     "execution_count": 27,
     "metadata": {},
     "output_type": "execute_result"
    }
   ],
   "source": [
    "data_load2('../../csv/num_3')"
   ]
  },
  {
   "cell_type": "code",
   "execution_count": 32,
   "metadata": {},
   "outputs": [],
   "source": [
    "## 파일을 데이터프레임으로 로드하는 함수 하나 생성 \n",
    "# 매개변수 2개 : 상대경로 | 절대경로 , encording = 'utf-8'\n",
    "def read_df(_path, _encoding = 'utf-8'):\n",
    "    # 입력받은 데이터에서 확장자를 분리해준다. \n",
    "    head, tail = os.path.splitext(_path)\n",
    "    # print(tail)\n",
    "    if tail == '.csv':\n",
    "        df = pd.read_csv(_path, encoding = _encoding)\n",
    "    elif tail == '.json':\n",
    "        df = pd.read_json(_path, encoding = _encoding)\n",
    "    elif tail == '.xml':\n",
    "        df = pd.read_xml(_path, encoding = _encoding)\n",
    "    elif tail in ['.xlsx', '.xls']:\n",
    "        df = pd.read_excel(_path)                              # read_excel에는 encoding 매개변수가 없다. 필요하지 않아서.\n",
    "    else:\n",
    "        df = pd.DataFrame()\n",
    "    return df\n"
   ]
  },
  {
   "cell_type": "code",
   "execution_count": 33,
   "metadata": {},
   "outputs": [
    {
     "data": {
      "text/html": [
       "<div>\n",
       "<style scoped>\n",
       "    .dataframe tbody tr th:only-of-type {\n",
       "        vertical-align: middle;\n",
       "    }\n",
       "\n",
       "    .dataframe tbody tr th {\n",
       "        vertical-align: top;\n",
       "    }\n",
       "\n",
       "    .dataframe thead th {\n",
       "        text-align: right;\n",
       "    }\n",
       "</style>\n",
       "<table border=\"1\" class=\"dataframe\">\n",
       "  <thead>\n",
       "    <tr style=\"text-align: right;\">\n",
       "      <th></th>\n",
       "      <th>구분</th>\n",
       "      <th>사고(건)</th>\n",
       "      <th>사망(명)</th>\n",
       "      <th>부상(명)</th>\n",
       "    </tr>\n",
       "  </thead>\n",
       "  <tbody>\n",
       "    <tr>\n",
       "      <th>0</th>\n",
       "      <td>2014년1월</td>\n",
       "      <td>169</td>\n",
       "      <td>7</td>\n",
       "      <td>347</td>\n",
       "    </tr>\n",
       "    <tr>\n",
       "      <th>1</th>\n",
       "      <td>2014년2월</td>\n",
       "      <td>145</td>\n",
       "      <td>3</td>\n",
       "      <td>268</td>\n",
       "    </tr>\n",
       "    <tr>\n",
       "      <th>2</th>\n",
       "      <td>2014년3월</td>\n",
       "      <td>206</td>\n",
       "      <td>12</td>\n",
       "      <td>358</td>\n",
       "    </tr>\n",
       "    <tr>\n",
       "      <th>3</th>\n",
       "      <td>2014년4월</td>\n",
       "      <td>182</td>\n",
       "      <td>4</td>\n",
       "      <td>360</td>\n",
       "    </tr>\n",
       "    <tr>\n",
       "      <th>4</th>\n",
       "      <td>2014년5월</td>\n",
       "      <td>218</td>\n",
       "      <td>17</td>\n",
       "      <td>474</td>\n",
       "    </tr>\n",
       "    <tr>\n",
       "      <th>5</th>\n",
       "      <td>2014년6월</td>\n",
       "      <td>233</td>\n",
       "      <td>13</td>\n",
       "      <td>457</td>\n",
       "    </tr>\n",
       "    <tr>\n",
       "      <th>6</th>\n",
       "      <td>2014년7월</td>\n",
       "      <td>229</td>\n",
       "      <td>14</td>\n",
       "      <td>431</td>\n",
       "    </tr>\n",
       "    <tr>\n",
       "      <th>7</th>\n",
       "      <td>2014년8월</td>\n",
       "      <td>222</td>\n",
       "      <td>9</td>\n",
       "      <td>447</td>\n",
       "    </tr>\n",
       "    <tr>\n",
       "      <th>8</th>\n",
       "      <td>2014년9월</td>\n",
       "      <td>225</td>\n",
       "      <td>15</td>\n",
       "      <td>430</td>\n",
       "    </tr>\n",
       "    <tr>\n",
       "      <th>9</th>\n",
       "      <td>2014년10월</td>\n",
       "      <td>210</td>\n",
       "      <td>14</td>\n",
       "      <td>392</td>\n",
       "    </tr>\n",
       "    <tr>\n",
       "      <th>10</th>\n",
       "      <td>2014년11월</td>\n",
       "      <td>209</td>\n",
       "      <td>10</td>\n",
       "      <td>386</td>\n",
       "    </tr>\n",
       "    <tr>\n",
       "      <th>11</th>\n",
       "      <td>2014년12월</td>\n",
       "      <td>178</td>\n",
       "      <td>12</td>\n",
       "      <td>329</td>\n",
       "    </tr>\n",
       "  </tbody>\n",
       "</table>\n",
       "</div>"
      ],
      "text/plain": [
       "          구분  사고(건)  사망(명)  부상(명)\n",
       "0    2014년1월    169      7    347\n",
       "1    2014년2월    145      3    268\n",
       "2    2014년3월    206     12    358\n",
       "3    2014년4월    182      4    360\n",
       "4    2014년5월    218     17    474\n",
       "5    2014년6월    233     13    457\n",
       "6    2014년7월    229     14    431\n",
       "7    2014년8월    222      9    447\n",
       "8    2014년9월    225     15    430\n",
       "9   2014년10월    210     14    392\n",
       "10  2014년11월    209     10    386\n",
       "11  2014년12월    178     12    329"
      ]
     },
     "execution_count": 33,
     "metadata": {},
     "output_type": "execute_result"
    }
   ],
   "source": [
    "read_df('../../csv/2014.csv', 'cp949')"
   ]
  },
  {
   "cell_type": "code",
   "execution_count": null,
   "metadata": {},
   "outputs": [],
   "source": []
  },
  {
   "cell_type": "code",
   "execution_count": null,
   "metadata": {},
   "outputs": [],
   "source": [
    "## ----------------------- velog에 적은 글"
   ]
  },
  {
   "cell_type": "code",
   "execution_count": null,
   "metadata": {},
   "outputs": [],
   "source": [
    "## 파일을 데이터프레임으로 로드하는 함수\n",
    "# 매개변수 2개 : 상세경로, _encoding = 'utf-8\n",
    "def read_df(_path, _encoding= 'utf-8'):\n",
    "    head, tail = os.path.splitext(_path)\n",
    "    \t# 입력받은 데이터에서 확장자를 분리해준다.\n",
    "        # splitext이므로 확장자에 . 붙어서 나온다.\n",
    "    if tail == '.csv':\n",
    "        df = pd.read_csv(_path, encoding = _encoding)\n",
    "    elif tail == '.json':\n",
    "        df = pd.read_json(_path, encoding = _encoding)\n",
    "    elif tail == '.xml':\n",
    "        df = pd.read_xml(_path, encoding = _encoding)\n",
    "    elif tail in ['.xlsx', '.xls']:\n",
    "        df = pd.read_excel(_path)                              \n",
    "    else:\n",
    "        df = pd.DataFrame()\n",
    "    return df"
   ]
  },
  {
   "cell_type": "code",
   "execution_count": null,
   "metadata": {},
   "outputs": [],
   "source": [
    "## 지정된 경로에서 파일들을 하나의 df로 결합하여 되돌려주는 함수\n",
    "# 매개변수 : 폴더경로, 확장자명\n",
    "def data_load(_folderpath, _end = 'csv'):\n",
    "\t\t# _filepath : 폴더 경로\n",
    "    \t# _end : 파일의 확장자명\n",
    "    \n",
    "    file_list = os.listdir(_folderpath)\n",
    "    \t# 입력한 폴더 경로에 있는 파일 리스트를 변수에 저장\n",
    "    result = pd.DataFrame()\n",
    "    \t# 비어있는 df 생성\n",
    "    _folderpath = _folderpath + '/'\n",
    "    \t# _folderpath+file 해줘야하므로  / 붙여준다.\n",
    "    \n",
    "    for file in file_list:\n",
    "    \t\t# file -> 파일명\n",
    "        if file.endswith(_end):\n",
    "        \t\t# 확장자가 유저가 입력한 확장자와 같다면\n",
    "            try: \n",
    "                df = read_df(_folderpath+file)        \n",
    "                  # 여기서 file은 os.listdir에서 가져왔으므로 파일명이다. \n",
    "                  #  따라서 read_df에 _folderpaht+file 넣어준다.\n",
    "            except:\n",
    "                try:\n",
    "                    df = read_df(_folderpath+file,'CP949')\n",
    "                except:\n",
    "                    df = read_df(_folderpath+file, 'EUC-KR')\n",
    "            result = pd.concat([result, df], ignore_index = True)\n",
    "            \t# df를 result에 유니언 결합\n",
    "    return result "
   ]
  },
  {
   "cell_type": "code",
   "execution_count": null,
   "metadata": {},
   "outputs": [],
   "source": [
    "## 특정경로에 있는 파일의 목록들을 각각 파일의 이름으로 변수 생성하는 함수\n",
    "# 매개변수 : 폴더 경로\n",
    "def data_loadG(_folderpath):\n",
    "    file_list = glob.glob(_folderpath+'/*.*')\n",
    "    \t# 폴더 경로를 기준으로 파일 목록을 모두 로드\n",
    "\t\t# glob이므로 폴더 경로와 파일명 다 붙어서 나온다.\n",
    "        \n",
    "    result = dict()\n",
    "    \t# 비어있는 딕셔너리 생성\n",
    "    for file in file_list:               \n",
    "        folder, name = os.path.split(file)\n",
    "         # 폴더 경로와 파일명을 나눠준다.\n",
    "        head, tail = os.path.splitext(name)\n",
    "         # 파일명을 이름과 확장자로 나눠준다.\n",
    "         # splitext이므로 확장자에 . 붙어서 나온다.\n",
    "        try:  \n",
    "            df = read_df(file)                \n",
    "            # 여기서 file은 glob에서 가져왔으므로 상세경로이다. \n",
    "            #  그래서 read_df에 file만 넣는다.\n",
    "        except:\n",
    "            try:\n",
    "                df = read_df(file, 'CP949')\n",
    "            except:\n",
    "                df = read_df(file, 'EUC-KR')\n",
    "\n",
    "        if len(df) != 0:\n",
    "            result[f'{head}'] = df.copy()\n",
    "            print(f'{head} 변수 저장 완료')\n",
    "        else:\n",
    "            print('지원하지 않는 확장자 파일')\n",
    "    return result        \n"
   ]
  },
  {
   "cell_type": "code",
   "execution_count": null,
   "metadata": {},
   "outputs": [],
   "source": []
  }
 ],
 "metadata": {
  "kernelspec": {
   "display_name": "Python 3",
   "language": "python",
   "name": "python3"
  },
  "language_info": {
   "codemirror_mode": {
    "name": "ipython",
    "version": 3
   },
   "file_extension": ".py",
   "mimetype": "text/x-python",
   "name": "python",
   "nbconvert_exporter": "python",
   "pygments_lexer": "ipython3",
   "version": "3.12.2"
  }
 },
 "nbformat": 4,
 "nbformat_minor": 2
}
