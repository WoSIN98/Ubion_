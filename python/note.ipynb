{
 "cells": [
  {
   "cell_type": "code",
   "execution_count": 4,
   "metadata": {},
   "outputs": [
    {
     "name": "stdout",
     "output_type": "stream",
     "text": [
      "10\n",
      "<class 'int'>\n",
      "test\n",
      "<class 'str'>\n"
     ]
    }
   ],
   "source": [
    "a = 10\n",
    "b = 'test'\n",
    "print(a)\n",
    "print(type(a))\n",
    "print(b)\n",
    "print(type(b))"
   ]
  },
  {
   "cell_type": "code",
   "execution_count": 5,
   "metadata": {},
   "outputs": [
    {
     "name": "stdout",
     "output_type": "stream",
     "text": [
      "10 10 10\n",
      "10 3.14 test\n"
     ]
    }
   ],
   "source": [
    "a = b = c = 10\n",
    "d, e, f = 10, 3.14, \"test\"\n",
    "print(a,b,c)\n",
    "print(d,e,f)"
   ]
  },
  {
   "cell_type": "code",
   "execution_count": 8,
   "metadata": {},
   "outputs": [
    {
     "name": "stdout",
     "output_type": "stream",
     "text": [
      "<class 'int'>\n",
      "10000\n"
     ]
    }
   ],
   "source": [
    "a = 10\n",
    "print(type(a))\n",
    "b = 100*100\n",
    "print(b)"
   ]
  },
  {
   "cell_type": "code",
   "execution_count": 10,
   "metadata": {},
   "outputs": [
    {
     "name": "stdout",
     "output_type": "stream",
     "text": [
      "True\n",
      "<class 'bool'>\n"
     ]
    }
   ],
   "source": [
    "b = (100>10)\n",
    "print(b)\n",
    "print(type(b))"
   ]
  },
  {
   "cell_type": "code",
   "execution_count": 11,
   "metadata": {},
   "outputs": [],
   "source": [
    "a = 10 \n",
    "a = 5 + 3\n",
    "a = 5 - 3 \n",
    "a = 5 * 3\n",
    "a = 5 / 3\n",
    "a = 5 // 3\n",
    "a = 5 % 3 \n",
    "a = 5 ** 3"
   ]
  },
  {
   "cell_type": "code",
   "execution_count": 13,
   "metadata": {},
   "outputs": [
    {
     "name": "stdout",
     "output_type": "stream",
     "text": [
      "helloworld\n"
     ]
    },
    {
     "ename": "TypeError",
     "evalue": "unsupported operand type(s) for -: 'str' and 'str'",
     "output_type": "error",
     "traceback": [
      "\u001b[1;31m---------------------------------------------------------------------------\u001b[0m",
      "\u001b[1;31mTypeError\u001b[0m                                 Traceback (most recent call last)",
      "Cell \u001b[1;32mIn[13], line 6\u001b[0m\n\u001b[0;32m      4\u001b[0m a \u001b[38;5;241m=\u001b[39m \u001b[38;5;124m'\u001b[39m\u001b[38;5;124mhello\u001b[39m\u001b[38;5;124m'\u001b[39m\n\u001b[0;32m      5\u001b[0m b \u001b[38;5;241m=\u001b[39m \u001b[38;5;124m'\u001b[39m\u001b[38;5;124moo\u001b[39m\u001b[38;5;124m'\u001b[39m\n\u001b[1;32m----> 6\u001b[0m \u001b[38;5;28mprint\u001b[39m(\u001b[43ma\u001b[49m\u001b[38;5;241;43m-\u001b[39;49m\u001b[43mb\u001b[49m)\n",
      "\u001b[1;31mTypeError\u001b[0m: unsupported operand type(s) for -: 'str' and 'str'"
     ]
    }
   ],
   "source": [
    "a = 'hello'\n",
    "b = 'world'\n",
    "print(a+b)\n",
    "a = 'hello'\n",
    "b = 'oo'\n",
    "print(a-b)"
   ]
  },
  {
   "cell_type": "code",
   "execution_count": 16,
   "metadata": {},
   "outputs": [
    {
     "name": "stdout",
     "output_type": "stream",
     "text": [
      "False\n",
      "True\n"
     ]
    }
   ],
   "source": [
    "a = 25\n",
    "print((a>30) and (a<50))\n",
    "print((a>30)  or (a<26))"
   ]
  },
  {
   "cell_type": "code",
   "execution_count": 17,
   "metadata": {},
   "outputs": [],
   "source": [
    "a = 10 \n",
    "b = 3\n"
   ]
  },
  {
   "cell_type": "code",
   "execution_count": 21,
   "metadata": {},
   "outputs": [
    {
     "name": "stdout",
     "output_type": "stream",
     "text": [
      "22\n"
     ]
    }
   ],
   "source": [
    "a += b \n",
    "print(a)"
   ]
  },
  {
   "cell_type": "code",
   "execution_count": 29,
   "metadata": {},
   "outputs": [
    {
     "name": "stdout",
     "output_type": "stream",
     "text": [
      "red\n",
      "프로그램 종료\n"
     ]
    }
   ],
   "source": [
    "ovr = 120\n",
    "if ovr >= 110:\n",
    "    print('red')\n",
    "elif ovr >= 100:\n",
    "    print('orange')\n",
    "elif ovr >= 90:\n",
    "    print('green')\n",
    "elif ovr >= 80:\n",
    "    print('sky blue')\n",
    "else:\n",
    "    print('gray')\n",
    "print('프로그램 종료')"
   ]
  },
  {
   "cell_type": "code",
   "execution_count": 28,
   "metadata": {},
   "outputs": [
    {
     "name": "stdout",
     "output_type": "stream",
     "text": [
      "90\n"
     ]
    }
   ],
   "source": [
    "# 조건식이 여러개인 경우(elif)\n",
    "# int(): 데이터를 숫자로 변환\n",
    "# input(): 입력한 데이터를 받는다. 받은 데이터의 타입은 기본이 str \n",
    "score = int(input(\"점수를 입력하시오:\"))\n",
    "print(score)"
   ]
  },
  {
   "cell_type": "code",
   "execution_count": 32,
   "metadata": {},
   "outputs": [
    {
     "name": "stdout",
     "output_type": "stream",
     "text": [
      "1\n",
      "2\n",
      "3\n",
      "4\n",
      "5\n",
      "6\n",
      "7\n",
      "8\n",
      "9\n",
      "10\n"
     ]
    }
   ],
   "source": [
    "for i in range(1,11,1):\n",
    "    print(i)"
   ]
  },
  {
   "cell_type": "code",
   "execution_count": 34,
   "metadata": {},
   "outputs": [
    {
     "name": "stdout",
     "output_type": "stream",
     "text": [
      "3\n"
     ]
    }
   ],
   "source": [
    "_list = [100, 'red', True]\n",
    "print(len(_list))"
   ]
  },
  {
   "cell_type": "code",
   "execution_count": 37,
   "metadata": {},
   "outputs": [
    {
     "name": "stdout",
     "output_type": "stream",
     "text": [
      "100\n",
      "red\n",
      "True\n",
      "100\n",
      "red\n",
      "True\n"
     ]
    }
   ],
   "source": [
    "for i in range(0,len(_list),1):\n",
    "    print(_list[i])\n",
    "\n",
    "for i in _list:\n",
    "    print(i)"
   ]
  },
  {
   "cell_type": "code",
   "execution_count": 38,
   "metadata": {},
   "outputs": [
    {
     "name": "stdout",
     "output_type": "stream",
     "text": [
      "1\n",
      "2\n",
      "3\n",
      "4\n",
      "5\n",
      "6\n",
      "7\n",
      "8\n",
      "9\n",
      "10\n"
     ]
    }
   ],
   "source": [
    "i = 1\n",
    "while i <= 10:\n",
    "    print(i)\n",
    "    i += 1 \n",
    "    "
   ]
  },
  {
   "cell_type": "code",
   "execution_count": 40,
   "metadata": {},
   "outputs": [
    {
     "name": "stdout",
     "output_type": "stream",
     "text": [
      "55\n"
     ]
    }
   ],
   "source": [
    "res = 0\n",
    "i = 1\n",
    "while i <= 10:\n",
    "    res += i\n",
    "    i += 1\n",
    "print(res)"
   ]
  },
  {
   "cell_type": "code",
   "execution_count": 41,
   "metadata": {},
   "outputs": [
    {
     "name": "stdout",
     "output_type": "stream",
     "text": [
      "2 x 1 = 2\n",
      "2 x 2 = 4\n",
      "2 x 3 = 6\n",
      "2 x 4 = 8\n",
      "2 x 5 = 10\n",
      "2 x 6 = 12\n",
      "2 x 7 = 14\n",
      "2 x 8 = 16\n",
      "2 x 9 = 18\n",
      "3 x 1 = 3\n",
      "3 x 2 = 6\n",
      "3 x 3 = 9\n",
      "3 x 4 = 12\n",
      "3 x 5 = 15\n",
      "3 x 6 = 18\n",
      "3 x 7 = 21\n",
      "3 x 8 = 24\n",
      "3 x 9 = 27\n",
      "4 x 1 = 4\n",
      "4 x 2 = 8\n",
      "4 x 3 = 12\n",
      "4 x 4 = 16\n",
      "4 x 5 = 20\n",
      "4 x 6 = 24\n",
      "4 x 7 = 28\n",
      "4 x 8 = 32\n",
      "4 x 9 = 36\n",
      "5 x 1 = 5\n",
      "5 x 2 = 10\n",
      "5 x 3 = 15\n",
      "5 x 4 = 20\n",
      "5 x 5 = 25\n",
      "5 x 6 = 30\n",
      "5 x 7 = 35\n",
      "5 x 8 = 40\n",
      "5 x 9 = 45\n",
      "6 x 1 = 6\n",
      "6 x 2 = 12\n",
      "6 x 3 = 18\n",
      "6 x 4 = 24\n",
      "6 x 5 = 30\n",
      "6 x 6 = 36\n",
      "6 x 7 = 42\n",
      "6 x 8 = 48\n",
      "6 x 9 = 54\n",
      "7 x 1 = 7\n",
      "7 x 2 = 14\n",
      "7 x 3 = 21\n",
      "7 x 4 = 28\n",
      "7 x 5 = 35\n",
      "7 x 6 = 42\n",
      "7 x 7 = 49\n",
      "7 x 8 = 56\n",
      "7 x 9 = 63\n",
      "8 x 1 = 8\n",
      "8 x 2 = 16\n",
      "8 x 3 = 24\n",
      "8 x 4 = 32\n",
      "8 x 5 = 40\n",
      "8 x 6 = 48\n",
      "8 x 7 = 56\n",
      "8 x 8 = 64\n",
      "8 x 9 = 72\n",
      "9 x 1 = 9\n",
      "9 x 2 = 18\n",
      "9 x 3 = 27\n",
      "9 x 4 = 36\n",
      "9 x 5 = 45\n",
      "9 x 6 = 54\n",
      "9 x 7 = 63\n",
      "9 x 8 = 72\n",
      "9 x 9 = 81\n"
     ]
    }
   ],
   "source": [
    "for i in range(2,10,1):\n",
    "    for j in range(1,10,1):\n",
    "        print(f\"{i} x {j} = {i*j}\")"
   ]
  },
  {
   "cell_type": "markdown",
   "metadata": {},
   "source": []
  },
  {
   "cell_type": "markdown",
   "metadata": {},
   "source": [
    "### 반복문 예제 문제 (다중 for문)\n",
    "- 페르마의 마지막 정리가 참인지 확인 \n",
    "\n",
    "> a <sup>n</sup> + b<sup>n</sup> = c<sup>n</sup> 해당하는 식에서 n이 2보다 큰 자연수라면, a, b, c에 들어갈 수 있는 자연수는 존재하지 않는다.\n",
    "\n",
    "- n = 3이라 가정하고 a, b, c에 1부터 10까지 값들을 모두 넣어서 해당하는 조건식이 참인 경우가 존재하는 지 확인\n",
    "\n"
   ]
  },
  {
   "cell_type": "code",
   "execution_count": 1,
   "metadata": {},
   "outputs": [],
   "source": [
    "list_a = [20, 10, 40, 30]\n",
    "list_b = ['abc', 'ade', 'aaa']"
   ]
  },
  {
   "cell_type": "code",
   "execution_count": 3,
   "metadata": {},
   "outputs": [
    {
     "name": "stdout",
     "output_type": "stream",
     "text": [
      "[10, 20, 30, 40]\n"
     ]
    }
   ],
   "source": [
    "list_a.sort()\n",
    "print(list_a)"
   ]
  },
  {
   "cell_type": "code",
   "execution_count": 4,
   "metadata": {},
   "outputs": [
    {
     "name": "stdout",
     "output_type": "stream",
     "text": [
      "['aaa', 'ade', 'abc']\n"
     ]
    }
   ],
   "source": [
    "list_b.reverse()\n",
    "print(list_b)"
   ]
  },
  {
   "cell_type": "code",
   "execution_count": 5,
   "metadata": {},
   "outputs": [
    {
     "name": "stdout",
     "output_type": "stream",
     "text": [
      "[10, 20, 30, 40, 22]\n"
     ]
    }
   ],
   "source": [
    "list_a.append(22)\n",
    "print(list_a)"
   ]
  },
  {
   "cell_type": "code",
   "execution_count": 6,
   "metadata": {},
   "outputs": [
    {
     "name": "stdout",
     "output_type": "stream",
     "text": [
      "[10, 20, 100, 30, 40, 22]\n"
     ]
    }
   ],
   "source": [
    "list_a.insert(2,100)\n",
    "print(list_a)"
   ]
  },
  {
   "cell_type": "code",
   "execution_count": 7,
   "metadata": {},
   "outputs": [
    {
     "name": "stdout",
     "output_type": "stream",
     "text": [
      "[10, 20, 100, 30, 40]\n"
     ]
    }
   ],
   "source": [
    "list_a.pop()\n",
    "print(list_a)"
   ]
  },
  {
   "cell_type": "code",
   "execution_count": 8,
   "metadata": {},
   "outputs": [
    {
     "name": "stdout",
     "output_type": "stream",
     "text": [
      "[10, 20, 100, 40]\n"
     ]
    }
   ],
   "source": [
    "del list_a[3]\n",
    "print(list_a)"
   ]
  },
  {
   "cell_type": "code",
   "execution_count": 11,
   "metadata": {},
   "outputs": [
    {
     "name": "stdout",
     "output_type": "stream",
     "text": [
      "[20, 100, 40]\n"
     ]
    }
   ],
   "source": [
    "list_a.remove(10)\n",
    "print(list_a)"
   ]
  },
  {
   "cell_type": "code",
   "execution_count": 12,
   "metadata": {},
   "outputs": [
    {
     "name": "stdout",
     "output_type": "stream",
     "text": [
      "[20, 100, 40, 'aaa', 'ade', 'abc']\n"
     ]
    }
   ],
   "source": [
    "list_a.extend(list_b)\n",
    "print(list_a)"
   ]
  },
  {
   "cell_type": "code",
   "execution_count": 13,
   "metadata": {},
   "outputs": [
    {
     "name": "stdout",
     "output_type": "stream",
     "text": [
      "[[10, 20, 30], (50, 60, 70)]\n"
     ]
    }
   ],
   "source": [
    "list_4 = [\n",
    "    [10,20,30],\n",
    "    (50,60,70)\n",
    "]\n",
    "print(list_4)"
   ]
  },
  {
   "cell_type": "code",
   "execution_count": 15,
   "metadata": {},
   "outputs": [
    {
     "name": "stdout",
     "output_type": "stream",
     "text": [
      "(50, 60, 70)\n",
      "20\n"
     ]
    }
   ],
   "source": [
    "print(list_4[1])\n",
    "print(list_4[0][1])"
   ]
  },
  {
   "cell_type": "code",
   "execution_count": 16,
   "metadata": {},
   "outputs": [
    {
     "name": "stdout",
     "output_type": "stream",
     "text": [
      "[]\n",
      "[]\n"
     ]
    }
   ],
   "source": [
    "list1 = []\n",
    "list2 = list()\n",
    "print(list1)\n",
    "print(list2)"
   ]
  },
  {
   "cell_type": "code",
   "execution_count": 18,
   "metadata": {},
   "outputs": [
    {
     "name": "stdout",
     "output_type": "stream",
     "text": [
      "[(0, 0), (0, 5), (1, 4), (2, 3), (3, 2), (4, 1), (4, 6), (5, 0), (5, 5), (6, 4)]\n"
     ]
    }
   ],
   "source": [
    "res = []\n",
    "for i in range(7):\n",
    "    for j in range(7):\n",
    "        if (i+j) % 5 == 0:\n",
    "            res.append((i, j))\n",
    "print(res)"
   ]
  },
  {
   "cell_type": "code",
   "execution_count": null,
   "metadata": {},
   "outputs": [],
   "source": [
    "# bool의 리스트는 길이를 확인하여 T, F 확인한다. 길이가 0이면 F \n",
    "# if x: 이면 x가 존재하면 가져오고, 존재하지 않으면 가져오지 않는다. \n",
    "# if len(data) != 0"
   ]
  },
  {
   "cell_type": "code",
   "execution_count": 19,
   "metadata": {},
   "outputs": [
    {
     "name": "stdout",
     "output_type": "stream",
     "text": [
      "20\n"
     ]
    }
   ],
   "source": [
    "sample1 = [\n",
    "    {\n",
    "        'name' : 'test',\n",
    "        'age' : 20 \n",
    "    },\n",
    "    {\n",
    "        'name' : 'test2',\n",
    "        'age' : 30\n",
    "    },\n",
    "    {\n",
    "        'name' : 'test3',\n",
    "        'age' : 25\n",
    "    }\n",
    "]\n",
    "\n",
    "res1 = []\n",
    "res1.append(\n",
    "    sample1[0]['age']\n",
    ")\n",
    "res2 = []\n",
    "for i in range(len(sample1)):\n",
    "    res2.append(sample1[i]['age'])\n"
   ]
  },
  {
   "cell_type": "code",
   "execution_count": 20,
   "metadata": {},
   "outputs": [
    {
     "name": "stdout",
     "output_type": "stream",
     "text": [
      "3\n"
     ]
    }
   ],
   "source": [
    "sample2 = {\n",
    "    'name' : ['test', 'test2', 'tset3'],\n",
    "    'age' : [20, 30, 25]\n",
    "}     \n",
    "sample3 = []\n",
    "for i in sample2:\n",
    "    print(i)\n",
    "    print(sample2[i])\n",
    "    for j in range(len(sample2[i])):\n",
    "        print(f\"i= {j}, j={j}, sample2= {sample2[i][j]}\")\n",
    "        if len(sample2[i]) > len(sample3):\n",
    "            sample3.append({})\n",
    "        "
   ]
  },
  {
   "cell_type": "code",
   "execution_count": 3,
   "metadata": {},
   "outputs": [
    {
     "name": "stdout",
     "output_type": "stream",
     "text": [
      "{'name': ['test', 'test2', 'tset3'], 'age': [20, 30, 25]}\n"
     ]
    }
   ],
   "source": []
  },
  {
   "cell_type": "code",
   "execution_count": 3,
   "metadata": {},
   "outputs": [],
   "source": [
    "## 데이터들의 평균을 구하는 함수     (sum,len 안쓰고)\n",
    "# 함수의 매개변수는 인자의 개수가 가변인 상태로 생성\n",
    "# 평균 : 인자들의 총합 / 인자들의 개수 \n",
    "def mean(*_ags):\n",
    "    sum_val = 0\n",
    "    cnt = 0                  # 인자의 개수를 구하기 위한 변수. \n",
    "    for val in _ags:         # val에 대입 되는 데이터 : 인자\n",
    "         sum_val += val      # 인자들의 총합 구하기\n",
    "         cnt += 1            # 인자들의 개수 구하기\n",
    "    result = sum_val / cnt\n",
    "    \n",
    "    return result"
   ]
  },
  {
   "cell_type": "code",
   "execution_count": 4,
   "metadata": {},
   "outputs": [],
   "source": [
    "# 위의 함수는 나누기를 하기 때문에 float 형태로 나온다. \n",
    "# 평균을 반올림하여 int형태로 출력하는 함수를 만들어보자.\n",
    "\n",
    "\n",
    "def mean_int(*_ags):\n",
    "    sum_val = 0\n",
    "    cnt = 0                  \n",
    "    for val in _ags:         \n",
    "         sum_val += val      \n",
    "         cnt += 1            \n",
    "    result = sum_val / cnt\n",
    "    if result % 1 == 0:\n",
    "         result = result\n",
    "    elif result % 1 < 0.5:\n",
    "         result = result - (result % 1)\n",
    "    else:\n",
    "         result = result + (1 - result % 1)\n",
    "    result = int(result)\n",
    "    return result"
   ]
  },
  {
   "cell_type": "code",
   "execution_count": 6,
   "metadata": {},
   "outputs": [
    {
     "name": "stdout",
     "output_type": "stream",
     "text": [
      "20.0\n"
     ]
    },
    {
     "data": {
      "text/plain": [
       "float"
      ]
     },
     "execution_count": 6,
     "metadata": {},
     "output_type": "execute_result"
    }
   ],
   "source": [
    "print(mean(10,20,30))\n",
    "type(mean(10,20,30))"
   ]
  },
  {
   "cell_type": "code",
   "execution_count": 8,
   "metadata": {},
   "outputs": [
    {
     "name": "stdout",
     "output_type": "stream",
     "text": [
      "20\n"
     ]
    },
    {
     "data": {
      "text/plain": [
       "int"
      ]
     },
     "execution_count": 8,
     "metadata": {},
     "output_type": "execute_result"
    }
   ],
   "source": [
    "print(mean_int(10,20,31))\n",
    "type(mean_int(10,20,31))\n"
   ]
  },
  {
   "cell_type": "code",
   "execution_count": 9,
   "metadata": {},
   "outputs": [],
   "source": [
    "def mean_i(*ags):\n",
    "    result = sum(ags) / len(ags)\n",
    "    if result % 1 == 0:\n",
    "         result = result\n",
    "    elif result % 1 < 0.5:\n",
    "         result = result - (result % 1)\n",
    "    else:\n",
    "         result = result + (1 - result % 1)\n",
    "    result = int(result)\n",
    "    return result\n",
    "        "
   ]
  },
  {
   "cell_type": "code",
   "execution_count": 10,
   "metadata": {},
   "outputs": [
    {
     "name": "stdout",
     "output_type": "stream",
     "text": [
      "20\n"
     ]
    },
    {
     "data": {
      "text/plain": [
       "int"
      ]
     },
     "execution_count": 10,
     "metadata": {},
     "output_type": "execute_result"
    }
   ],
   "source": [
    "print(mean_i(10,20,31))\n",
    "type(mean_i(10,20,31))"
   ]
  },
  {
   "cell_type": "code",
   "execution_count": null,
   "metadata": {},
   "outputs": [],
   "source": []
  },
  {
   "cell_type": "code",
   "execution_count": null,
   "metadata": {},
   "outputs": [],
   "source": []
  },
  {
   "cell_type": "code",
   "execution_count": null,
   "metadata": {},
   "outputs": [],
   "source": [
    "##### 수업 sort(, reverse = True) 코드\n",
    "def c_sort(*values, reverse = False):\n",
    "    # print(values)\n",
    "    result = []\n",
    "    ## values를 list로 변경\n",
    "    values = list(values)\n",
    "    while values:\n",
    "        if reverse:\n",
    "            value = max(values)\n",
    "        else:\n",
    "            ## values에서 가장 작은 값을 출력\n",
    "            value = c_min(*values)\n",
    "        ## 새로운 리스트에 작은값을 추가 \n",
    "        result.append(value)\n",
    "        ## values에 가장 작은 값을 제거 (tuple 불가능)\n",
    "        values.remove(value)\n",
    "\n",
    "    return result"
   ]
  },
  {
   "cell_type": "code",
   "execution_count": 32,
   "metadata": {},
   "outputs": [
    {
     "ename": "IndexError",
     "evalue": "pop from empty list",
     "output_type": "error",
     "traceback": [
      "\u001b[1;31m---------------------------------------------------------------------------\u001b[0m",
      "\u001b[1;31mIndexError\u001b[0m                                Traceback (most recent call last)",
      "Cell \u001b[1;32mIn[32], line 22\u001b[0m\n\u001b[0;32m     20\u001b[0m rows \u001b[38;5;241m=\u001b[39m \u001b[38;5;241m3\u001b[39m\n\u001b[0;32m     21\u001b[0m seats_per_row \u001b[38;5;241m=\u001b[39m \u001b[38;5;241m6\u001b[39m\n\u001b[1;32m---> 22\u001b[0m arrangement \u001b[38;5;241m=\u001b[39m \u001b[43mrandom_seat_arrangement\u001b[49m\u001b[43m(\u001b[49m\u001b[43mrows\u001b[49m\u001b[43m,\u001b[49m\u001b[43m \u001b[49m\u001b[43mseats_per_row\u001b[49m\u001b[43m)\u001b[49m\n\u001b[0;32m     23\u001b[0m display_seat_arrangement(arrangement)\n",
      "Cell \u001b[1;32mIn[32], line 11\u001b[0m, in \u001b[0;36mrandom_seat_arrangement\u001b[1;34m(rows, seats_per_row)\u001b[0m\n\u001b[0;32m      9\u001b[0m \u001b[38;5;28;01mfor\u001b[39;00m i \u001b[38;5;129;01min\u001b[39;00m \u001b[38;5;28mrange\u001b[39m(rows):\n\u001b[0;32m     10\u001b[0m     \u001b[38;5;28;01mfor\u001b[39;00m j \u001b[38;5;129;01min\u001b[39;00m \u001b[38;5;28mrange\u001b[39m(seats_per_row):\n\u001b[1;32m---> 11\u001b[0m         seat_arrangement[i][j] \u001b[38;5;241m=\u001b[39m \u001b[43mseat_labels\u001b[49m\u001b[38;5;241;43m.\u001b[39;49m\u001b[43mpop\u001b[49m\u001b[43m(\u001b[49m\u001b[43m)\u001b[49m\n\u001b[0;32m     13\u001b[0m \u001b[38;5;28;01mreturn\u001b[39;00m seat_arrangement\n",
      "\u001b[1;31mIndexError\u001b[0m: pop from empty list"
     ]
    }
   ],
   "source": [
    "import random\n",
    "\n",
    "def random_seat_arrangement(rows, seats_per_row):\n",
    "    \n",
    "    seat_arrangement = [['' for _ in range(seats_per_row)] for _ in range(rows)]\n",
    "    \n",
    "    seat_labels=['최유영','이강희','강경진','김정욱','김대윤','황영준','정우성','성유진','이상준','김보정','이진아','권기준','김남인','김서연','서규현','이상준','정혜주']\n",
    "    random.shuffle(seat_labels) \n",
    "    for i in range(rows):\n",
    "        for j in range(seats_per_row):\n",
    "            seat_arrangement[i][j] = seat_labels.pop()\n",
    "    \n",
    "    return seat_arrangement\n",
    "\n",
    "\n",
    "def display_seat_arrangement(seat_arrangement):\n",
    "    for row in seat_arrangement:\n",
    "        print(' '.join(row))\n",
    "\n",
    "rows = 3\n",
    "seats_per_row = 6\n",
    "arrangement = random_seat_arrangement(rows, seats_per_row)\n",
    "display_seat_arrangement(arrangement)\n"
   ]
  },
  {
   "cell_type": "code",
   "execution_count": 31,
   "metadata": {},
   "outputs": [
    {
     "ename": "IndexError",
     "evalue": "pop from empty list",
     "output_type": "error",
     "traceback": [
      "\u001b[1;31m---------------------------------------------------------------------------\u001b[0m",
      "\u001b[1;31mIndexError\u001b[0m                                Traceback (most recent call last)",
      "Cell \u001b[1;32mIn[31], line 3\u001b[0m\n\u001b[0;32m      1\u001b[0m row \u001b[38;5;241m=\u001b[39m \u001b[38;5;241m2\u001b[39m \n\u001b[0;32m      2\u001b[0m seats_per_row \u001b[38;5;241m=\u001b[39m \u001b[38;5;241m9\u001b[39m\n\u001b[1;32m----> 3\u001b[0m arrangement \u001b[38;5;241m=\u001b[39m \u001b[43mrandom_seat_arrangement\u001b[49m\u001b[43m(\u001b[49m\u001b[43mrows\u001b[49m\u001b[43m,\u001b[49m\u001b[43m \u001b[49m\u001b[43mseats_per_row\u001b[49m\u001b[43m)\u001b[49m\n",
      "Cell \u001b[1;32mIn[30], line 11\u001b[0m, in \u001b[0;36mrandom_seat_arrangement\u001b[1;34m(rows, seats_per_row)\u001b[0m\n\u001b[0;32m      9\u001b[0m \u001b[38;5;28;01mfor\u001b[39;00m i \u001b[38;5;129;01min\u001b[39;00m \u001b[38;5;28mrange\u001b[39m(rows):\n\u001b[0;32m     10\u001b[0m     \u001b[38;5;28;01mfor\u001b[39;00m j \u001b[38;5;129;01min\u001b[39;00m \u001b[38;5;28mrange\u001b[39m(seats_per_row):\n\u001b[1;32m---> 11\u001b[0m         seat_arrangement[i][j] \u001b[38;5;241m=\u001b[39m \u001b[43mseat_labels\u001b[49m\u001b[38;5;241;43m.\u001b[39;49m\u001b[43mpop\u001b[49m\u001b[43m(\u001b[49m\u001b[43m)\u001b[49m\n\u001b[0;32m     13\u001b[0m \u001b[38;5;28;01mreturn\u001b[39;00m seat_arrangement\n\u001b[0;32m     14\u001b[0m \u001b[38;5;28mprint\u001b[39m(seat_arrangement)\n",
      "\u001b[1;31mIndexError\u001b[0m: pop from empty list"
     ]
    }
   ],
   "source": [
    "row = 2 \n",
    "seats_per_row = 9\n",
    "arrangement = random_seat_arrangement(rows, seats_per_row)"
   ]
  },
  {
   "cell_type": "code",
   "execution_count": null,
   "metadata": {},
   "outputs": [],
   "source": []
  }
 ],
 "metadata": {
  "kernelspec": {
   "display_name": "Python 3",
   "language": "python",
   "name": "python3"
  },
  "language_info": {
   "codemirror_mode": {
    "name": "ipython",
    "version": 3
   },
   "file_extension": ".py",
   "mimetype": "text/x-python",
   "name": "python",
   "nbconvert_exporter": "python",
   "pygments_lexer": "ipython3",
   "version": "3.12.2"
  }
 },
 "nbformat": 4,
 "nbformat_minor": 2
}
