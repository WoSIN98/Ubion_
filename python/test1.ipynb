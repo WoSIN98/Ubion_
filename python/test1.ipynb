{
 "cells": [
  {
   "cell_type": "code",
   "execution_count": 1,
   "metadata": {},
   "outputs": [],
   "source": [
    "import pandas as pd"
   ]
  },
  {
   "cell_type": "code",
   "execution_count": 6,
   "metadata": {},
   "outputs": [],
   "source": [
    "df = pd.DataFrame(\n",
    "\t\t\t\t[\n",
    "                [2,2,3],\n",
    "                [4,5,6],\n",
    "                [7,8,9]\n",
    "                ],\n",
    "                index = ['a', 'b', 'c'],\n",
    "                columns = ['A', 'B', 'C']\n",
    "                )"
   ]
  },
  {
   "cell_type": "code",
   "execution_count": 7,
   "metadata": {},
   "outputs": [
    {
     "data": {
      "text/html": [
       "<div>\n",
       "<style scoped>\n",
       "    .dataframe tbody tr th:only-of-type {\n",
       "        vertical-align: middle;\n",
       "    }\n",
       "\n",
       "    .dataframe tbody tr th {\n",
       "        vertical-align: top;\n",
       "    }\n",
       "\n",
       "    .dataframe thead th {\n",
       "        text-align: right;\n",
       "    }\n",
       "</style>\n",
       "<table border=\"1\" class=\"dataframe\">\n",
       "  <thead>\n",
       "    <tr style=\"text-align: right;\">\n",
       "      <th></th>\n",
       "      <th>A</th>\n",
       "      <th>B</th>\n",
       "      <th>C</th>\n",
       "    </tr>\n",
       "  </thead>\n",
       "  <tbody>\n",
       "    <tr>\n",
       "      <th>a</th>\n",
       "      <td>2</td>\n",
       "      <td>2</td>\n",
       "      <td>3</td>\n",
       "    </tr>\n",
       "    <tr>\n",
       "      <th>b</th>\n",
       "      <td>4</td>\n",
       "      <td>5</td>\n",
       "      <td>6</td>\n",
       "    </tr>\n",
       "    <tr>\n",
       "      <th>c</th>\n",
       "      <td>7</td>\n",
       "      <td>8</td>\n",
       "      <td>9</td>\n",
       "    </tr>\n",
       "  </tbody>\n",
       "</table>\n",
       "</div>"
      ],
      "text/plain": [
       "   A  B  C\n",
       "a  2  2  3\n",
       "b  4  5  6\n",
       "c  7  8  9"
      ]
     },
     "execution_count": 7,
     "metadata": {},
     "output_type": "execute_result"
    }
   ],
   "source": [
    "df"
   ]
  },
  {
   "cell_type": "code",
   "execution_count": 8,
   "metadata": {},
   "outputs": [
    {
     "data": {
      "text/plain": [
       "True"
      ]
     },
     "execution_count": 8,
     "metadata": {},
     "output_type": "execute_result"
    }
   ],
   "source": [
    "(df['B'] > 5).any()"
   ]
  },
  {
   "cell_type": "code",
   "execution_count": 13,
   "metadata": {},
   "outputs": [
    {
     "data": {
      "text/plain": [
       "A\n",
       "2    1\n",
       "4    1\n",
       "7    1\n",
       "Name: count, dtype: int64"
      ]
     },
     "execution_count": 13,
     "metadata": {},
     "output_type": "execute_result"
    }
   ],
   "source": [
    "df['A'].value_counts()"
   ]
  },
  {
   "cell_type": "code",
   "execution_count": 10,
   "metadata": {},
   "outputs": [
    {
     "data": {
      "text/html": [
       "<div>\n",
       "<style scoped>\n",
       "    .dataframe tbody tr th:only-of-type {\n",
       "        vertical-align: middle;\n",
       "    }\n",
       "\n",
       "    .dataframe tbody tr th {\n",
       "        vertical-align: top;\n",
       "    }\n",
       "\n",
       "    .dataframe thead th {\n",
       "        text-align: right;\n",
       "    }\n",
       "</style>\n",
       "<table border=\"1\" class=\"dataframe\">\n",
       "  <thead>\n",
       "    <tr style=\"text-align: right;\">\n",
       "      <th></th>\n",
       "      <th>location</th>\n",
       "      <th>code</th>\n",
       "    </tr>\n",
       "  </thead>\n",
       "  <tbody>\n",
       "    <tr>\n",
       "      <th>0</th>\n",
       "      <td>서울</td>\n",
       "      <td>11</td>\n",
       "    </tr>\n",
       "    <tr>\n",
       "      <th>1</th>\n",
       "      <td>경기</td>\n",
       "      <td>31</td>\n",
       "    </tr>\n",
       "    <tr>\n",
       "      <th>2</th>\n",
       "      <td>강원</td>\n",
       "      <td>32</td>\n",
       "    </tr>\n",
       "    <tr>\n",
       "      <th>3</th>\n",
       "      <td>세종</td>\n",
       "      <td>29</td>\n",
       "    </tr>\n",
       "  </tbody>\n",
       "</table>\n",
       "</div>"
      ],
      "text/plain": [
       "  location code\n",
       "0       서울   11\n",
       "1       경기   31\n",
       "2       강원   32\n",
       "3       세종   29"
      ]
     },
     "execution_count": 10,
     "metadata": {},
     "output_type": "execute_result"
    }
   ],
   "source": [
    "data = {\n",
    "    'name' : ['test', 'test2', 'test3' ],\n",
    "    'loc' : ['서울', '경기', '강원']\n",
    "}\n",
    "df3 = pd.DataFrame(data)\n",
    "data2 = {\n",
    "    'location' : ['서울', '경기', '강원', '세종'],\n",
    "    'code' : ['11','31','32','29']\n",
    "}\n",
    "df4 = pd.DataFrame(data2)\n",
    "df4"
   ]
  },
  {
   "cell_type": "code",
   "execution_count": 11,
   "metadata": {},
   "outputs": [
    {
     "data": {
      "text/html": [
       "<div>\n",
       "<style scoped>\n",
       "    .dataframe tbody tr th:only-of-type {\n",
       "        vertical-align: middle;\n",
       "    }\n",
       "\n",
       "    .dataframe tbody tr th {\n",
       "        vertical-align: top;\n",
       "    }\n",
       "\n",
       "    .dataframe thead th {\n",
       "        text-align: right;\n",
       "    }\n",
       "</style>\n",
       "<table border=\"1\" class=\"dataframe\">\n",
       "  <thead>\n",
       "    <tr style=\"text-align: right;\">\n",
       "      <th></th>\n",
       "      <th>name</th>\n",
       "      <th>loc</th>\n",
       "      <th>location</th>\n",
       "      <th>code</th>\n",
       "    </tr>\n",
       "  </thead>\n",
       "  <tbody>\n",
       "    <tr>\n",
       "      <th>0</th>\n",
       "      <td>test</td>\n",
       "      <td>서울</td>\n",
       "      <td>서울</td>\n",
       "      <td>11</td>\n",
       "    </tr>\n",
       "    <tr>\n",
       "      <th>1</th>\n",
       "      <td>test2</td>\n",
       "      <td>경기</td>\n",
       "      <td>경기</td>\n",
       "      <td>31</td>\n",
       "    </tr>\n",
       "    <tr>\n",
       "      <th>2</th>\n",
       "      <td>test3</td>\n",
       "      <td>강원</td>\n",
       "      <td>강원</td>\n",
       "      <td>32</td>\n",
       "    </tr>\n",
       "  </tbody>\n",
       "</table>\n",
       "</div>"
      ],
      "text/plain": [
       "    name loc location code\n",
       "0   test  서울       서울   11\n",
       "1  test2  경기       경기   31\n",
       "2  test3  강원       강원   32"
      ]
     },
     "execution_count": 11,
     "metadata": {},
     "output_type": "execute_result"
    }
   ],
   "source": [
    "pd.merge(df3, df4, how = 'left', left_on = 'loc', right_on = 'location')"
   ]
  },
  {
   "cell_type": "code",
   "execution_count": null,
   "metadata": {},
   "outputs": [],
   "source": []
  },
  {
   "cell_type": "code",
   "execution_count": null,
   "metadata": {},
   "outputs": [],
   "source": []
  },
  {
   "cell_type": "code",
   "execution_count": 36,
   "metadata": {},
   "outputs": [],
   "source": [
    "# -------------------------------------------\n",
    "# 240327 복습\n",
    "import os\n",
    "import glob\n",
    "import pandas as pd "
   ]
  },
  {
   "cell_type": "code",
   "execution_count": 37,
   "metadata": {},
   "outputs": [
    {
     "data": {
      "text/plain": [
       "['201701_expense_list.csv',\n",
       " '201702_expense_list.csv',\n",
       " '201703_expense_list.csv',\n",
       " '201704_expense_list.csv',\n",
       " '201705_expense_list.csv',\n",
       " '201706_expense_list.csv',\n",
       " '201707_expense_list.csv',\n",
       " '201708_expense_list.csv',\n",
       " '201709_expense_list.csv',\n",
       " '201710_expense_list.csv',\n",
       " '201711_expense_list.csv',\n",
       " '201712_expense_list.csv']"
      ]
     },
     "execution_count": 37,
     "metadata": {},
     "output_type": "execute_result"
    }
   ],
   "source": [
    "os.listdir('../csv/2017/')"
   ]
  },
  {
   "cell_type": "code",
   "execution_count": 38,
   "metadata": {},
   "outputs": [
    {
     "data": {
      "text/plain": [
       "['201701_expense_list.csv',\n",
       " '201702_expense_list.csv',\n",
       " '201703_expense_list.csv',\n",
       " '201704_expense_list.csv',\n",
       " '201705_expense_list.csv',\n",
       " '201706_expense_list.csv',\n",
       " '201707_expense_list.csv',\n",
       " '201708_expense_list.csv',\n",
       " '201709_expense_list.csv',\n",
       " '201710_expense_list.csv',\n",
       " '201711_expense_list.csv',\n",
       " '201712_expense_list.csv']"
      ]
     },
     "execution_count": 38,
     "metadata": {},
     "output_type": "execute_result"
    }
   ],
   "source": [
    "file_path = '../csv/2017/'\n",
    "file_list = os.listdir(file_path)\n",
    "file_list "
   ]
  },
  {
   "cell_type": "code",
   "execution_count": null,
   "metadata": {},
   "outputs": [],
   "source": [
    "pd.read_csv(file_path + file_list[0])"
   ]
  },
  {
   "cell_type": "code",
   "execution_count": null,
   "metadata": {},
   "outputs": [],
   "source": [
    "result = pd.DataFrame()\n",
    "for file in file_list:\n",
    "    df = pd.read_csv(file_path+file)\n",
    "    result = pd.concat([result, df], ignore_index= True)\n",
    "print(result)"
   ]
  },
  {
   "cell_type": "code",
   "execution_count": 42,
   "metadata": {},
   "outputs": [
    {
     "data": {
      "text/plain": [
       "['202101_expense_list.csv',\n",
       " '202101_expense_list.json',\n",
       " '202101_expense_list.xlsx',\n",
       " '202101_expense_list.xml',\n",
       " '202102_expense_list.csv',\n",
       " '202102_expense_list.json',\n",
       " '202102_expense_list.xlsx',\n",
       " '202102_expense_list.xml',\n",
       " '202103_expense_list.csv',\n",
       " '202103_expense_list.json',\n",
       " '202103_expense_list.xlsx',\n",
       " '202103_expense_list.xml',\n",
       " '202104_expense_list.csv',\n",
       " '202104_expense_list.json',\n",
       " '202104_expense_list.xlsx',\n",
       " '202104_expense_list.xml',\n",
       " '202105_expense_list.csv',\n",
       " '202105_expense_list.json',\n",
       " '202105_expense_list.xlsx',\n",
       " '202105_expense_list.xml',\n",
       " '202106_expense_list.csv',\n",
       " '202106_expense_list.json',\n",
       " '202106_expense_list.xlsx',\n",
       " '202106_expense_list.xml',\n",
       " '202107_expense_list.csv',\n",
       " '202107_expense_list.json',\n",
       " '202107_expense_list.xlsx',\n",
       " '202107_expense_list.xml',\n",
       " '202108_expense_list.csv',\n",
       " '202108_expense_list.json',\n",
       " '202108_expense_list.xlsx',\n",
       " '202108_expense_list.xml',\n",
       " '202109_expense_list.csv',\n",
       " '202109_expense_list.json',\n",
       " '202109_expense_list.xlsx',\n",
       " '202109_expense_list.xml',\n",
       " '202110_expense_list.csv',\n",
       " '202110_expense_list.json',\n",
       " '202110_expense_list.xlsx',\n",
       " '202110_expense_list.xml',\n",
       " '202111_expense_list.csv',\n",
       " '202111_expense_list.json',\n",
       " '202111_expense_list.xlsx',\n",
       " '202111_expense_list.xml',\n",
       " '202112_expense_list.csv',\n",
       " '202112_expense_list.json',\n",
       " '202112_expense_list.xlsx',\n",
       " '202112_expense_list.xml']"
      ]
     },
     "execution_count": 42,
     "metadata": {},
     "output_type": "execute_result"
    }
   ],
   "source": [
    "file_path = '../csv/2021/'\n",
    "file_list = os.listdir(file_path)\n",
    "file_list"
   ]
  },
  {
   "cell_type": "code",
   "execution_count": 19,
   "metadata": {},
   "outputs": [
    {
     "data": {
      "text/plain": [
       "True"
      ]
     },
     "execution_count": 19,
     "metadata": {},
     "output_type": "execute_result"
    }
   ],
   "source": [
    "file_list[0].split('.')[-1] == 'csv'"
   ]
  },
  {
   "cell_type": "code",
   "execution_count": 20,
   "metadata": {},
   "outputs": [
    {
     "data": {
      "text/plain": [
       "True"
      ]
     },
     "execution_count": 20,
     "metadata": {},
     "output_type": "execute_result"
    }
   ],
   "source": [
    "file_list[0].endswith('csv')"
   ]
  },
  {
   "cell_type": "code",
   "execution_count": 24,
   "metadata": {},
   "outputs": [
    {
     "data": {
      "text/plain": [
       "('202101_expense_list', '.csv')"
      ]
     },
     "execution_count": 24,
     "metadata": {},
     "output_type": "execute_result"
    }
   ],
   "source": [
    "os.path.splitext(file_list[0])"
   ]
  },
  {
   "cell_type": "code",
   "execution_count": 40,
   "metadata": {},
   "outputs": [],
   "source": [
    "file_list = glob.glob('../csv/num_3/*.csv')"
   ]
  },
  {
   "cell_type": "code",
   "execution_count": 41,
   "metadata": {},
   "outputs": [
    {
     "data": {
      "text/plain": [
       "['../csv/num_3\\\\campaign_master.csv',\n",
       " '../csv/num_3\\\\class_master.csv',\n",
       " '../csv/num_3\\\\customer_master.csv',\n",
       " '../csv/num_3\\\\use_log.csv']"
      ]
     },
     "execution_count": 41,
     "metadata": {},
     "output_type": "execute_result"
    }
   ],
   "source": [
    "file_list"
   ]
  },
  {
   "cell_type": "code",
   "execution_count": 9,
   "metadata": {},
   "outputs": [],
   "source": [
    "for file in file_list:\n",
    "    folder, name = os.path.split(file)\n",
    "    head, tail = os.path.splitext(name)\n",
    "    globals()[f\"{head}\"] = pd.read_csv(file)"
   ]
  },
  {
   "cell_type": "code",
   "execution_count": 11,
   "metadata": {},
   "outputs": [
    {
     "data": {
      "text/html": [
       "<div>\n",
       "<style scoped>\n",
       "    .dataframe tbody tr th:only-of-type {\n",
       "        vertical-align: middle;\n",
       "    }\n",
       "\n",
       "    .dataframe tbody tr th {\n",
       "        vertical-align: top;\n",
       "    }\n",
       "\n",
       "    .dataframe thead th {\n",
       "        text-align: right;\n",
       "    }\n",
       "</style>\n",
       "<table border=\"1\" class=\"dataframe\">\n",
       "  <thead>\n",
       "    <tr style=\"text-align: right;\">\n",
       "      <th></th>\n",
       "      <th>class</th>\n",
       "      <th>class_name</th>\n",
       "      <th>price</th>\n",
       "    </tr>\n",
       "  </thead>\n",
       "  <tbody>\n",
       "    <tr>\n",
       "      <th>0</th>\n",
       "      <td>C01</td>\n",
       "      <td>0_종일</td>\n",
       "      <td>10500</td>\n",
       "    </tr>\n",
       "    <tr>\n",
       "      <th>1</th>\n",
       "      <td>C02</td>\n",
       "      <td>1_주간</td>\n",
       "      <td>7500</td>\n",
       "    </tr>\n",
       "    <tr>\n",
       "      <th>2</th>\n",
       "      <td>C03</td>\n",
       "      <td>2_야간</td>\n",
       "      <td>6000</td>\n",
       "    </tr>\n",
       "  </tbody>\n",
       "</table>\n",
       "</div>"
      ],
      "text/plain": [
       "  class class_name  price\n",
       "0   C01       0_종일  10500\n",
       "1   C02       1_주간   7500\n",
       "2   C03       2_야간   6000"
      ]
     },
     "execution_count": 11,
     "metadata": {},
     "output_type": "execute_result"
    }
   ],
   "source": [
    "class_master"
   ]
  },
  {
   "cell_type": "code",
   "execution_count": 12,
   "metadata": {},
   "outputs": [],
   "source": [
    "def data_load2(_path):\n",
    "    file_list = glob.glob(_path+'/*.*')\n",
    "    for file in file_list:\n",
    "        foler, name = os.path.split(file)\n",
    "        head, tail = os.path.splitext(name)\n",
    "        if tail == '.csv':\n",
    "            df = pd.read_csv(file)\n",
    "        elif tail == '.json':\n",
    "            df = pd.read_csv(file)\n",
    "        elif tail == '.xml':\n",
    "            df = pd.read_xml(file)\n",
    "        elif tail in ['.xlsx', '.xls']:\n",
    "            df = pd.read_excel(file)\n",
    "        else: \n",
    "            print('지원하지 않는 타입')\n",
    "            continue\n",
    "        globals()[f'{head}'] = df.copy()\n",
    "        print(f'{head} 전역변수 저장 완료')\n",
    "    \n",
    "    return f'{_path} 파일의 목록 저장 완료'"
   ]
  },
  {
   "cell_type": "code",
   "execution_count": 13,
   "metadata": {},
   "outputs": [
    {
     "name": "stdout",
     "output_type": "stream",
     "text": [
      "campaign_master 전역변수 저장 완료\n",
      "class_master 전역변수 저장 완료\n",
      "customer_master 전역변수 저장 완료\n",
      "use_log 전역변수 저장 완료\n"
     ]
    },
    {
     "data": {
      "text/plain": [
       "'../csv/num_3 파일의 목록 저장 완료'"
      ]
     },
     "execution_count": 13,
     "metadata": {},
     "output_type": "execute_result"
    }
   ],
   "source": [
    "data_load2('../csv/num_3')"
   ]
  },
  {
   "cell_type": "code",
   "execution_count": 15,
   "metadata": {},
   "outputs": [
    {
     "data": {
      "text/html": [
       "<div>\n",
       "<style scoped>\n",
       "    .dataframe tbody tr th:only-of-type {\n",
       "        vertical-align: middle;\n",
       "    }\n",
       "\n",
       "    .dataframe tbody tr th {\n",
       "        vertical-align: top;\n",
       "    }\n",
       "\n",
       "    .dataframe thead th {\n",
       "        text-align: right;\n",
       "    }\n",
       "</style>\n",
       "<table border=\"1\" class=\"dataframe\">\n",
       "  <thead>\n",
       "    <tr style=\"text-align: right;\">\n",
       "      <th></th>\n",
       "      <th>class</th>\n",
       "      <th>class_name</th>\n",
       "      <th>price</th>\n",
       "    </tr>\n",
       "  </thead>\n",
       "  <tbody>\n",
       "    <tr>\n",
       "      <th>0</th>\n",
       "      <td>C01</td>\n",
       "      <td>0_종일</td>\n",
       "      <td>10500</td>\n",
       "    </tr>\n",
       "    <tr>\n",
       "      <th>1</th>\n",
       "      <td>C02</td>\n",
       "      <td>1_주간</td>\n",
       "      <td>7500</td>\n",
       "    </tr>\n",
       "    <tr>\n",
       "      <th>2</th>\n",
       "      <td>C03</td>\n",
       "      <td>2_야간</td>\n",
       "      <td>6000</td>\n",
       "    </tr>\n",
       "  </tbody>\n",
       "</table>\n",
       "</div>"
      ],
      "text/plain": [
       "  class class_name  price\n",
       "0   C01       0_종일  10500\n",
       "1   C02       1_주간   7500\n",
       "2   C03       2_야간   6000"
      ]
     },
     "execution_count": 15,
     "metadata": {},
     "output_type": "execute_result"
    }
   ],
   "source": [
    "class_master"
   ]
  },
  {
   "cell_type": "code",
   "execution_count": 16,
   "metadata": {},
   "outputs": [],
   "source": [
    "def read_df(_path, _encoding = 'utf-8'):                     # 여기서 _path는 상세 경로\n",
    "    head, tail = os.path.splitext(_path)\n",
    "\n",
    "    if tail == '.csv':\n",
    "        df = pd.read_csv(_path, encoding = _encoding)\n",
    "    elif tail == '.json':\n",
    "        df = pd.read_json(_path, encoding = _encoding)\n",
    "    elif tail == '.xml':\n",
    "        df = pd.read_xml(_path, encoding = _encoding)\n",
    "    elif tail in ['.xlsx', '.xls']:\n",
    "        df = pd.read_excel(_path)\n",
    "    else:\n",
    "        df = pd.DataFrame()\n",
    "    return df "
   ]
  },
  {
   "cell_type": "code",
   "execution_count": 17,
   "metadata": {},
   "outputs": [
    {
     "data": {
      "text/html": [
       "<div>\n",
       "<style scoped>\n",
       "    .dataframe tbody tr th:only-of-type {\n",
       "        vertical-align: middle;\n",
       "    }\n",
       "\n",
       "    .dataframe tbody tr th {\n",
       "        vertical-align: top;\n",
       "    }\n",
       "\n",
       "    .dataframe thead th {\n",
       "        text-align: right;\n",
       "    }\n",
       "</style>\n",
       "<table border=\"1\" class=\"dataframe\">\n",
       "  <thead>\n",
       "    <tr style=\"text-align: right;\">\n",
       "      <th></th>\n",
       "      <th>구분</th>\n",
       "      <th>사고(건)</th>\n",
       "      <th>사망(명)</th>\n",
       "      <th>부상(명)</th>\n",
       "    </tr>\n",
       "  </thead>\n",
       "  <tbody>\n",
       "    <tr>\n",
       "      <th>0</th>\n",
       "      <td>2014년1월</td>\n",
       "      <td>169</td>\n",
       "      <td>7</td>\n",
       "      <td>347</td>\n",
       "    </tr>\n",
       "    <tr>\n",
       "      <th>1</th>\n",
       "      <td>2014년2월</td>\n",
       "      <td>145</td>\n",
       "      <td>3</td>\n",
       "      <td>268</td>\n",
       "    </tr>\n",
       "    <tr>\n",
       "      <th>2</th>\n",
       "      <td>2014년3월</td>\n",
       "      <td>206</td>\n",
       "      <td>12</td>\n",
       "      <td>358</td>\n",
       "    </tr>\n",
       "    <tr>\n",
       "      <th>3</th>\n",
       "      <td>2014년4월</td>\n",
       "      <td>182</td>\n",
       "      <td>4</td>\n",
       "      <td>360</td>\n",
       "    </tr>\n",
       "    <tr>\n",
       "      <th>4</th>\n",
       "      <td>2014년5월</td>\n",
       "      <td>218</td>\n",
       "      <td>17</td>\n",
       "      <td>474</td>\n",
       "    </tr>\n",
       "    <tr>\n",
       "      <th>5</th>\n",
       "      <td>2014년6월</td>\n",
       "      <td>233</td>\n",
       "      <td>13</td>\n",
       "      <td>457</td>\n",
       "    </tr>\n",
       "    <tr>\n",
       "      <th>6</th>\n",
       "      <td>2014년7월</td>\n",
       "      <td>229</td>\n",
       "      <td>14</td>\n",
       "      <td>431</td>\n",
       "    </tr>\n",
       "    <tr>\n",
       "      <th>7</th>\n",
       "      <td>2014년8월</td>\n",
       "      <td>222</td>\n",
       "      <td>9</td>\n",
       "      <td>447</td>\n",
       "    </tr>\n",
       "    <tr>\n",
       "      <th>8</th>\n",
       "      <td>2014년9월</td>\n",
       "      <td>225</td>\n",
       "      <td>15</td>\n",
       "      <td>430</td>\n",
       "    </tr>\n",
       "    <tr>\n",
       "      <th>9</th>\n",
       "      <td>2014년10월</td>\n",
       "      <td>210</td>\n",
       "      <td>14</td>\n",
       "      <td>392</td>\n",
       "    </tr>\n",
       "    <tr>\n",
       "      <th>10</th>\n",
       "      <td>2014년11월</td>\n",
       "      <td>209</td>\n",
       "      <td>10</td>\n",
       "      <td>386</td>\n",
       "    </tr>\n",
       "    <tr>\n",
       "      <th>11</th>\n",
       "      <td>2014년12월</td>\n",
       "      <td>178</td>\n",
       "      <td>12</td>\n",
       "      <td>329</td>\n",
       "    </tr>\n",
       "  </tbody>\n",
       "</table>\n",
       "</div>"
      ],
      "text/plain": [
       "          구분  사고(건)  사망(명)  부상(명)\n",
       "0    2014년1월    169      7    347\n",
       "1    2014년2월    145      3    268\n",
       "2    2014년3월    206     12    358\n",
       "3    2014년4월    182      4    360\n",
       "4    2014년5월    218     17    474\n",
       "5    2014년6월    233     13    457\n",
       "6    2014년7월    229     14    431\n",
       "7    2014년8월    222      9    447\n",
       "8    2014년9월    225     15    430\n",
       "9   2014년10월    210     14    392\n",
       "10  2014년11월    209     10    386\n",
       "11  2014년12월    178     12    329"
      ]
     },
     "execution_count": 17,
     "metadata": {},
     "output_type": "execute_result"
    }
   ],
   "source": [
    "read_df('../csv/2014.csv', 'CP949')"
   ]
  },
  {
   "cell_type": "code",
   "execution_count": 22,
   "metadata": {},
   "outputs": [],
   "source": [
    "def data_load(_path, _end = 'csv'):\n",
    "    file_list = os.listdir(_path)\n",
    "    result = pd.DataFrame()\n",
    "    _path = _path + '/'\n",
    "    for file in file_list:\n",
    "        if file.endswith(_end):\n",
    "            try:\n",
    "                df = read_df(_path+file)\n",
    "            except: \n",
    "                try:\n",
    "                    df = read_df(_path+file, _encoding = 'CP949')\n",
    "                except:\n",
    "                    df = read_df(_path+file, _encoding = 'EUC-KR')\n",
    "\n",
    "            result = pd.concat([result, df], axis = 0 , ignore_index= True)\n",
    "    return result         \n"
   ]
  },
  {
   "cell_type": "code",
   "execution_count": null,
   "metadata": {},
   "outputs": [],
   "source": [
    "a = data_load('../csv/2018')\n",
    "a.info()"
   ]
  },
  {
   "cell_type": "code",
   "execution_count": 32,
   "metadata": {},
   "outputs": [],
   "source": [
    "def data_loadG(_path):                                             # 여기서 _path는 파일경로\n",
    "    file_list = glob.glob(_path+'/*.*')\n",
    "    result = dict()\n",
    "    for file in file_list:\n",
    "        folder, name = os.path.split(file)\n",
    "        head, tail = os.path.splitext(name)\n",
    "        try:\n",
    "            df = read_df(file)\n",
    "        except: \n",
    "            try:\n",
    "                 df = read_df(file, _encoding = 'CP949')\n",
    "            except:\n",
    "                 df = read_df(file, _encoding = 'EUC-KR')\n",
    "        \n",
    "        if len(df) != 0:\n",
    "            result[f'{head}'] = df.copy()\n",
    "            print(f'{head} 전역변수 저장 완료')\n",
    "        else:\n",
    "            print('지원하지 않는 확장자 파일')\n",
    "    \n",
    "    \n"
   ]
  },
  {
   "cell_type": "code",
   "execution_count": 33,
   "metadata": {},
   "outputs": [
    {
     "name": "stdout",
     "output_type": "stream",
     "text": [
      "2014 전역변수 저장 완료\n",
      "campaign_master 전역변수 저장 완료\n",
      "class_master 전역변수 저장 완료\n",
      "corona 전역변수 저장 완료\n",
      "csv_exam 전역변수 저장 완료\n",
      "customer_master 전역변수 저장 완료\n",
      "dept 전역변수 저장 완료\n",
      "drinks 전역변수 저장 완료\n",
      "emp 전역변수 저장 완료\n",
      "example 전역변수 저장 완료\n",
      "item_master 전역변수 저장 완료\n",
      "지원하지 않는 확장자 파일\n",
      "Koweps_Codebook 전역변수 저장 완료\n",
      "Sales Records 전역변수 저장 완료\n",
      "tran_1 전역변수 저장 완료\n",
      "tran_2 전역변수 저장 완료\n",
      "tran_d_1 전역변수 저장 완료\n",
      "tran_d_2 전역변수 저장 완료\n",
      "uriage 전역변수 저장 완료\n",
      "use_log 전역변수 저장 완료\n",
      "USM 전역변수 저장 완료\n",
      "주민등록 전역변수 저장 완료\n"
     ]
    }
   ],
   "source": [
    "data_loadG('../csv')"
   ]
  },
  {
   "cell_type": "code",
   "execution_count": null,
   "metadata": {},
   "outputs": [],
   "source": []
  },
  {
   "cell_type": "code",
   "execution_count": null,
   "metadata": {},
   "outputs": [],
   "source": []
  },
  {
   "cell_type": "code",
   "execution_count": 34,
   "metadata": {},
   "outputs": [],
   "source": [
    "def read_df(_path, _encoding= 'utf-8'):\n",
    "    head, tail = os.path.splitext(_path)\n",
    "    if tail == '.csv':\n",
    "        df = pd.read_csv(_path, encoding = _encoding)\n",
    "    elif tail == '.json':\n",
    "        df = pd.read_json(_path, encoding = _encoding)\n",
    "    elif tail == '.xml':\n",
    "        df = pd.read_xml(_path, encoding = _encoding)\n",
    "    elif tail in ['.xlsx', '.xls']:\n",
    "        df = pd.read_excel(_path)                              \n",
    "    else:\n",
    "        df = pd.DataFrame()\n",
    "    return df"
   ]
  },
  {
   "cell_type": "code",
   "execution_count": 35,
   "metadata": {},
   "outputs": [],
   "source": [
    "def data_load(_folderpath, _end = 'csv'):\n",
    "    file_list = os.listdir(_folderpath)\n",
    "    result = pd.DataFrame()\n",
    "    _folderpath = _folderpath + '/'\n",
    "    for file in file_list:\n",
    "        if file.endswith(_end):\n",
    "            try: \n",
    "                df = read_df(_folderpath+file)        \n",
    "                         # 여기서 file은 os.listdir에서 가져왔으므로 파일명이다. 따라서 read_df에 _filepaht+file 넣어준다.\n",
    "            except:\n",
    "                try:\n",
    "                    df = read_df(_folderpath+file,'CP949')\n",
    "                except:\n",
    "                    df = read_df(_folderpath+file, 'EUC-KR')\n",
    "            result = pd.concat([result, df], ignore_index = True)\n",
    "    return result "
   ]
  },
  {
   "cell_type": "code",
   "execution_count": 43,
   "metadata": {},
   "outputs": [],
   "source": [
    "def data_loadG(_folderpath):\n",
    "    file_list = glob.glob(_folderpath+'/*.*')\n",
    "\n",
    "    result = dict()\n",
    "    for file in file_list:               \n",
    "        folder, name = os.path.split(file)\n",
    "        head, tail = os.path.splitext(name)\n",
    "        \n",
    "        try:  \n",
    "            df = read_df(file)                # 여기서 file은 glob에서 가져왔으므로 상세경로이다. 그래서 read_df에 file만 넣는다.\n",
    "        except:\n",
    "            try:\n",
    "                df = read_df(file, 'CP949')\n",
    "            except:\n",
    "                df = read_df(file, 'EUC-KR')\n",
    "\n",
    "        if len(df) != 0:\n",
    "            result[f'{head}'] = df.copy()\n",
    "            print(f'{head} 변수 저장 완료')\n",
    "        else:\n",
    "            print('지원하지 않는 확장자 파일')\n",
    "    return result        "
   ]
  },
  {
   "cell_type": "code",
   "execution_count": null,
   "metadata": {},
   "outputs": [],
   "source": [
    "a = data_loadG('../csv/2017')\n",
    "a['201701_expense_list']"
   ]
  },
  {
   "cell_type": "code",
   "execution_count": null,
   "metadata": {},
   "outputs": [],
   "source": []
  },
  {
   "cell_type": "code",
   "execution_count": null,
   "metadata": {},
   "outputs": [],
   "source": []
  },
  {
   "cell_type": "code",
   "execution_count": 6,
   "metadata": {},
   "outputs": [
    {
     "name": "stdout",
     "output_type": "stream",
     "text": [
      "작음\n",
      "작음\n"
     ]
    }
   ],
   "source": [
    "num = 3\n",
    "if num < 5:\n",
    "    print('작음')\n",
    "elif num < 19:\n",
    "    print('중간')\n",
    "else:\n",
    "    print('큼')\n",
    "\n",
    "# 한줄\n",
    "print('작음' if num < 5 else '중간' if num < 19 else '큼')"
   ]
  },
  {
   "cell_type": "code",
   "execution_count": null,
   "metadata": {},
   "outputs": [],
   "source": []
  }
 ],
 "metadata": {
  "kernelspec": {
   "display_name": "Python 3",
   "language": "python",
   "name": "python3"
  },
  "language_info": {
   "codemirror_mode": {
    "name": "ipython",
    "version": 3
   },
   "file_extension": ".py",
   "mimetype": "text/x-python",
   "name": "python",
   "nbconvert_exporter": "python",
   "pygments_lexer": "ipython3",
   "version": "3.12.2"
  }
 },
 "nbformat": 4,
 "nbformat_minor": 2
}
