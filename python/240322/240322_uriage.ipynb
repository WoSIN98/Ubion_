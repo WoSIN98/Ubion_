{
 "cells": [
  {
   "cell_type": "code",
   "execution_count": 1,
   "metadata": {},
   "outputs": [],
   "source": [
    "import pandas as pd"
   ]
  },
  {
   "cell_type": "code",
   "execution_count": 2,
   "metadata": {},
   "outputs": [],
   "source": [
    "df = pd.read_csv(\"../../csv/uriage.csv\")"
   ]
  },
  {
   "cell_type": "code",
   "execution_count": 3,
   "metadata": {},
   "outputs": [
    {
     "data": {
      "text/html": [
       "<div>\n",
       "<style scoped>\n",
       "    .dataframe tbody tr th:only-of-type {\n",
       "        vertical-align: middle;\n",
       "    }\n",
       "\n",
       "    .dataframe tbody tr th {\n",
       "        vertical-align: top;\n",
       "    }\n",
       "\n",
       "    .dataframe thead th {\n",
       "        text-align: right;\n",
       "    }\n",
       "</style>\n",
       "<table border=\"1\" class=\"dataframe\">\n",
       "  <thead>\n",
       "    <tr style=\"text-align: right;\">\n",
       "      <th></th>\n",
       "      <th>purchase_date</th>\n",
       "      <th>item_name</th>\n",
       "      <th>item_price</th>\n",
       "      <th>customer_name</th>\n",
       "    </tr>\n",
       "  </thead>\n",
       "  <tbody>\n",
       "    <tr>\n",
       "      <th>0</th>\n",
       "      <td>2019-06-13 18:02</td>\n",
       "      <td>상품A</td>\n",
       "      <td>100.0</td>\n",
       "      <td>김가온</td>\n",
       "    </tr>\n",
       "    <tr>\n",
       "      <th>1</th>\n",
       "      <td>2019-07-13 13:05</td>\n",
       "      <td>상 품 S</td>\n",
       "      <td>NaN</td>\n",
       "      <td>김우찬</td>\n",
       "    </tr>\n",
       "    <tr>\n",
       "      <th>2</th>\n",
       "      <td>2019-05-11 19:42</td>\n",
       "      <td>상 품 a</td>\n",
       "      <td>NaN</td>\n",
       "      <td>김유찬</td>\n",
       "    </tr>\n",
       "    <tr>\n",
       "      <th>3</th>\n",
       "      <td>2019-02-12 23:40</td>\n",
       "      <td>상품Z</td>\n",
       "      <td>2600.0</td>\n",
       "      <td>김재현</td>\n",
       "    </tr>\n",
       "    <tr>\n",
       "      <th>4</th>\n",
       "      <td>2019-04-22 3:09</td>\n",
       "      <td>상품a</td>\n",
       "      <td>NaN</td>\n",
       "      <td>김강현</td>\n",
       "    </tr>\n",
       "  </tbody>\n",
       "</table>\n",
       "</div>"
      ],
      "text/plain": [
       "      purchase_date item_name  item_price customer_name\n",
       "0  2019-06-13 18:02       상품A       100.0           김가온\n",
       "1  2019-07-13 13:05     상 품 S         NaN           김우찬\n",
       "2  2019-05-11 19:42     상 품 a         NaN           김유찬\n",
       "3  2019-02-12 23:40       상품Z      2600.0           김재현\n",
       "4   2019-04-22 3:09       상품a         NaN           김강현"
      ]
     },
     "execution_count": 3,
     "metadata": {},
     "output_type": "execute_result"
    }
   ],
   "source": [
    "df.head()\n",
    "# 데이터 정형화 \n",
    "# 1. 결측치 2. item_name 공백 3. item_name 대소문자"
   ]
  },
  {
   "cell_type": "markdown",
   "metadata": {},
   "source": [
    "#### uriage 데이터에서 문제점\n",
    "1. item_name이 대/소문자 문제\n",
    "    - 모든 문자를 대문자(소문자) 변환\n",
    "    - upper(), lower()\n",
    "2. item_name에 공백 존재\n",
    "    - 공백을　제거　\n",
    "    - strip(), replace()\n"
   ]
  },
  {
   "cell_type": "code",
   "execution_count": 4,
   "metadata": {},
   "outputs": [
    {
     "data": {
      "text/plain": [
       "0         상품A\n",
       "1       상 품 S\n",
       "2       상 품 a\n",
       "3         상품Z\n",
       "4         상품a\n",
       "        ...  \n",
       "2994      상품Y\n",
       "2995      상품M\n",
       "2996      상품Q\n",
       "2997      상품H\n",
       "2998      상품D\n",
       "Name: item_name, Length: 2999, dtype: object"
      ]
     },
     "execution_count": 4,
     "metadata": {},
     "output_type": "execute_result"
    }
   ],
   "source": [
    "## item_name에 문자들을 모두 대문자로 변환 \n",
    "df['item_name'].upper()                         # 에러 발생. 시리즈에는 upper()함수 없다."
   ]
  },
  {
   "cell_type": "code",
   "execution_count": 6,
   "metadata": {},
   "outputs": [
    {
     "data": {
      "text/plain": [
       "'상 품 a'"
      ]
     },
     "execution_count": 6,
     "metadata": {},
     "output_type": "execute_result"
    }
   ],
   "source": [
    "df['item_name'][2].upper()                     # 시리즈 안의 값을 하나 추출하면 문자이기때문에 upper() 쓸 수 있다."
   ]
  },
  {
   "cell_type": "code",
   "execution_count": 23,
   "metadata": {},
   "outputs": [],
   "source": [
    "df2 = df.copy()"
   ]
  },
  {
   "cell_type": "code",
   "execution_count": 24,
   "metadata": {},
   "outputs": [],
   "source": [
    "# case1 (반복문을 이용)\n",
    "for i in range(0, len(df2)):\n",
    "    # i에 대입되는 데이터 -> df2의 인덱스 값\n",
    "    df2.loc[i, 'item_name'] = df2.loc[i, 'item_name'].upper()"
   ]
  },
  {
   "cell_type": "code",
   "execution_count": 25,
   "metadata": {},
   "outputs": [
    {
     "data": {
      "text/html": [
       "<div>\n",
       "<style scoped>\n",
       "    .dataframe tbody tr th:only-of-type {\n",
       "        vertical-align: middle;\n",
       "    }\n",
       "\n",
       "    .dataframe tbody tr th {\n",
       "        vertical-align: top;\n",
       "    }\n",
       "\n",
       "    .dataframe thead th {\n",
       "        text-align: right;\n",
       "    }\n",
       "</style>\n",
       "<table border=\"1\" class=\"dataframe\">\n",
       "  <thead>\n",
       "    <tr style=\"text-align: right;\">\n",
       "      <th></th>\n",
       "      <th>purchase_date</th>\n",
       "      <th>item_name</th>\n",
       "      <th>item_price</th>\n",
       "      <th>customer_name</th>\n",
       "    </tr>\n",
       "  </thead>\n",
       "  <tbody>\n",
       "    <tr>\n",
       "      <th>0</th>\n",
       "      <td>2019-06-13 18:02</td>\n",
       "      <td>상품A</td>\n",
       "      <td>100.0</td>\n",
       "      <td>김가온</td>\n",
       "    </tr>\n",
       "    <tr>\n",
       "      <th>1</th>\n",
       "      <td>2019-07-13 13:05</td>\n",
       "      <td>상 품 S</td>\n",
       "      <td>NaN</td>\n",
       "      <td>김우찬</td>\n",
       "    </tr>\n",
       "    <tr>\n",
       "      <th>2</th>\n",
       "      <td>2019-05-11 19:42</td>\n",
       "      <td>상 품 A</td>\n",
       "      <td>NaN</td>\n",
       "      <td>김유찬</td>\n",
       "    </tr>\n",
       "    <tr>\n",
       "      <th>3</th>\n",
       "      <td>2019-02-12 23:40</td>\n",
       "      <td>상품Z</td>\n",
       "      <td>2600.0</td>\n",
       "      <td>김재현</td>\n",
       "    </tr>\n",
       "    <tr>\n",
       "      <th>4</th>\n",
       "      <td>2019-04-22 3:09</td>\n",
       "      <td>상품A</td>\n",
       "      <td>NaN</td>\n",
       "      <td>김강현</td>\n",
       "    </tr>\n",
       "  </tbody>\n",
       "</table>\n",
       "</div>"
      ],
      "text/plain": [
       "      purchase_date item_name  item_price customer_name\n",
       "0  2019-06-13 18:02       상품A       100.0           김가온\n",
       "1  2019-07-13 13:05     상 품 S         NaN           김우찬\n",
       "2  2019-05-11 19:42     상 품 A         NaN           김유찬\n",
       "3  2019-02-12 23:40       상품Z      2600.0           김재현\n",
       "4   2019-04-22 3:09       상품A         NaN           김강현"
      ]
     },
     "execution_count": 25,
     "metadata": {},
     "output_type": "execute_result"
    }
   ],
   "source": [
    "df2.head()"
   ]
  },
  {
   "cell_type": "code",
   "execution_count": null,
   "metadata": {},
   "outputs": [],
   "source": [
    "df3 = df.copy()"
   ]
  },
  {
   "cell_type": "markdown",
   "metadata": {},
   "source": [
    "#### lambda 함수 \n",
    "- 일반함수는 선언과 호출 2가지의 과정으로 나누어 진다.\n",
    "- lambda 함수는 선언과 동시에 호출이 자동으로 된다.\n",
    "    - lambda 매개변수명 : 실행이 될 코드 \n",
    "- 일반함수로 사용을 하기에는 너무 간단한 작업은 lambda로 생성"
   ]
  },
  {
   "cell_type": "code",
   "execution_count": 29,
   "metadata": {},
   "outputs": [
    {
     "data": {
      "text/plain": [
       "[3, 4, 5, 6]"
      ]
     },
     "execution_count": 29,
     "metadata": {},
     "output_type": "execute_result"
    }
   ],
   "source": [
    "## case2 ( map() -> 1차원 자료형 구조 데이터에서 각 데이터들을 하나씩 추출하여 작업(함수) )                            # 많이 사용한다.\n",
    "\n",
    "# Base(python) : map( 함수, 1차원 리스트명 )\n",
    "_list = [1,2,3,4]\n",
    "# map(), lambda 결합\n",
    "list(map(\n",
    "    lambda x : x + 1,\n",
    "    _list\n",
    ")) \n",
    "# map(), 일반 함수 결합\n",
    "def change(x):\n",
    "    return x + 2\n",
    "list(                                   # 반복문을 간단하게 사용할 수 있다.\n",
    "    map(\n",
    "        change,                          # 함수명만 쓰는 것. 인자값 적지 않는다\n",
    "        _list\n",
    "    )\n",
    ")"
   ]
  },
  {
   "cell_type": "code",
   "execution_count": null,
   "metadata": {},
   "outputs": [],
   "source": [
    "df2.loc[i, 'item_name'](map(\n",
    "    lambda  : \n",
    "))"
   ]
  },
  {
   "cell_type": "code",
   "execution_count": null,
   "metadata": {},
   "outputs": [],
   "source": []
  },
  {
   "cell_type": "code",
   "execution_count": 22,
   "metadata": {},
   "outputs": [
    {
     "data": {
      "text/html": [
       "<div>\n",
       "<style scoped>\n",
       "    .dataframe tbody tr th:only-of-type {\n",
       "        vertical-align: middle;\n",
       "    }\n",
       "\n",
       "    .dataframe tbody tr th {\n",
       "        vertical-align: top;\n",
       "    }\n",
       "\n",
       "    .dataframe thead th {\n",
       "        text-align: right;\n",
       "    }\n",
       "</style>\n",
       "<table border=\"1\" class=\"dataframe\">\n",
       "  <thead>\n",
       "    <tr style=\"text-align: right;\">\n",
       "      <th></th>\n",
       "      <th>purchase_date</th>\n",
       "      <th>item_name</th>\n",
       "      <th>item_price</th>\n",
       "      <th>customer_name</th>\n",
       "    </tr>\n",
       "  </thead>\n",
       "  <tbody>\n",
       "    <tr>\n",
       "      <th>0</th>\n",
       "      <td>2019-06-13 18:02</td>\n",
       "      <td>상품A</td>\n",
       "      <td>100.0</td>\n",
       "      <td>김가온</td>\n",
       "    </tr>\n",
       "    <tr>\n",
       "      <th>1</th>\n",
       "      <td>2019-07-13 13:05</td>\n",
       "      <td>상품S</td>\n",
       "      <td>NaN</td>\n",
       "      <td>김우찬</td>\n",
       "    </tr>\n",
       "    <tr>\n",
       "      <th>2</th>\n",
       "      <td>2019-05-11 19:42</td>\n",
       "      <td>상품A</td>\n",
       "      <td>NaN</td>\n",
       "      <td>김유찬</td>\n",
       "    </tr>\n",
       "    <tr>\n",
       "      <th>3</th>\n",
       "      <td>2019-02-12 23:40</td>\n",
       "      <td>상품Z</td>\n",
       "      <td>2600.0</td>\n",
       "      <td>김재현</td>\n",
       "    </tr>\n",
       "    <tr>\n",
       "      <th>4</th>\n",
       "      <td>2019-04-22 3:09</td>\n",
       "      <td>상품A</td>\n",
       "      <td>NaN</td>\n",
       "      <td>김강현</td>\n",
       "    </tr>\n",
       "    <tr>\n",
       "      <th>5</th>\n",
       "      <td>2019-03-20 19:16</td>\n",
       "      <td>상품S</td>\n",
       "      <td>1900.0</td>\n",
       "      <td>김우진</td>\n",
       "    </tr>\n",
       "    <tr>\n",
       "      <th>6</th>\n",
       "      <td>2019-05-18 19:16</td>\n",
       "      <td>상품A</td>\n",
       "      <td>NaN</td>\n",
       "      <td>김재준</td>\n",
       "    </tr>\n",
       "    <tr>\n",
       "      <th>7</th>\n",
       "      <td>2019-04-18 0:14</td>\n",
       "      <td>상품V</td>\n",
       "      <td>2200.0</td>\n",
       "      <td>김민혁</td>\n",
       "    </tr>\n",
       "    <tr>\n",
       "      <th>8</th>\n",
       "      <td>2019-01-10 15:51</td>\n",
       "      <td>상품O</td>\n",
       "      <td>1500.0</td>\n",
       "      <td>김선우</td>\n",
       "    </tr>\n",
       "    <tr>\n",
       "      <th>9</th>\n",
       "      <td>2019-01-28 10:47</td>\n",
       "      <td>상품A</td>\n",
       "      <td>100.0</td>\n",
       "      <td>김태윤</td>\n",
       "    </tr>\n",
       "    <tr>\n",
       "      <th>10</th>\n",
       "      <td>2019-06-21 1:54</td>\n",
       "      <td>상품U</td>\n",
       "      <td>2100.0</td>\n",
       "      <td>김시완</td>\n",
       "    </tr>\n",
       "    <tr>\n",
       "      <th>11</th>\n",
       "      <td>2019-06-08 11:32</td>\n",
       "      <td>상품L</td>\n",
       "      <td>1200.0</td>\n",
       "      <td>김도윤</td>\n",
       "    </tr>\n",
       "    <tr>\n",
       "      <th>12</th>\n",
       "      <td>2019-04-08 2:00</td>\n",
       "      <td>상품V</td>\n",
       "      <td>2200.0</td>\n",
       "      <td>김주한</td>\n",
       "    </tr>\n",
       "    <tr>\n",
       "      <th>13</th>\n",
       "      <td>2019-06-19 9:50</td>\n",
       "      <td>상품O</td>\n",
       "      <td>1500.0</td>\n",
       "      <td>김도원</td>\n",
       "    </tr>\n",
       "    <tr>\n",
       "      <th>14</th>\n",
       "      <td>2019-06-11 12:57</td>\n",
       "      <td>상품A</td>\n",
       "      <td>NaN</td>\n",
       "      <td>김재호</td>\n",
       "    </tr>\n",
       "    <tr>\n",
       "      <th>15</th>\n",
       "      <td>2019-04-21 0:11</td>\n",
       "      <td>상품C</td>\n",
       "      <td>300.0</td>\n",
       "      <td>김지율</td>\n",
       "    </tr>\n",
       "    <tr>\n",
       "      <th>16</th>\n",
       "      <td>2019-03-28 23:24</td>\n",
       "      <td>상품V</td>\n",
       "      <td>2200.0</td>\n",
       "      <td>김재훈</td>\n",
       "    </tr>\n",
       "    <tr>\n",
       "      <th>17</th>\n",
       "      <td>2019-04-06 12:00</td>\n",
       "      <td>상품I</td>\n",
       "      <td>900.0</td>\n",
       "      <td>김상현</td>\n",
       "    </tr>\n",
       "    <tr>\n",
       "      <th>18</th>\n",
       "      <td>2019-07-16 5:55</td>\n",
       "      <td>상품R</td>\n",
       "      <td>1800.0</td>\n",
       "      <td>김준성</td>\n",
       "    </tr>\n",
       "    <tr>\n",
       "      <th>19</th>\n",
       "      <td>2019-07-03 7:04</td>\n",
       "      <td>상품X</td>\n",
       "      <td>2400.0</td>\n",
       "      <td>김성민</td>\n",
       "    </tr>\n",
       "  </tbody>\n",
       "</table>\n",
       "</div>"
      ],
      "text/plain": [
       "       purchase_date item_name  item_price customer_name\n",
       "0   2019-06-13 18:02       상품A       100.0           김가온\n",
       "1   2019-07-13 13:05       상품S         NaN           김우찬\n",
       "2   2019-05-11 19:42       상품A         NaN           김유찬\n",
       "3   2019-02-12 23:40       상품Z      2600.0           김재현\n",
       "4    2019-04-22 3:09       상품A         NaN           김강현\n",
       "5   2019-03-20 19:16       상품S      1900.0           김우진\n",
       "6   2019-05-18 19:16       상품A         NaN           김재준\n",
       "7    2019-04-18 0:14       상품V      2200.0           김민혁\n",
       "8   2019-01-10 15:51       상품O      1500.0           김선우\n",
       "9   2019-01-28 10:47       상품A       100.0           김태윤\n",
       "10   2019-06-21 1:54       상품U      2100.0           김시완\n",
       "11  2019-06-08 11:32       상품L      1200.0           김도윤\n",
       "12   2019-04-08 2:00       상품V      2200.0           김주한\n",
       "13   2019-06-19 9:50       상품O      1500.0           김도원\n",
       "14  2019-06-11 12:57       상품A         NaN           김재호\n",
       "15   2019-04-21 0:11       상품C       300.0           김지율\n",
       "16  2019-03-28 23:24       상품V      2200.0           김재훈\n",
       "17  2019-04-06 12:00       상품I       900.0           김상현\n",
       "18   2019-07-16 5:55       상품R      1800.0           김준성\n",
       "19   2019-07-03 7:04       상품X      2400.0           김성민"
      ]
     },
     "execution_count": 22,
     "metadata": {},
     "output_type": "execute_result"
    }
   ],
   "source": [
    "# 공백제거 case1 (반복문 사용)               # 혼자 해본 것\n",
    "for i in range(0, len(df2)):\n",
    "    df2.loc[i, 'item_name'] = df2.loc[i, 'item_name'].replace(\" \", \"\")\n",
    "df2.head(20)"
   ]
  },
  {
   "cell_type": "code",
   "execution_count": null,
   "metadata": {},
   "outputs": [],
   "source": []
  }
 ],
 "metadata": {
  "kernelspec": {
   "display_name": "Python 3",
   "language": "python",
   "name": "python3"
  },
  "language_info": {
   "codemirror_mode": {
    "name": "ipython",
    "version": 3
   },
   "file_extension": ".py",
   "mimetype": "text/x-python",
   "name": "python",
   "nbconvert_exporter": "python",
   "pygments_lexer": "ipython3",
   "version": "3.12.2"
  }
 },
 "nbformat": 4,
 "nbformat_minor": 2
}
