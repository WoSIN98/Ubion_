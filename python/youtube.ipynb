{
 "cells": [
  {
   "cell_type": "code",
   "execution_count": null,
   "metadata": {},
   "outputs": [],
   "source": [
    "# !pip install google-api-python-client"
   ]
  },
  {
   "cell_type": "code",
   "execution_count": 4,
   "metadata": {},
   "outputs": [],
   "source": [
    "import os\n",
    "import csv\n",
    "import googleapiclient.discovery"
   ]
  },
  {
   "cell_type": "code",
   "execution_count": 4,
   "metadata": {},
   "outputs": [
    {
     "name": "stdout",
     "output_type": "stream",
     "text": [
      "모든 댓글이 'youtube_comments.csv' 파일로 성공적으로 추출되었습니다.\n"
     ]
    }
   ],
   "source": [
    "# YouTube API 키 설정\n",
    "API_KEY = \"MY API\"\n",
    "\n",
    "# YouTube Data API 클라이언트 초기화\n",
    "youtube = googleapiclient.discovery.build(\"youtube\", \"v3\", developerKey=API_KEY)\n",
    "\n",
    "# 동영상 ID\n",
    "video_id = \"해당 video ID\"\n",
    "\n",
    "# 댓글 가져오기\n",
    "def get_video_comments(youtube, **kwargs):\n",
    "    comments = []\n",
    "    results = youtube.commentThreads().list(**kwargs).execute()\n",
    "\n",
    "    while results:\n",
    "        for item in results[\"items\"]:\n",
    "            comment = item[\"snippet\"][\"topLevelComment\"][\"snippet\"][\"textDisplay\"]\n",
    "            comments.append(comment)\n",
    "\n",
    "        # 다음 페이지의 댓글 가져오기\n",
    "        if 'nextPageToken' in results:\n",
    "            kwargs['pageToken'] = results['nextPageToken']\n",
    "            results = youtube.commentThreads().list(**kwargs).execute()\n",
    "        else:\n",
    "            break\n",
    "\n",
    "    return comments\n",
    "\n",
    "# 주어진 동영상의 댓글 가져오기\n",
    "video_comments = get_video_comments(youtube, part=\"snippet\", videoId=video_id, textFormat=\"plainText\")\n",
    "\n",
    "# 댓글을 CSV 파일로 저장\n",
    "csv_filename = 'youtube_comments.csv'\n",
    "with open(csv_filename, 'w', newline='', encoding='utf-8') as file:\n",
    "    writer = csv.writer(file)\n",
    "    writer.writerow([\"Comment\"])\n",
    "    for comment in video_comments:\n",
    "        writer.writerow([comment])\n",
    "\n",
    "# 성공 메시지 출력\n",
    "print(f\"모든 댓글이 '{csv_filename}' 파일로 성공적으로 추출되었습니다.\")\n"
   ]
  }
 ],
 "metadata": {
  "kernelspec": {
   "display_name": "Python 3",
   "language": "python",
   "name": "python3"
  },
  "language_info": {
   "codemirror_mode": {
    "name": "ipython",
    "version": 3
   },
   "file_extension": ".py",
   "mimetype": "text/x-python",
   "name": "python",
   "nbconvert_exporter": "python",
   "pygments_lexer": "ipython3",
   "version": "3.12.2"
  }
 },
 "nbformat": 4,
 "nbformat_minor": 2
}
