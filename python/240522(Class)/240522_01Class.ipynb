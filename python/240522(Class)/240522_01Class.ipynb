{
 "cells": [
  {
   "cell_type": "markdown",
   "metadata": {},
   "source": [
    "### Class의 상속\n",
    "- 부모클래스의 기능을 유지한 상태에서 자식클래스가 부모클래스의 기능을 추가하여 사용"
   ]
  },
  {
   "cell_type": "code",
   "execution_count": 1,
   "metadata": {},
   "outputs": [],
   "source": [
    "## 부모 클래스를 생성\n",
    "class User:\n",
    "    # 생성자 함수 : 유저의 정보를 입력받아서 독립 변수에 대입\n",
    "    def __init__(self, _name, _age, _loc):\n",
    "        self.name = _name\n",
    "        self.age = _age\n",
    "        self.loc = _loc\n",
    "    # 유저의 정보를 출력해주는 함수 생성\n",
    "    def view_info(self):\n",
    "        result = f\"유저의 이름 : {self.name}, 나이 : {self.age}, 지역 : {self.loc}\"\n",
    "        return result"
   ]
  },
  {
   "cell_type": "code",
   "execution_count": 4,
   "metadata": {},
   "outputs": [],
   "source": [
    "# Class 생성\n",
    "user1 = User('kim', 20, '서울')\n",
    "user2 = User('jeong', 27, '인천')"
   ]
  },
  {
   "cell_type": "code",
   "execution_count": 6,
   "metadata": {},
   "outputs": [
    {
     "name": "stdout",
     "output_type": "stream",
     "text": [
      "유저의 이름 : kim, 나이 : 20, 지역 : 서울\n",
      "유저의 이름 : jeong, 나이 : 27, 지역 : 인천\n"
     ]
    }
   ],
   "source": [
    "print(user1.view_info())\n",
    "print(user2.view_info())"
   ]
  },
  {
   "cell_type": "markdown",
   "metadata": {},
   "source": [
    "#### 자식 클래스\n",
    "- 클래스의 이름은 Wallet\n",
    "- User class의 기능을 상속받는다. (독립변수를 만들어주는 생성자 함수, 유저의 정보를 보여주는 함수)\n",
    "- Wallet class에서만 사용할 수 있는 독립변수를 생성(지갑의 잔액, 구매한 물건의 목록)\n",
    "- work( ) 함수를 생성 \n",
    "    - 매개변수 : 일의 종류(_type)\n",
    "    - 매개변수 : 일의 기간(_time)\n",
    "    - 일의 종류와 기간에 따라 독립변수 지갑의 잔액을 증가시킨다.\n",
    "    - 리턴 값은 일을 하여 번 돈의 양과 현재 지갑의 잔액을 표시\n",
    "- purchase( ) 함수를 생성\n",
    "    - 매개변수 : 구매한 물품(_type)\n",
    "    - 매개변수 : 개수(_cnt)\n",
    "    - 구매하려는 물품의 가격과 개수를 이용하여, 지갑의 잔액과 배교\n",
    "        - 잔액이 크거나 같다면 -> 구매 성공, 잔액 감소, 구매한 물품의 목록에 추가({물품의 이름 : 개수})\n",
    "        - 잔액이 작다면 -> 구매 실패, 잔액 유지\n",
    "    - 현재 구매 상태와 지갑의 잔액을 표시하여 리턴\n",
    "    "
   ]
  },
  {
   "cell_type": "code",
   "execution_count": 119,
   "metadata": {},
   "outputs": [],
   "source": [
    "## 자식 클래스 생성\n",
    "class Wallet(User):\n",
    "\n",
    "    # class 변수를 선언\n",
    "    # 구매할 수 있는 아이템의 목록\n",
    "    items = {\n",
    "        'ipad' : 3200000,\n",
    "        'audema' : 20000000,\n",
    "        'soju' : 1350,\n",
    "        'house' : 1600000000\n",
    "    }\n",
    "\n",
    "    # User class의 생성자 함수, view_info() 함수를 상속 받았다.\n",
    "    # 자식 클래스의 생성자 함수\n",
    "    def __init__(self, _name, _age, _loc, _balance = 0):\n",
    "        # self.name = _name\n",
    "        # 부모 클래스의 생성자 함수를 호출\n",
    "        super().__init__(_name, _age, _loc)\n",
    "        self.balance = _balance\n",
    "        self.item_list = []\n",
    "\n",
    "    # 일을 하는 함수 생성\n",
    "    def work(self, _type, _time):\n",
    "        # _type : 일의 종류(직급)\n",
    "        # _time : 일의 기간\n",
    "        if _type == '신입':\n",
    "            # case 1 \n",
    "            income = 3000000 # 이렇게 만들고 아래에서 total_income = income * _time , self.balance += total_income\n",
    "            #self.balance += (3000000 * _time)\n",
    "        elif _type == '대리':\n",
    "            income = 3500000\n",
    "            #self.balance += (3500000 * _time)\n",
    "        elif _type == '과장':\n",
    "            income = 5000000\n",
    "            #self.balance += (5000000 * _time)\n",
    "        else:\n",
    "            return \"입력한 직급이 존재하지 않습니다.\"\n",
    "        total_income = income * _time \n",
    "        self.balance += total_income\n",
    "        return f\"{self.name}님의 지갑에 월급이 들어왔습니다. 입급 금액 : {total_income} 잔액 : {self.balance}\"\n",
    "    \n",
    "    def purchase(self, _type, _cnt):\n",
    "        # 상품의 가격을 호출해서 변수에 저장\n",
    "        # if 문 쓴다면 _type(str형태) in (items.keys(tuple형태))\n",
    "        try:\n",
    "            cost = self.items[_type]\n",
    "        except:\n",
    "            return f\"등록된 물품 정보가 존재하지 않습니다. 등록된 물건은 {Wallet.items.keys()}\"\n",
    "    \n",
    "        total_cost = cost * _cnt\n",
    "        # 전체 비용과 지갑의 잔액을 비교\n",
    "        if self.balance >= total_cost:\n",
    "            # 지갑의 잔액이 충분하다. -> 구매(self.item_list에 물건을 추가, self.balance에 차감)\n",
    "            self.item_list.append({\n",
    "                _type : _cnt\n",
    "            })\n",
    "            self.balance -= total_cost\n",
    "            return f\"{_type}를 {_cnt}개 구매 완료. 잔액 : {self.balance}\"\n",
    "        else: \n",
    "            print(\"돈이 부족합니다. 돈을 더 열심히 버십시오. Show me the money\")\n",
    "            lack = total_cost - self.balance\n",
    "            return f\"부족한 금액 : {lack}, 잔액 : {self.balance}\"\n",
    "    # items에 새로운 키 : 벨류를 추가하는 함수를 생성\n",
    "    def add_item(self, _type, _cost):\n",
    "        # _type으로 들어온 데이터의 값이 items에 키 값으로 존재하는가?\n",
    "        # 존재하지 않는다면 새로운 키 : 벨류를 추가\n",
    "        \n",
    "        # 존재한다면 해당하는 상품이 존재한다는 메시지를 리턴\n",
    "        items_keys = list(self.items.keys())\n",
    "        print(items_keys)\n",
    "        # items_key 값들 중 _type이 포함(in)되어 있는가?\n",
    "        if _type in items_keys:\n",
    "            result = \"이미 등록되어 있는 상품입니다.\"\n",
    "        else:\n",
    "            # 포함되어 있지 않은 경우\n",
    "            # items에 새로운 키 : 벨류 추가\n",
    "            self.items[_type] = _cost\n",
    "            result = f\"{_type}의 상품을 등록하였습니다.\"\n",
    "        return result\n",
    "    \n",
    "    # User class에 있는 view_info() 함수를 덮어씌운다.\n",
    "    def view_info(self):\n",
    "        origin_result = super().view_info()\n",
    "        result = f\"지갑의 소유자의 이름 : {self.name}, 현재 지갑의 잔액 : {self.balance}, 소유자가 구매한 물품의 목록 : {self.item_list}\"\n",
    "        return origin_result + '\\n' +result"
   ]
  },
  {
   "cell_type": "code",
   "execution_count": 120,
   "metadata": {},
   "outputs": [],
   "source": [
    "# Wallet class 생성\n",
    "wallet1 = Wallet('이강희', 26, '중랑구')\n",
    "wallet2 = Wallet('정우성', 27, '당산', 16000000)"
   ]
  },
  {
   "cell_type": "code",
   "execution_count": 122,
   "metadata": {},
   "outputs": [
    {
     "name": "stdout",
     "output_type": "stream",
     "text": [
      "유저의 이름 : 정우성, 나이 : 27, 지역 : 당산\n",
      "지갑의 소유자의 이름 : 정우성, 현재 지갑의 잔액 : 16000000, 소유자가 구매한 물품의 목록 : []\n"
     ]
    }
   ],
   "source": [
    "print(wallet2.view_info())"
   ]
  },
  {
   "cell_type": "code",
   "execution_count": 102,
   "metadata": {},
   "outputs": [
    {
     "data": {
      "text/plain": [
       "'이강희님의 지갑에 월급이 들어왔습니다. 입급 금액 : 60000000 잔액 : 60000000'"
      ]
     },
     "execution_count": 102,
     "metadata": {},
     "output_type": "execute_result"
    }
   ],
   "source": [
    "wallet1.work('신입', 20)"
   ]
  },
  {
   "cell_type": "code",
   "execution_count": 109,
   "metadata": {},
   "outputs": [
    {
     "data": {
      "text/plain": [
       "'정우성님의 지갑에 월급이 들어왔습니다. 입급 금액 : 35000000 잔액 : 54800000'"
      ]
     },
     "execution_count": 109,
     "metadata": {},
     "output_type": "execute_result"
    }
   ],
   "source": [
    "wallet2.work('대리', 10)"
   ]
  },
  {
   "cell_type": "code",
   "execution_count": 104,
   "metadata": {},
   "outputs": [
    {
     "data": {
      "text/plain": [
       "23000000"
      ]
     },
     "execution_count": 104,
     "metadata": {},
     "output_type": "execute_result"
    }
   ],
   "source": [
    "wallet2.balance"
   ]
  },
  {
   "cell_type": "code",
   "execution_count": 105,
   "metadata": {},
   "outputs": [
    {
     "data": {
      "text/plain": [
       "'ipad를 1개 구매 완료. 잔액 : 19800000'"
      ]
     },
     "execution_count": 105,
     "metadata": {},
     "output_type": "execute_result"
    }
   ],
   "source": [
    "wallet2.purchase('ipad',1)"
   ]
  },
  {
   "cell_type": "code",
   "execution_count": 112,
   "metadata": {},
   "outputs": [
    {
     "data": {
      "text/plain": [
       "'audema를 1개 구매 완료. 잔액 : 14800000'"
      ]
     },
     "execution_count": 112,
     "metadata": {},
     "output_type": "execute_result"
    }
   ],
   "source": [
    "wallet2.purchase('audema',1)"
   ]
  },
  {
   "cell_type": "code",
   "execution_count": 79,
   "metadata": {},
   "outputs": [
    {
     "data": {
      "text/plain": [
       "\"등록된 물품 정보가 존재하지 않습니다. 등록된 물건은 dict_keys(['ipad', 'audema', 'soju', 'house'])\""
      ]
     },
     "execution_count": 79,
     "metadata": {},
     "output_type": "execute_result"
    }
   ],
   "source": [
    "wallet2.purchase('item',1)"
   ]
  },
  {
   "cell_type": "code",
   "execution_count": null,
   "metadata": {},
   "outputs": [],
   "source": [
    "wallet2.add_item('item', 100)"
   ]
  },
  {
   "cell_type": "code",
   "execution_count": 75,
   "metadata": {},
   "outputs": [
    {
     "name": "stdout",
     "output_type": "stream",
     "text": [
      "돈이 부족합니다. 돈을 더 열심히 버십시오. Show me the money\n"
     ]
    },
    {
     "data": {
      "text/plain": [
       "'부족한 금액 : 1540000000, 잔액 : 60000000'"
      ]
     },
     "execution_count": 75,
     "metadata": {},
     "output_type": "execute_result"
    }
   ],
   "source": [
    "wallet1.purchase('house',1)"
   ]
  },
  {
   "cell_type": "markdown",
   "metadata": {},
   "source": [
    "#### 오버라이딩\n",
    "- 덮어 씌우다.\n",
    "- 기능을 덮어씌운다.\n",
    "    - 기능의 이름을 다시 작성하여 행동을 덮어씌우는 작업\n",
    "    - 함수의 이름은 같지만 기능을 다르게 하고 싶을 때 \n",
    "    - ex) replace( ), map( ) 등..."
   ]
  },
  {
   "cell_type": "code",
   "execution_count": null,
   "metadata": {},
   "outputs": [],
   "source": []
  },
  {
   "cell_type": "code",
   "execution_count": null,
   "metadata": {},
   "outputs": [],
   "source": []
  },
  {
   "cell_type": "code",
   "execution_count": null,
   "metadata": {},
   "outputs": [],
   "source": []
  }
 ],
 "metadata": {
  "kernelspec": {
   "display_name": "Python 3",
   "language": "python",
   "name": "python3"
  },
  "language_info": {
   "codemirror_mode": {
    "name": "ipython",
    "version": 3
   },
   "file_extension": ".py",
   "mimetype": "text/x-python",
   "name": "python",
   "nbconvert_exporter": "python",
   "pygments_lexer": "ipython3",
   "version": "3.12.2"
  }
 },
 "nbformat": 4,
 "nbformat_minor": 2
}
