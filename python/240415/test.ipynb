{
 "cells": [
  {
   "cell_type": "code",
   "execution_count": 1,
   "metadata": {},
   "outputs": [],
   "source": [
    "from selenium import webdriver\n",
    "from selenium.webdriver.common.by import By\n",
    "from selenium.webdriver.common.keys import Keys\n",
    "import pandas as pd\n",
    "import time \n",
    "from bs4 import BeautifulSoup as builder_registry\n",
    "import os\n",
    "from dotenv import load_dotenv"
   ]
  },
  {
   "cell_type": "code",
   "execution_count": 2,
   "metadata": {},
   "outputs": [],
   "source": [
    "driver = webdriver.Chrome()"
   ]
  },
  {
   "cell_type": "code",
   "execution_count": 3,
   "metadata": {},
   "outputs": [],
   "source": [
    "driver.get('https://www.instagram.com')"
   ]
  },
  {
   "cell_type": "code",
   "execution_count": 4,
   "metadata": {},
   "outputs": [
    {
     "data": {
      "text/plain": [
       "True"
      ]
     },
     "execution_count": 4,
     "metadata": {},
     "output_type": "execute_result"
    }
   ],
   "source": [
    "load_dotenv()"
   ]
  },
  {
   "cell_type": "code",
   "execution_count": 5,
   "metadata": {},
   "outputs": [],
   "source": [
    "face_element = driver.find_element(By.XPATH, '//*[@id=\"loginForm\"]/div/div[5]/button')\n",
    "face_element.click()"
   ]
  },
  {
   "cell_type": "code",
   "execution_count": 6,
   "metadata": {},
   "outputs": [
    {
     "data": {
      "text/plain": [
       "<selenium.webdriver.chrome.webdriver.WebDriver (session=\"8595477255e2f7fc9a75b246d212e6f5\")>"
      ]
     },
     "execution_count": 6,
     "metadata": {},
     "output_type": "execute_result"
    }
   ],
   "source": [
    "id_element = driver.find_element(By.XPATH, '//*[@id=\"email\"]')\n",
    "id_element.send_keys(os.getenv('id'))\n",
    "pass_element = driver.find_element(By.XPATH, '//*[@id=\"pass\"]')\n",
    "pass_element.send_keys(os.getenv('password'))\n",
    "\n",
    "#time.sleep(2)\n",
    "#implicitly_wait() : html, css 정보가 모두 로드가 되면 시간에 무관하게 다음 코드를 실행\n",
    "# 입력한 시간이 초과될 때 로드가 전부 안되어 있으면 에러 발생\n",
    "pass_element.send_keys(Keys.ENTER)\n",
    "driver"
   ]
  },
  {
   "cell_type": "code",
   "execution_count": 7,
   "metadata": {},
   "outputs": [],
   "source": [
    "## svg 태그 중 aria-label=\"검색\" 인 태그를 선택\n",
    "driver.implicitly_wait(10)\n",
    "search_element = driver.find_element(By.CSS_SELECTOR, 'svg[aria-label=\"검색\"]')\n",
    "# search_elemnet를 클릭\n",
    "search_element.click()"
   ]
  },
  {
   "cell_type": "code",
   "execution_count": 8,
   "metadata": {},
   "outputs": [],
   "source": [
    "driver.implicitly_wait(10)\n",
    "# 검색창에 input태그를 선택\n",
    "search_input = driver.find_element(By.CSS_SELECTOR,'input[aria-label=\"입력 검색\"]')\n",
    "\n",
    "# search_input에 특정 문자열을 입력\n",
    "search_input.send_keys('서울숲클라이밍')"
   ]
  },
  {
   "cell_type": "code",
   "execution_count": 9,
   "metadata": {},
   "outputs": [
    {
     "name": "stdout",
     "output_type": "stream",
     "text": [
      "46\n"
     ]
    }
   ],
   "source": [
    "# class명들 노타빌리티 메모 확인\n",
    "driver.implicitly_wait(10)\n",
    "## 검색 리스트 전체를 검색\n",
    "list_element = driver.find_elements(\n",
    "    By.CSS_SELECTOR, '.x9f619.x78zum5.xdt5ytf.x1iyjqo2.x6ikm8r.x1odjw0f.xh8yej3.xocp1fn .x1i10hfl.x1qjc9v5.xjbqb8w.xjqpnuy.xa49m3k.xqeqjp1.x2hbi6w.x13fuv20.xu3j5b3.x1q0q8m5.x26u7qi.x972fbf.xcfux6l.x1qhh985.xm0m39n.x9f619.x1ypdohk.xdl72j9.x2lah0s.xe8uvvx.xdj266r.x11i5rnm.xat24cr.x1mh8g0r.x2lwn1j.xeuugli.xexx8yu.x4uap5.x18d9i69.xkhd6sd.x1n2onr6.x16tdsg8.x1hl2dhg.xggy1nq.x1ja2u2z.x1t137rt.x1q0g3np.x87ps6o.x1lku1pv.x1a2a7pz.x1dm5mii.x16mil14.xiojian.x1yutycm.x1lliihq.x193iq5w.xh8yej3')\n",
    "    # By.CSS_SELECTOR, '.x9f619.x78zum5.xdt5ytf.x1iyjqo2.x6ikm8r.x1odjw0f.xh8yej3.xocp1fn a')\n",
    "print(len(list_element))\n",
    "\n",
    "list_element[1].click()"
   ]
  },
  {
   "cell_type": "code",
   "execution_count": 10,
   "metadata": {},
   "outputs": [],
   "source": [
    "imgs = driver.find_elements(By.CLASS_NAME, '_aagw')\n",
    "# 게시글의 첫번째를 클릭\n",
    "imgs[3].click()\n",
    "\n",
    "# data를 저장할 공간 생성\n",
    "data = {\n",
    "    'ID': [],\n",
    "    'Comment' : []\n",
    "}\n",
    "\n",
    "for i in range(6):\n",
    "    # 다음 버튼이 존재하지 않으면 에러발생\n",
    "    # try 구문을 이용하여 에러 발생 시 print로 출력\n",
    "    try:\n",
    "        driver.implicitly_wait(20)\n",
    "        ids = driver.find_elements(By.CSS_SELECTOR, 'h2[class=\"_a9zc\"]')\n",
    "\n",
    "        ids.extend(driver.find_elements(By.CSS_SELECTOR,'h3[class=\"_a9zc\"]'))\n",
    "        \n",
    "        comments = driver.find_elements(By.CSS_SELECTOR, 'div[class=\"_a9zs\"]')\n",
    "        \n",
    "        for id, comment in zip(ids, comments):\n",
    "            data['ID'].append(id.text)\n",
    "            data['Comment'].append(comment.text.replace(\"\\n\", \"\"))\n",
    "        next_element = driver.find_element(By.CSS_SELECTOR, '._aaqg ._abl-')\n",
    "        next_element.click()\n",
    "    except:\n",
    "        print('다음 버튼이 존재하지 않거나 에러 발생')\n",
    "\n",
    "# 게시물을 닫아주기.\n",
    "close_element = driver.find_element(By.CSS_SELECTOR, 'svg[aria-label=\"닫기\"]')\n",
    "close_element.click()\n",
    "df = pd.DataFrame(data)"
   ]
  },
  {
   "cell_type": "code",
   "execution_count": 11,
   "metadata": {},
   "outputs": [
    {
     "data": {
      "text/html": [
       "<div>\n",
       "<style scoped>\n",
       "    .dataframe tbody tr th:only-of-type {\n",
       "        vertical-align: middle;\n",
       "    }\n",
       "\n",
       "    .dataframe tbody tr th {\n",
       "        vertical-align: top;\n",
       "    }\n",
       "\n",
       "    .dataframe thead th {\n",
       "        text-align: right;\n",
       "    }\n",
       "</style>\n",
       "<table border=\"1\" class=\"dataframe\">\n",
       "  <thead>\n",
       "    <tr style=\"text-align: right;\">\n",
       "      <th></th>\n",
       "      <th>ID</th>\n",
       "      <th>Comment</th>\n",
       "    </tr>\n",
       "  </thead>\n",
       "  <tbody>\n",
       "    <tr>\n",
       "      <th>0</th>\n",
       "      <td>seoulforest_yeongdp</td>\n",
       "      <td>📣4월 영등숲 스케줄🧡안녕하세요 :)서울숲클라이밍 영등포점4월 스케줄 안내해 드립니...</td>\n",
       "    </tr>\n",
       "    <tr>\n",
       "      <th>1</th>\n",
       "      <td>seoulforest_yeongdp</td>\n",
       "      <td>🌟You &amp; I, +7일 이벤트🌟친구랑 함께 서울숲에서 행클 하자!!🌲서울숲클라이밍...</td>\n",
       "    </tr>\n",
       "    <tr>\n",
       "      <th>2</th>\n",
       "      <td>seoulforest_yeongdp</td>\n",
       "      <td>📢 서울숲클라이밍 전 지점 공지서울숲클라이밍을 사랑해 주시는고객님들께 진심으로 감사...</td>\n",
       "    </tr>\n",
       "    <tr>\n",
       "      <th>3</th>\n",
       "      <td>climber_2015</td>\n",
       "      <td>이미 가지고 있는 횟수권도 구매 시점부터 1년 인가요?</td>\n",
       "    </tr>\n",
       "    <tr>\n",
       "      <th>4</th>\n",
       "      <td>seoulforest_yeongdp</td>\n",
       "      <td>🌲𝗦𝗲𝗰𝘁𝗼𝗿 2 💜&amp;💙🌲안녕하세요 서울숲클라이밍 영등포점입니다.😉서울숲클라이밍 영...</td>\n",
       "    </tr>\n",
       "    <tr>\n",
       "      <th>5</th>\n",
       "      <td>seoulforest_yeongdp</td>\n",
       "      <td>🌲𝗦𝗲𝗰𝘁𝗼𝗿 2 🩵&amp;💚🌲안녕하세요 서울숲클라이밍 영등포점입니다.😉서울숲클라이밍 영...</td>\n",
       "    </tr>\n",
       "    <tr>\n",
       "      <th>6</th>\n",
       "      <td>seoulforest_yeongdp</td>\n",
       "      <td>🌲𝗡𝗲𝘄 𝗦𝗲𝘁𝘁𝗶𝗻𝗴 𝗦𝗲𝗰𝘁𝗼𝗿 2🌲SECTOR2 세팅이 완료되었습니다!안전하고...</td>\n",
       "    </tr>\n",
       "  </tbody>\n",
       "</table>\n",
       "</div>"
      ],
      "text/plain": [
       "                    ID                                            Comment\n",
       "0  seoulforest_yeongdp  📣4월 영등숲 스케줄🧡안녕하세요 :)서울숲클라이밍 영등포점4월 스케줄 안내해 드립니...\n",
       "1  seoulforest_yeongdp  🌟You & I, +7일 이벤트🌟친구랑 함께 서울숲에서 행클 하자!!🌲서울숲클라이밍...\n",
       "2  seoulforest_yeongdp  📢 서울숲클라이밍 전 지점 공지서울숲클라이밍을 사랑해 주시는고객님들께 진심으로 감사...\n",
       "3         climber_2015                     이미 가지고 있는 횟수권도 구매 시점부터 1년 인가요?\n",
       "4  seoulforest_yeongdp  🌲𝗦𝗲𝗰𝘁𝗼𝗿 2 💜&💙🌲안녕하세요 서울숲클라이밍 영등포점입니다.😉서울숲클라이밍 영...\n",
       "5  seoulforest_yeongdp  🌲𝗦𝗲𝗰𝘁𝗼𝗿 2 🩵&💚🌲안녕하세요 서울숲클라이밍 영등포점입니다.😉서울숲클라이밍 영...\n",
       "6  seoulforest_yeongdp  🌲𝗡𝗲𝘄 𝗦𝗲𝘁𝘁𝗶𝗻𝗴 𝗦𝗲𝗰𝘁𝗼𝗿 2🌲SECTOR2 세팅이 완료되었습니다!안전하고..."
      ]
     },
     "execution_count": 11,
     "metadata": {},
     "output_type": "execute_result"
    }
   ],
   "source": [
    "df"
   ]
  },
  {
   "cell_type": "code",
   "execution_count": 12,
   "metadata": {},
   "outputs": [],
   "source": [
    "from konlpy.tag import Okt\n",
    "okt = Okt()"
   ]
  },
  {
   "cell_type": "code",
   "execution_count": 13,
   "metadata": {},
   "outputs": [],
   "source": [
    "def return_words(x):\n",
    "    nouns = okt.nouns(x)\n",
    "    if nouns:\n",
    "        words = [n for n in nouns if len(n) > 1]\n",
    "    else:\n",
    "        words = ''\n",
    "    return(words)\n",
    "\n",
    "df['words'] = df['Comment'].map(return_words)"
   ]
  },
  {
   "cell_type": "code",
   "execution_count": 14,
   "metadata": {},
   "outputs": [
    {
     "data": {
      "text/html": [
       "<div>\n",
       "<style scoped>\n",
       "    .dataframe tbody tr th:only-of-type {\n",
       "        vertical-align: middle;\n",
       "    }\n",
       "\n",
       "    .dataframe tbody tr th {\n",
       "        vertical-align: top;\n",
       "    }\n",
       "\n",
       "    .dataframe thead th {\n",
       "        text-align: right;\n",
       "    }\n",
       "</style>\n",
       "<table border=\"1\" class=\"dataframe\">\n",
       "  <thead>\n",
       "    <tr style=\"text-align: right;\">\n",
       "      <th></th>\n",
       "      <th>ID</th>\n",
       "      <th>Comment</th>\n",
       "      <th>words</th>\n",
       "    </tr>\n",
       "  </thead>\n",
       "  <tbody>\n",
       "    <tr>\n",
       "      <th>0</th>\n",
       "      <td>seoulforest_yeongdp</td>\n",
       "      <td>📣4월 영등숲 스케줄🧡안녕하세요 :)서울숲클라이밍 영등포점4월 스케줄 안내해 드립니...</td>\n",
       "      <td>[등숲, 스케줄, 서울숲, 영등포, 스케줄, 안내, 일일, 체험, 날짜, 시간, 선...</td>\n",
       "    </tr>\n",
       "    <tr>\n",
       "      <th>1</th>\n",
       "      <td>seoulforest_yeongdp</td>\n",
       "      <td>🌟You &amp; I, +7일 이벤트🌟친구랑 함께 서울숲에서 행클 하자!!🌲서울숲클라이밍...</td>\n",
       "      <td>[이벤트, 친구, 서울숲, 하자, 서울숲, 지점, 친구, 초대, 이벤트, 진행, 친...</td>\n",
       "    </tr>\n",
       "    <tr>\n",
       "      <th>2</th>\n",
       "      <td>seoulforest_yeongdp</td>\n",
       "      <td>📢 서울숲클라이밍 전 지점 공지서울숲클라이밍을 사랑해 주시는고객님들께 진심으로 감사...</td>\n",
       "      <td>[서울숲, 지점, 서울숲, 사랑, 주시, 고객, 진심, 감사, 요금, 정책, 일부,...</td>\n",
       "    </tr>\n",
       "    <tr>\n",
       "      <th>3</th>\n",
       "      <td>climber_2015</td>\n",
       "      <td>이미 가지고 있는 횟수권도 구매 시점부터 1년 인가요?</td>\n",
       "      <td>[가지, 횟수, 구매, 시점]</td>\n",
       "    </tr>\n",
       "    <tr>\n",
       "      <th>4</th>\n",
       "      <td>seoulforest_yeongdp</td>\n",
       "      <td>🌲𝗦𝗲𝗰𝘁𝗼𝗿 2 💜&amp;💙🌲안녕하세요 서울숲클라이밍 영등포점입니다.😉서울숲클라이밍 영...</td>\n",
       "      <td>[서울숲, 영등포, 서울숲, 영등포, 사랑, 회원, 위해, 카달, 로그, 준비, 문...</td>\n",
       "    </tr>\n",
       "    <tr>\n",
       "      <th>5</th>\n",
       "      <td>seoulforest_yeongdp</td>\n",
       "      <td>🌲𝗦𝗲𝗰𝘁𝗼𝗿 2 🩵&amp;💚🌲안녕하세요 서울숲클라이밍 영등포점입니다.😉서울숲클라이밍 영...</td>\n",
       "      <td>[서울숲, 영등포, 서울숲, 영등포, 사랑, 회원, 위해, 카달, 로그, 준비, 문...</td>\n",
       "    </tr>\n",
       "    <tr>\n",
       "      <th>6</th>\n",
       "      <td>seoulforest_yeongdp</td>\n",
       "      <td>🌲𝗡𝗲𝘄 𝗦𝗲𝘁𝘁𝗶𝗻𝗴 𝗦𝗲𝗰𝘁𝗼𝗿 2🌲SECTOR2 세팅이 완료되었습니다!안전하고...</td>\n",
       "      <td>[세팅, 완료, 서울숲, 영등포, 등숲]</td>\n",
       "    </tr>\n",
       "  </tbody>\n",
       "</table>\n",
       "</div>"
      ],
      "text/plain": [
       "                    ID                                            Comment  \\\n",
       "0  seoulforest_yeongdp  📣4월 영등숲 스케줄🧡안녕하세요 :)서울숲클라이밍 영등포점4월 스케줄 안내해 드립니...   \n",
       "1  seoulforest_yeongdp  🌟You & I, +7일 이벤트🌟친구랑 함께 서울숲에서 행클 하자!!🌲서울숲클라이밍...   \n",
       "2  seoulforest_yeongdp  📢 서울숲클라이밍 전 지점 공지서울숲클라이밍을 사랑해 주시는고객님들께 진심으로 감사...   \n",
       "3         climber_2015                     이미 가지고 있는 횟수권도 구매 시점부터 1년 인가요?   \n",
       "4  seoulforest_yeongdp  🌲𝗦𝗲𝗰𝘁𝗼𝗿 2 💜&💙🌲안녕하세요 서울숲클라이밍 영등포점입니다.😉서울숲클라이밍 영...   \n",
       "5  seoulforest_yeongdp  🌲𝗦𝗲𝗰𝘁𝗼𝗿 2 🩵&💚🌲안녕하세요 서울숲클라이밍 영등포점입니다.😉서울숲클라이밍 영...   \n",
       "6  seoulforest_yeongdp  🌲𝗡𝗲𝘄 𝗦𝗲𝘁𝘁𝗶𝗻𝗴 𝗦𝗲𝗰𝘁𝗼𝗿 2🌲SECTOR2 세팅이 완료되었습니다!안전하고...   \n",
       "\n",
       "                                               words  \n",
       "0  [등숲, 스케줄, 서울숲, 영등포, 스케줄, 안내, 일일, 체험, 날짜, 시간, 선...  \n",
       "1  [이벤트, 친구, 서울숲, 하자, 서울숲, 지점, 친구, 초대, 이벤트, 진행, 친...  \n",
       "2  [서울숲, 지점, 서울숲, 사랑, 주시, 고객, 진심, 감사, 요금, 정책, 일부,...  \n",
       "3                                   [가지, 횟수, 구매, 시점]  \n",
       "4  [서울숲, 영등포, 서울숲, 영등포, 사랑, 회원, 위해, 카달, 로그, 준비, 문...  \n",
       "5  [서울숲, 영등포, 서울숲, 영등포, 사랑, 회원, 위해, 카달, 로그, 준비, 문...  \n",
       "6                             [세팅, 완료, 서울숲, 영등포, 등숲]  "
      ]
     },
     "execution_count": 14,
     "metadata": {},
     "output_type": "execute_result"
    }
   ],
   "source": [
    "df"
   ]
  },
  {
   "cell_type": "code",
   "execution_count": 15,
   "metadata": {},
   "outputs": [],
   "source": [
    "df.to_csv('test.csv')"
   ]
  },
  {
   "cell_type": "code",
   "execution_count": 19,
   "metadata": {},
   "outputs": [
    {
     "name": "stdout",
     "output_type": "stream",
     "text": [
      "24\n",
      "error\n",
      "error\n",
      "error\n"
     ]
    }
   ],
   "source": [
    "imgs = driver.find_elements(By.CLASS_NAME, '_aagw')\n",
    "print(len(imgs))\n",
    "imgs[3].click()\n",
    "\n",
    "driver.implicitly_wait(10)\n",
    "\n",
    "for i in range(3):\n",
    "    try:\n",
    "        \n",
    "        # 이미지를 저장\n",
    "        img_element = driver.find_element(By.CSS_SELECTOR, '._aagu._aato ._aagv .x5yr21d.xu96u03.x10l6tqk.x13vifvy.x87ps6o.xh8yej3')\n",
    "        # 해당하는 이미지 태그에서 src 속성의 값을 출력\n",
    "        img_src = img_element.get_attribute('src')\n",
    "        print(img_src)\n",
    "        # 다음 버튼 클릭\n",
    "        next_element = driver.find_element(By.CSS_SELECTOR, '._aaqg ._abl-')\n",
    "        next_element.click()\n",
    "    \n",
    "    except:\n",
    "        print('error')"
   ]
  },
  {
   "cell_type": "code",
   "execution_count": null,
   "metadata": {},
   "outputs": [],
   "source": []
  }
 ],
 "metadata": {
  "kernelspec": {
   "display_name": "Python 3",
   "language": "python",
   "name": "python3"
  },
  "language_info": {
   "codemirror_mode": {
    "name": "ipython",
    "version": 3
   },
   "file_extension": ".py",
   "mimetype": "text/x-python",
   "name": "python",
   "nbconvert_exporter": "python",
   "pygments_lexer": "ipython3",
   "version": "3.12.2"
  }
 },
 "nbformat": 4,
 "nbformat_minor": 2
}
