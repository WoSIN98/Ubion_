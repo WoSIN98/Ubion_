{
 "cells": [
  {
   "cell_type": "code",
   "execution_count": 1,
   "metadata": {},
   "outputs": [],
   "source": [
    "from selenium import webdriver\n",
    "from selenium.webdriver.common.by import By\n",
    "from selenium.webdriver.common.keys import Keys\n",
    "import pandas as pd\n",
    "import time \n",
    "from bs4 import BeautifulSoup as builder_registry\n",
    "import os\n",
    "from dotenv import load_dotenv"
   ]
  },
  {
   "cell_type": "code",
   "execution_count": 2,
   "metadata": {},
   "outputs": [],
   "source": [
    "# 웹 브라우저를 실행\n",
    "driver = webdriver.Chrome()"
   ]
  },
  {
   "cell_type": "code",
   "execution_count": 3,
   "metadata": {},
   "outputs": [],
   "source": [
    "## 인스타그램에 요청\n",
    "driver.get('https://www.instagram.com')"
   ]
  },
  {
   "cell_type": "code",
   "execution_count": 4,
   "metadata": {},
   "outputs": [
    {
     "data": {
      "text/plain": [
       "True"
      ]
     },
     "execution_count": 4,
     "metadata": {},
     "output_type": "execute_result"
    }
   ],
   "source": [
    "load_dotenv()"
   ]
  },
  {
   "cell_type": "code",
   "execution_count": 5,
   "metadata": {},
   "outputs": [],
   "source": [
    "face_element = driver.find_element(By.XPATH, '//*[@id=\"loginForm\"]/div/div[5]/button')\n",
    "face_element.click()"
   ]
  },
  {
   "cell_type": "code",
   "execution_count": 19,
   "metadata": {},
   "outputs": [],
   "source": [
    "# 인스타그램에 로그인\n",
    "#id_element = driver.find_element(By.CSS_SELECTOR,'input[name =\"username\"]')\n",
    "\n",
    "# id_element에 아이디 값(.env에 있는 id)을 입력\n",
    "#id_element.send_keys(os.getenv('id'))"
   ]
  },
  {
   "cell_type": "code",
   "execution_count": 21,
   "metadata": {},
   "outputs": [],
   "source": [
    "#pass_element = driver.find_element(By.CSS_SELECTOR,'input[name=\"password\"]')\n",
    "#pass_element.send_keys(os.getenv('password'))\n",
    "\n",
    "#time.sleep(2)\n",
    "#pass_element.send_keys(Keys.ENTER)"
   ]
  },
  {
   "cell_type": "code",
   "execution_count": 6,
   "metadata": {},
   "outputs": [
    {
     "data": {
      "text/plain": [
       "<selenium.webdriver.chrome.webdriver.WebDriver (session=\"642fae62435c1eb55db2024df4c6af73\")>"
      ]
     },
     "execution_count": 6,
     "metadata": {},
     "output_type": "execute_result"
    }
   ],
   "source": [
    "id_element = driver.find_element(By.XPATH, '//*[@id=\"email\"]')\n",
    "id_element.send_keys(os.getenv('id'))\n",
    "pass_element = driver.find_element(By.XPATH, '//*[@id=\"pass\"]')\n",
    "pass_element.send_keys(os.getenv('password'))\n",
    "\n",
    "#time.sleep(2)\n",
    "#implicitly_wait() : html, css 정보가 모두 로드가 되면 시간에 무관하게 다음 코드를 실행\n",
    "# 입력한 시간이 초과될 때 로드가 전부 안되어 있으면 에러 발생\n",
    "pass_element.send_keys(Keys.ENTER)\n",
    "driver"
   ]
  },
  {
   "cell_type": "code",
   "execution_count": null,
   "metadata": {},
   "outputs": [],
   "source": [
    "ws_element = driver.find_element(By.XPATH, '//*[@id=\"u_0_c_md\"]/div[1]/div/div/div[3]/button[1]')\n",
    "ws_element.click()"
   ]
  },
  {
   "cell_type": "code",
   "execution_count": null,
   "metadata": {},
   "outputs": [],
   "source": [
    "woosin_element = driver.find_element(By.XPATH, '//*[@id=\"mount_0_0_oj\"]/div/div/div[2]/div/div/div[1]/section/main/article/div[2]/div[1]/div[2]/div[2]/div/div/div[2]/div[3]/div')\n",
    "woosin_element.click()"
   ]
  },
  {
   "cell_type": "code",
   "execution_count": 19,
   "metadata": {},
   "outputs": [],
   "source": [
    "## svg 태그 중 aria-label=\"검색\" 인 태그를 선택\n",
    "driver.implicitly_wait(10)\n",
    "search_element = driver.find_element(By.CSS_SELECTOR, 'svg[aria-label=\"검색\"]')\n",
    "# search_elemnet를 클릭\n",
    "search_element.click()\n",
    "\n",
    "## 검색 확인해보면 비동기 통신이라 input인데도 name이 존재하지 않는다."
   ]
  },
  {
   "cell_type": "code",
   "execution_count": 20,
   "metadata": {},
   "outputs": [],
   "source": [
    "driver.implicitly_wait(10)\n",
    "# 검색창에 input태그를 선택\n",
    "search_input = driver.find_element(By.CSS_SELECTOR,'input[aria-label=\"입력 검색\"]')\n",
    "\n",
    "# search_input에 특정 문자열을 입력\n",
    "search_input.send_keys('구디맛집')"
   ]
  },
  {
   "cell_type": "code",
   "execution_count": 21,
   "metadata": {},
   "outputs": [
    {
     "name": "stdout",
     "output_type": "stream",
     "text": [
      "36\n"
     ]
    }
   ],
   "source": [
    "# class명들 노타빌리티 메모 확인\n",
    "driver.implicitly_wait(10)\n",
    "## 검색 리스트 전체를 검색\n",
    "list_element = driver.find_elements(\n",
    "    By.CSS_SELECTOR, '.x9f619.x78zum5.xdt5ytf.x1iyjqo2.x6ikm8r.x1odjw0f.xh8yej3.xocp1fn .x1i10hfl.x1qjc9v5.xjbqb8w.xjqpnuy.xa49m3k.xqeqjp1.x2hbi6w.x13fuv20.xu3j5b3.x1q0q8m5.x26u7qi.x972fbf.xcfux6l.x1qhh985.xm0m39n.x9f619.x1ypdohk.xdl72j9.x2lah0s.xe8uvvx.xdj266r.x11i5rnm.xat24cr.x1mh8g0r.x2lwn1j.xeuugli.xexx8yu.x4uap5.x18d9i69.xkhd6sd.x1n2onr6.x16tdsg8.x1hl2dhg.xggy1nq.x1ja2u2z.x1t137rt.x1q0g3np.x87ps6o.x1lku1pv.x1a2a7pz.x1dm5mii.x16mil14.xiojian.x1yutycm.x1lliihq.x193iq5w.xh8yej3')\n",
    "    # By.CSS_SELECTOR, '.x9f619.x78zum5.xdt5ytf.x1iyjqo2.x6ikm8r.x1odjw0f.xh8yej3.xocp1fn a')\n",
    "print(len(list_element))\n",
    "\n",
    "list_element[1].click()\n"
   ]
  },
  {
   "cell_type": "code",
   "execution_count": 23,
   "metadata": {},
   "outputs": [],
   "source": [
    "## 게시글 링크를 모두 찾는다.\n",
    "imgs = driver.find_elements(By.CLASS_NAME, '_aagw')\n",
    "# 게시글의 첫번째를 클릭\n",
    "imgs[0].click()"
   ]
  },
  {
   "cell_type": "code",
   "execution_count": null,
   "metadata": {},
   "outputs": [
    {
     "data": {
      "text/plain": [
       "{'ID': ['noriter486', 'noriter486_zzang', 'noriter486'],\n",
       " 'Comment': ['오랜만에 소식을 전하네요~😆봄 맞이 신메뉴가 등장 했슴돠~두둥두둥💢💥고객님들의 반응도 좋고~ 맥주안주, 하이볼과도 찰떡🫰튀김메뉴도 늘어나고~ 퓨전요리들로 새롭게 꾸며보려해요1.첫번째 메뉴로는 퓨전멕시코요리 입니다.💯💯💯드셔본분도 있으실거예요 예전#놀이터_전통주주점 에서도선보였던 메뉴 랍니다 \"김치까르니따스\"감튀와 볶음김치, 멕시코식 돼지고기요리 등등..느끼하지 않으면서 궁합이 좋은 메뉴예요 ㅎㅎ2.날치알 제육과 계란찜의 조합! 말해모해요 ㅋ💫💣3.코로나니따와 데낄라의 조합!!🙈🙉병째 즐기는 데낄라 썬라이즈 칵테일 입니다놀러들 오세요~',\n",
       "  '👏👏👏👏👏',\n",
       "  '👏👏👏👏']}"
      ]
     },
     "execution_count": 87,
     "metadata": {},
     "output_type": "execute_result"
    }
   ],
   "source": [
    "## 게시물에서 텍스트를 추출\n",
    "\n",
    "# Class가 _a9zc인 태그의 수\n",
    "# len(driver.find_elements(By.CLASS_NAME, '_a9zc')) # 3개씩 나온다. 지금 게시글 이외의 다른 건 없다는 뜻.\n",
    "\n",
    "ids = driver.find_elements(By.CLASS_NAME, '_a9zc')\n",
    "comments = driver.find_elements(By.CLASS_NAME, '_a9zs')\n",
    "\n",
    "## 데이터프레임에 대입할 변수 생성\n",
    "data = {\n",
    "    'ID' : [],\n",
    "    'Comment' : []\n",
    "}\n",
    "\n",
    "#for id in ids:\n",
    "#    print(id.text)                 # get_text안해도\n",
    "#for comment in comments:\n",
    "#    print(comment.text.replace(\"\\n\", \" \"))\n",
    "\n",
    "#for i in range(len(ids)):           # 둘이 길이가 같다는 것을 알고있으니 이렇게 써도 될 것이다.\n",
    "#    print(ids[i].text)\n",
    "#    print(comments[i].text.replace(\"\\n\", \"\"))\n",
    "\n",
    "#for id, comment in zip(ids,comments):                 # 길이 같아야 한다.\n",
    "#    print(id.text)\n",
    "#    print(comment.text.replace(\"\\n\", \"\"))\n",
    "\n",
    "for id, comment in zip(ids,comments):  \n",
    "    data['ID'].append(id.text)\n",
    "    data['Comment'].append(comment.text.replace(\"\\n\", \"\"))\n",
    "data"
   ]
  },
  {
   "cell_type": "code",
   "execution_count": null,
   "metadata": {},
   "outputs": [
    {
     "data": {
      "text/html": [
       "<div>\n",
       "<style scoped>\n",
       "    .dataframe tbody tr th:only-of-type {\n",
       "        vertical-align: middle;\n",
       "    }\n",
       "\n",
       "    .dataframe tbody tr th {\n",
       "        vertical-align: top;\n",
       "    }\n",
       "\n",
       "    .dataframe thead th {\n",
       "        text-align: right;\n",
       "    }\n",
       "</style>\n",
       "<table border=\"1\" class=\"dataframe\">\n",
       "  <thead>\n",
       "    <tr style=\"text-align: right;\">\n",
       "      <th></th>\n",
       "      <th>ID</th>\n",
       "      <th>Comment</th>\n",
       "    </tr>\n",
       "  </thead>\n",
       "  <tbody>\n",
       "    <tr>\n",
       "      <th>0</th>\n",
       "      <td>noriter486</td>\n",
       "      <td>오랜만에 소식을 전하네요~😆봄 맞이 신메뉴가 등장 했슴돠~두둥두둥💢💥고객님들의 반응...</td>\n",
       "    </tr>\n",
       "    <tr>\n",
       "      <th>1</th>\n",
       "      <td>noriter486_zzang</td>\n",
       "      <td>👏👏👏👏👏</td>\n",
       "    </tr>\n",
       "    <tr>\n",
       "      <th>2</th>\n",
       "      <td>noriter486</td>\n",
       "      <td>👏👏👏👏</td>\n",
       "    </tr>\n",
       "  </tbody>\n",
       "</table>\n",
       "</div>"
      ],
      "text/plain": [
       "                 ID                                            Comment\n",
       "0        noriter486  오랜만에 소식을 전하네요~😆봄 맞이 신메뉴가 등장 했슴돠~두둥두둥💢💥고객님들의 반응...\n",
       "1  noriter486_zzang                                              👏👏👏👏👏\n",
       "2        noriter486                                               👏👏👏👏"
      ]
     },
     "execution_count": 88,
     "metadata": {},
     "output_type": "execute_result"
    }
   ],
   "source": [
    "df = pd.DataFrame(data)\n",
    "df"
   ]
  },
  {
   "cell_type": "code",
   "execution_count": 24,
   "metadata": {},
   "outputs": [],
   "source": [
    "## 다음 게시글로 이동하는 버튼을 선택\n",
    "next_element = driver.find_element(By.CSS_SELECTOR, '._aaqg ._abl-')\n",
    "next_element.click()"
   ]
  },
  {
   "cell_type": "code",
   "execution_count": null,
   "metadata": {},
   "outputs": [],
   "source": [
    "## 게시글 링크를 모두 찾는다.\n",
    "imgs = driver.find_elements(By.CLASS_NAME, '_aagw')\n",
    "# 게시글의 첫번째를 클릭\n",
    "imgs[0].click()\n",
    "\n",
    "# data를 저장할 공간 생성\n",
    "data = {\n",
    "    'ID': [],\n",
    "    'Comment' : []\n",
    "}\n",
    "\n",
    "for i in range(3):\n",
    "    # 다음 버튼이 존재하지 않으면 에러발생\n",
    "    # try 구문을 이용하여 에러 발생 시 print로 출력\n",
    "    try:\n",
    "        driver.implicitly_wait(20)\n",
    "        ids = driver.find_elements(By.CSS_SELECTOR, 'h2[class=\"_a9zc\"]')\n",
    "\n",
    "        ids.extend(driver.find_elements(By.CSS_SELECTOR,'h3[class=\"_a9zc\"]'))\n",
    "        \n",
    "        comments = driver.find_elements(By.CSS_SELECTOR, 'div[class=\"_a9zs\"]')\n",
    "        \n",
    "        for id, comment in zip(ids, comments):\n",
    "            data['ID'].append(id.text)\n",
    "            data['Comment'].append(comment.text.replace(\"\\n\", \"\"))\n",
    "        next_element = driver.find_element(By.CSS_SELECTOR, '._aaqg ._abl-')\n",
    "        next_element.click()\n",
    "    except:\n",
    "        print('다음 버튼이 존재하지 않거나 에러 발생')\n",
    "\n",
    "# 게시물을 닫아주기.\n",
    "close_element = driver.find_element(By.CSS_SELECTOR, 'svg[aria-label=\"닫기\"]')\n",
    "close_element.click()\n",
    "df = pd.DataFrame(data)"
   ]
  },
  {
   "cell_type": "code",
   "execution_count": null,
   "metadata": {},
   "outputs": [
    {
     "data": {
      "text/html": [
       "<div>\n",
       "<style scoped>\n",
       "    .dataframe tbody tr th:only-of-type {\n",
       "        vertical-align: middle;\n",
       "    }\n",
       "\n",
       "    .dataframe tbody tr th {\n",
       "        vertical-align: top;\n",
       "    }\n",
       "\n",
       "    .dataframe thead th {\n",
       "        text-align: right;\n",
       "    }\n",
       "</style>\n",
       "<table border=\"1\" class=\"dataframe\">\n",
       "  <thead>\n",
       "    <tr style=\"text-align: right;\">\n",
       "      <th></th>\n",
       "      <th>ID</th>\n",
       "      <th>Comment</th>\n",
       "    </tr>\n",
       "  </thead>\n",
       "  <tbody>\n",
       "    <tr>\n",
       "      <th>0</th>\n",
       "      <td>noriter486</td>\n",
       "      <td>오랜만에 소식을 전하네요~😆봄 맞이 신메뉴가 등장 했슴돠~두둥두둥💢💥고객님들의 반응...</td>\n",
       "    </tr>\n",
       "    <tr>\n",
       "      <th>1</th>\n",
       "      <td>noriter486_zzang</td>\n",
       "      <td>👏👏👏👏👏</td>\n",
       "    </tr>\n",
       "    <tr>\n",
       "      <th>2</th>\n",
       "      <td>noriter486</td>\n",
       "      <td>👏👏👏👏</td>\n",
       "    </tr>\n",
       "    <tr>\n",
       "      <th>3</th>\n",
       "      <td>noriter486</td>\n",
       "      <td>매장 먼지 테러로 인한 심각한 피해 상황 ㅡㅡ옆매장 공사로 인한 강제 문닫음 ㅠㅠ예...</td>\n",
       "    </tr>\n",
       "    <tr>\n",
       "      <th>4</th>\n",
       "      <td>noriter486_zzang</td>\n",
       "      <td>#다이슨#다이슨팝업 @dyson_kr #createwithdyson체험</td>\n",
       "    </tr>\n",
       "    <tr>\n",
       "      <th>5</th>\n",
       "      <td>cuteponnu686</td>\n",
       "      <td>🅳🅼 확인부탁드려요(숨겨진 요청에 있을수도 있어요).</td>\n",
       "    </tr>\n",
       "    <tr>\n",
       "      <th>6</th>\n",
       "      <td>blidge.review</td>\n",
       "      <td>안녕하세요 : )체험단 무료모집 관련해서 DM 드렸습니다. 확인 부탁드립니다 !</td>\n",
       "    </tr>\n",
       "  </tbody>\n",
       "</table>\n",
       "</div>"
      ],
      "text/plain": [
       "                 ID                                            Comment\n",
       "0        noriter486  오랜만에 소식을 전하네요~😆봄 맞이 신메뉴가 등장 했슴돠~두둥두둥💢💥고객님들의 반응...\n",
       "1  noriter486_zzang                                              👏👏👏👏👏\n",
       "2        noriter486                                               👏👏👏👏\n",
       "3        noriter486  매장 먼지 테러로 인한 심각한 피해 상황 ㅡㅡ옆매장 공사로 인한 강제 문닫음 ㅠㅠ예...\n",
       "4  noriter486_zzang            #다이슨#다이슨팝업 @dyson_kr #createwithdyson체험\n",
       "5      cuteponnu686                      🅳🅼 확인부탁드려요(숨겨진 요청에 있을수도 있어요).\n",
       "6     blidge.review       안녕하세요 : )체험단 무료모집 관련해서 DM 드렸습니다. 확인 부탁드립니다 !"
      ]
     },
     "execution_count": 12,
     "metadata": {},
     "output_type": "execute_result"
    }
   ],
   "source": [
    "df"
   ]
  },
  {
   "cell_type": "code",
   "execution_count": null,
   "metadata": {},
   "outputs": [
    {
     "data": {
      "text/plain": [
       "'오랜만에 소식을 전하네요~😆봄 맞이 신메뉴가 등장 했슴돠~두둥두둥💢💥고객님들의 반응도 좋고~ 맥주안주, 하이볼과도 찰떡🫰튀김메뉴도 늘어나고~ 퓨전요리들로 새롭게 꾸며보려해요1.첫번째 메뉴로는 퓨전멕시코요리 입니다.💯💯💯드셔본분도 있으실거예요 예전#놀이터_전통주주점 에서도선보였던 메뉴 랍니다 \"김치까르니따스\"감튀와 볶음김치, 멕시코식 돼지고기요리 등등..느끼하지 않으면서 궁합이 좋은 메뉴예요 ㅎㅎ2.날치알 제육과 계란찜의 조합! 말해모해요 ㅋ💫💣3.코로나니따와 데낄라의 조합!!🙈🙉병째 즐기는 데낄라 썬라이즈 칵테일 입니다놀러들 오세요~'"
      ]
     },
     "execution_count": 13,
     "metadata": {},
     "output_type": "execute_result"
    }
   ],
   "source": [
    "df.loc[0,'Comment']"
   ]
  },
  {
   "cell_type": "code",
   "execution_count": null,
   "metadata": {},
   "outputs": [],
   "source": [
    "from konlpy.tag import Okt"
   ]
  },
  {
   "cell_type": "code",
   "execution_count": null,
   "metadata": {},
   "outputs": [],
   "source": [
    "# 문자에서 형태소를 분석하는 클래스\n",
    "okt = Okt()"
   ]
  },
  {
   "cell_type": "code",
   "execution_count": null,
   "metadata": {},
   "outputs": [],
   "source": [
    "# 문자의 형태를 분석\n",
    "nouns = okt.nouns(df.loc[0,'Comment'])"
   ]
  },
  {
   "cell_type": "code",
   "execution_count": null,
   "metadata": {},
   "outputs": [],
   "source": [
    "# nouns에서 글자 수가 1인 데이터를 제외\n",
    "words = [n for n in nouns if len(n) > 1]"
   ]
  },
  {
   "cell_type": "code",
   "execution_count": null,
   "metadata": {},
   "outputs": [],
   "source": [
    "words"
   ]
  },
  {
   "cell_type": "code",
   "execution_count": null,
   "metadata": {},
   "outputs": [],
   "source": [
    "# case1 (map을 이용)\n",
    "def return_words(x):\n",
    "    nouns = okt.nouns(x)\n",
    "    if nouns:\n",
    "        words = [n for n in nouns if len(n) > 1]\n",
    "    else:\n",
    "        words = ''\n",
    "    return(words)\n",
    "\n",
    "df['words'] = df['Comment'].map(return_words)"
   ]
  },
  {
   "cell_type": "code",
   "execution_count": null,
   "metadata": {},
   "outputs": [
    {
     "data": {
      "text/html": [
       "<div>\n",
       "<style scoped>\n",
       "    .dataframe tbody tr th:only-of-type {\n",
       "        vertical-align: middle;\n",
       "    }\n",
       "\n",
       "    .dataframe tbody tr th {\n",
       "        vertical-align: top;\n",
       "    }\n",
       "\n",
       "    .dataframe thead th {\n",
       "        text-align: right;\n",
       "    }\n",
       "</style>\n",
       "<table border=\"1\" class=\"dataframe\">\n",
       "  <thead>\n",
       "    <tr style=\"text-align: right;\">\n",
       "      <th></th>\n",
       "      <th>ID</th>\n",
       "      <th>Comment</th>\n",
       "      <th>words</th>\n",
       "    </tr>\n",
       "  </thead>\n",
       "  <tbody>\n",
       "    <tr>\n",
       "      <th>0</th>\n",
       "      <td>noriter486</td>\n",
       "      <td>오랜만에 소식을 전하네요~😆봄 맞이 신메뉴가 등장 했슴돠~두둥두둥💢💥고객님들의 반응...</td>\n",
       "      <td>[소식, 전하, 맞이, 메뉴, 등장, 했슴돠, 두둥두둥, 고객, 반응, 맥주, 안주...</td>\n",
       "    </tr>\n",
       "    <tr>\n",
       "      <th>1</th>\n",
       "      <td>noriter486_zzang</td>\n",
       "      <td>👏👏👏👏👏</td>\n",
       "      <td></td>\n",
       "    </tr>\n",
       "    <tr>\n",
       "      <th>2</th>\n",
       "      <td>noriter486</td>\n",
       "      <td>👏👏👏👏</td>\n",
       "      <td></td>\n",
       "    </tr>\n",
       "    <tr>\n",
       "      <th>3</th>\n",
       "      <td>noriter486</td>\n",
       "      <td>매장 먼지 테러로 인한 심각한 피해 상황 ㅡㅡ옆매장 공사로 인한 강제 문닫음 ㅠㅠ예...</td>\n",
       "      <td>[매장, 먼지, 테러, 피해, 상황, 매장, 공사, 강제, 예약, 손님, 죄송, 누...</td>\n",
       "    </tr>\n",
       "    <tr>\n",
       "      <th>4</th>\n",
       "      <td>noriter486_zzang</td>\n",
       "      <td>#다이슨#다이슨팝업 @dyson_kr #createwithdyson체험</td>\n",
       "      <td>[다이슨, 팝업]</td>\n",
       "    </tr>\n",
       "    <tr>\n",
       "      <th>5</th>\n",
       "      <td>cuteponnu686</td>\n",
       "      <td>🅳🅼 확인부탁드려요(숨겨진 요청에 있을수도 있어요).</td>\n",
       "      <td>[확인, 요청]</td>\n",
       "    </tr>\n",
       "    <tr>\n",
       "      <th>6</th>\n",
       "      <td>blidge.review</td>\n",
       "      <td>안녕하세요 : )체험단 무료모집 관련해서 DM 드렸습니다. 확인 부탁드립니다 !</td>\n",
       "      <td>[체험, 무료, 모집, 관련, 확인]</td>\n",
       "    </tr>\n",
       "  </tbody>\n",
       "</table>\n",
       "</div>"
      ],
      "text/plain": [
       "                 ID                                            Comment  \\\n",
       "0        noriter486  오랜만에 소식을 전하네요~😆봄 맞이 신메뉴가 등장 했슴돠~두둥두둥💢💥고객님들의 반응...   \n",
       "1  noriter486_zzang                                              👏👏👏👏👏   \n",
       "2        noriter486                                               👏👏👏👏   \n",
       "3        noriter486  매장 먼지 테러로 인한 심각한 피해 상황 ㅡㅡ옆매장 공사로 인한 강제 문닫음 ㅠㅠ예...   \n",
       "4  noriter486_zzang            #다이슨#다이슨팝업 @dyson_kr #createwithdyson체험   \n",
       "5      cuteponnu686                      🅳🅼 확인부탁드려요(숨겨진 요청에 있을수도 있어요).   \n",
       "6     blidge.review       안녕하세요 : )체험단 무료모집 관련해서 DM 드렸습니다. 확인 부탁드립니다 !   \n",
       "\n",
       "                                               words  \n",
       "0  [소식, 전하, 맞이, 메뉴, 등장, 했슴돠, 두둥두둥, 고객, 반응, 맥주, 안주...  \n",
       "1                                                     \n",
       "2                                                     \n",
       "3  [매장, 먼지, 테러, 피해, 상황, 매장, 공사, 강제, 예약, 손님, 죄송, 누...  \n",
       "4                                          [다이슨, 팝업]  \n",
       "5                                           [확인, 요청]  \n",
       "6                               [체험, 무료, 모집, 관련, 확인]  "
      ]
     },
     "execution_count": 24,
     "metadata": {},
     "output_type": "execute_result"
    }
   ],
   "source": [
    "df"
   ]
  },
  {
   "cell_type": "code",
   "execution_count": null,
   "metadata": {},
   "outputs": [],
   "source": [
    "import warnings\n",
    "warnings.filterwarnings('ignore')"
   ]
  },
  {
   "cell_type": "code",
   "execution_count": null,
   "metadata": {},
   "outputs": [],
   "source": [
    "# case2 (for문 이용)\n",
    "for i in range(len(df)):\n",
    "    nouns = okt.nouns(df.loc[i,'Comment'])\n",
    "\n",
    "    if nouns:\n",
    "        words = [n for n in nouns if len(n) > 1]\n",
    "    else:\n",
    "        words = ''\n",
    "        \n",
    "    df['words2'][i] = words\n",
    "df"
   ]
  },
  {
   "cell_type": "code",
   "execution_count": null,
   "metadata": {},
   "outputs": [],
   "source": [
    "df.to_csv('teach.csv')"
   ]
  },
  {
   "cell_type": "code",
   "execution_count": 26,
   "metadata": {},
   "outputs": [
    {
     "name": "stdout",
     "output_type": "stream",
     "text": [
      "12\n",
      "https://scontent.cdninstagram.com/v/t51.29350-15/431751142_3694731790795441_3537009666366567387_n.heic?stp=dst-jpg_e35&efg=eyJ2ZW5jb2RlX3RhZyI6ImltYWdlX3VybGdlbi4xNDQweDE0NDAuc2RyLmYyOTM1MCJ9&_nc_ht=scontent.cdninstagram.com&_nc_cat=101&_nc_ohc=6VU_dVPjp_YAb71BwF-&edm=APs17CUBAAAA&ccb=7-5&ig_cache_key=MzMxODQzMDg1MDk1MzYzMTY5MA%3D%3D.2-ccb7-5&oh=00_AfDHx8KbmWGwbrZX5SZd4pn7f2y9YbEGKlcjnwMS6z4CiA&oe=6622BE09&_nc_sid=10d13b\n",
      "https://scontent.cdninstagram.com/v/t51.29350-15/412779690_2152180555126192_4803143512538141057_n.heic?stp=dst-jpg_e35&efg=eyJ2ZW5jb2RlX3RhZyI6ImltYWdlX3VybGdlbi4xNDQweDE4MDAuc2RyLmYyOTM1MCJ9&_nc_ht=scontent.cdninstagram.com&_nc_cat=104&_nc_ohc=hlOIQkllAfUAb7LVsXA&edm=APs17CUBAAAA&ccb=7-5&ig_cache_key=MzI2NjA4NjU2NjgwODM2MjQ0Mg%3D%3D.2-ccb7-5&oh=00_AfCvSF-eF9d4721EZxcC1ufkW7pmXrGgzwfnNNAdJ9hDNw&oe=6622BF17&_nc_sid=10d13b\n",
      "https://scontent.cdninstagram.com/v/t51.29350-15/330825053_723258659335830_5217489359993013875_n.webp?stp=dst-jpg_e35&efg=eyJ2ZW5jb2RlX3RhZyI6ImltYWdlX3VybGdlbi4xNDQweDE0NDAuc2RyLmYyOTM1MCJ9&_nc_ht=scontent.cdninstagram.com&_nc_cat=106&_nc_ohc=P1iA5XemkmIAb4nV1Hs&edm=APs17CUBAAAA&ccb=7-5&ig_cache_key=MzAzOTE3MzQ4MDUzNjE0MjA3Mg%3D%3D.2-ccb7-5&oh=00_AfArmIAVjSX3NJpoGpKG7NbM5ZkdjYrt94LSzZ97KHmIAw&oe=6620C494&_nc_sid=10d13b\n"
     ]
    }
   ],
   "source": [
    "imgs = driver.find_elements(By.CLASS_NAME, '_aagw')\n",
    "print(len(imgs))\n",
    "imgs[0].click()\n",
    "\n",
    "driver.implicitly_wait(10)\n",
    "\n",
    "for i in range(3):\n",
    "    try:\n",
    "        driver.implicitly_wait(5)\n",
    "        # 이미지를 저장\n",
    "        img_element = driver.find_element(By.CSS_SELECTOR, '._aagu._aato ._aagv .x5yr21d.xu96u03.x10l6tqk.x13vifvy.x87ps6o.xh8yej3')\n",
    "        # 해당하는 이미지 태그에서 src 속성의 값을 출력\n",
    "        img_src = img_element.get_attribute('src')\n",
    "        print(img_src)\n",
    "        # 다음 버튼 클릭\n",
    "        next_element = driver.find_element(By.CSS_SELECTOR, '._aaqg ._abl-')\n",
    "        next_element.click()\n",
    "    \n",
    "    except:\n",
    "        print('error')"
   ]
  },
  {
   "cell_type": "code",
   "execution_count": 27,
   "metadata": {},
   "outputs": [],
   "source": [
    "import requests"
   ]
  },
  {
   "cell_type": "code",
   "execution_count": 28,
   "metadata": {},
   "outputs": [],
   "source": [
    "# 이미지를 저장하는 함수 생성\n",
    "def image_save(img_path, save_path, file_name):\n",
    "    html_data = requests.get(img_path)\n",
    "    imageFile = open(\n",
    "        os.path.join(\n",
    "            save_path,\n",
    "            file_name\n",
    "        ),\n",
    "        'wb'\n",
    "    )\n",
    "    # 이미지 데이터의 크기\n",
    "    chunk_size = 100000000\n",
    "    for chunk in html_data.iter_content(chunk_size):\n",
    "        imageFile.write(chunk)\n",
    "        imageFile.close()\n",
    "    print('파일 저장 완료')"
   ]
  },
  {
   "cell_type": "code",
   "execution_count": 30,
   "metadata": {},
   "outputs": [
    {
     "name": "stdout",
     "output_type": "stream",
     "text": [
      "33\n",
      "https://scontent.cdninstagram.com/v/t51.29350-15/431751142_3694731790795441_3537009666366567387_n.heic?stp=dst-jpg_e35&efg=eyJ2ZW5jb2RlX3RhZyI6ImltYWdlX3VybGdlbi4xNDQweDE0NDAuc2RyLmYyOTM1MCJ9&_nc_ht=scontent.cdninstagram.com&_nc_cat=101&_nc_ohc=6VU_dVPjp_YAb71BwF-&edm=APs17CUBAAAA&ccb=7-5&ig_cache_key=MzMxODQzMDg1MDk1MzYzMTY5MA%3D%3D.2-ccb7-5&oh=00_AfDHx8KbmWGwbrZX5SZd4pn7f2y9YbEGKlcjnwMS6z4CiA&oe=6622BE09&_nc_sid=10d13b\n",
      "파일 저장 완료\n",
      "https://scontent.cdninstagram.com/v/t51.29350-15/412779690_2152180555126192_4803143512538141057_n.heic?stp=dst-jpg_e35&efg=eyJ2ZW5jb2RlX3RhZyI6ImltYWdlX3VybGdlbi4xNDQweDE4MDAuc2RyLmYyOTM1MCJ9&_nc_ht=scontent.cdninstagram.com&_nc_cat=104&_nc_ohc=hlOIQkllAfUAb7LVsXA&edm=APs17CUBAAAA&ccb=7-5&ig_cache_key=MzI2NjA4NjU2NjgwODM2MjQ0Mg%3D%3D.2-ccb7-5&oh=00_AfCvSF-eF9d4721EZxcC1ufkW7pmXrGgzwfnNNAdJ9hDNw&oe=6622BF17&_nc_sid=10d13b\n",
      "파일 저장 완료\n",
      "https://scontent.cdninstagram.com/v/t51.29350-15/330825053_723258659335830_5217489359993013875_n.webp?stp=dst-jpg_e35&efg=eyJ2ZW5jb2RlX3RhZyI6ImltYWdlX3VybGdlbi4xNDQweDE0NDAuc2RyLmYyOTM1MCJ9&_nc_ht=scontent.cdninstagram.com&_nc_cat=106&_nc_ohc=P1iA5XemkmIAb4nV1Hs&edm=APs17CUBAAAA&ccb=7-5&ig_cache_key=MzAzOTE3MzQ4MDUzNjE0MjA3Mg%3D%3D.2-ccb7-5&oh=00_AfArmIAVjSX3NJpoGpKG7NbM5ZkdjYrt94LSzZ97KHmIAw&oe=6620C494&_nc_sid=10d13b\n",
      "파일 저장 완료\n"
     ]
    }
   ],
   "source": [
    "imgs = driver.find_elements(By.CLASS_NAME, '_aagw')\n",
    "print(len(imgs))\n",
    "imgs[0].click()\n",
    "\n",
    "driver.implicitly_wait(10)\n",
    "\n",
    "for i in range(3):\n",
    "    try:\n",
    "        \n",
    "        \n",
    "        img_element = driver.find_element(By.CSS_SELECTOR, '._aagu._aato ._aagv .x5yr21d.xu96u03.x10l6tqk.x13vifvy.x87ps6o.xh8yej3')\n",
    "        \n",
    "        img_src = img_element.get_attribute('src')\n",
    "\n",
    "        print(img_src)\n",
    "        \n",
    "\n",
    "        image_save(img_src, \"./\", f\"{i}.png\")\n",
    "       \n",
    "\n",
    "        next_element = driver.find_element(By.CSS_SELECTOR, '._aaqg ._abl-')\n",
    "        next_element.click()\n",
    "    \n",
    "    except:\n",
    "        print('error')\n",
    "        next_element = driver.find_element(By.CSS_SELECTOR, '._aaqg ._abl-')\n",
    "        next_element.click()\n",
    "    \n",
    "        "
   ]
  },
  {
   "cell_type": "code",
   "execution_count": null,
   "metadata": {},
   "outputs": [],
   "source": []
  },
  {
   "cell_type": "code",
   "execution_count": 3,
   "metadata": {},
   "outputs": [],
   "source": [
    "# 외부의 모듈 로드\n",
    "import insta"
   ]
  },
  {
   "cell_type": "code",
   "execution_count": 4,
   "metadata": {},
   "outputs": [
    {
     "name": "stdout",
     "output_type": "stream",
     "text": [
      "파일 저장 완료\n",
      "파일 저장 완료\n",
      "파일 저장 완료\n"
     ]
    }
   ],
   "source": [
    "insta.search_insta('서울숲클라이밍')"
   ]
  },
  {
   "cell_type": "code",
   "execution_count": null,
   "metadata": {},
   "outputs": [],
   "source": []
  }
 ],
 "metadata": {
  "kernelspec": {
   "display_name": "Python 3",
   "language": "python",
   "name": "python3"
  },
  "language_info": {
   "codemirror_mode": {
    "name": "ipython",
    "version": 3
   },
   "file_extension": ".py",
   "mimetype": "text/x-python",
   "name": "python",
   "nbconvert_exporter": "python",
   "pygments_lexer": "ipython3",
   "version": "3.12.2"
  }
 },
 "nbformat": 4,
 "nbformat_minor": 2
}
