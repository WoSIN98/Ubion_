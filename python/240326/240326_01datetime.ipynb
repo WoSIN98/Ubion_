{
 "cells": [
  {
   "cell_type": "code",
   "execution_count": 1,
   "metadata": {},
   "outputs": [],
   "source": [
    "## 라이브러리 로드\n",
    "# import datetime.datetime\n",
    "from datetime import datetime                               # 둘다 같은 의미. 라이브러리와 그 안에 들어있는 Calss의 이름이 같은 경우 \n",
    "# 아래 방식은 여러 Class를 가져올 수 있다.                # from datetime import datetime, Class1, Class2"
   ]
  },
  {
   "cell_type": "code",
   "execution_count": 2,
   "metadata": {},
   "outputs": [
    {
     "name": "stdout",
     "output_type": "stream",
     "text": [
      "<class 'str'>\n"
     ]
    }
   ],
   "source": [
    "time_data = \"2024-03-26 09:45:00\"\n",
    "print(type(time_data))"
   ]
  },
  {
   "cell_type": "code",
   "execution_count": null,
   "metadata": {},
   "outputs": [],
   "source": [
    "## datetime으로 시계열 데이터 다루기"
   ]
  },
  {
   "cell_type": "code",
   "execution_count": 4,
   "metadata": {},
   "outputs": [
    {
     "name": "stdout",
     "output_type": "stream",
     "text": [
      "2024-03-26 09:45:00\n"
     ]
    }
   ],
   "source": [
    "## 문자열 데이터를 시계열 데이터로 변환                # 이렇게 data 형태 바꿔주는 것을 파싱이라고 한다.\n",
    "time = datetime.strptime(                               # datetime에는 data가 없으므로 strptime()안에 바로 data 적어준다.\n",
    "    time_data,\n",
    "    \"%Y-%m-%d %H:%M:%S\"                                   # %Y : 년(4개기준), %y : 년(2개기준) %m : 월, %M : 분, %H : 시(24시기준)\n",
    ")\n",
    "print(time)"
   ]
  },
  {
   "cell_type": "code",
   "execution_count": 5,
   "metadata": {},
   "outputs": [
    {
     "name": "stdout",
     "output_type": "stream",
     "text": [
      "2024-03-26 09:45:00\n",
      "2024-03-26 09:45:00\n",
      "<class 'datetime.datetime'>\n"
     ]
    }
   ],
   "source": [
    "print(time_data)\n",
    "print(time)\n",
    "print(type(time))"
   ]
  },
  {
   "cell_type": "code",
   "execution_count": 6,
   "metadata": {},
   "outputs": [
    {
     "name": "stdout",
     "output_type": "stream",
     "text": [
      "2024-03-01 00:00:00\n"
     ]
    }
   ],
   "source": [
    "time_data2 = '2024년03월'\n",
    "time2 = datetime.strptime(\n",
    "    time_data2,\n",
    "    \"%Y년%m월\"\n",
    ")\n",
    "print(time2)"
   ]
  },
  {
   "cell_type": "code",
   "execution_count": 15,
   "metadata": {},
   "outputs": [
    {
     "name": "stdout",
     "output_type": "stream",
     "text": [
      "2024-03-01 00:00:00\n"
     ]
    }
   ],
   "source": [
    "time_data3 = '24년03월'\n",
    "time3 = datetime.strptime(\n",
    "    time_data3,\n",
    "    \"%y년%m월\"\n",
    ")\n",
    "print(time3)"
   ]
  },
  {
   "cell_type": "code",
   "execution_count": 11,
   "metadata": {},
   "outputs": [
    {
     "data": {
      "text/plain": [
       "'2024년03월'"
      ]
     },
     "execution_count": 11,
     "metadata": {},
     "output_type": "execute_result"
    }
   ],
   "source": [
    "## 시계열 데이터를 문자열 데이터로 변환\n",
    "time2.strftime( '%Y년%m월' )                     # time에는 data가 존재하므로 strftime()안에는 data적지않고 형식 적어준다\n"
   ]
  },
  {
   "cell_type": "code",
   "execution_count": 10,
   "metadata": {},
   "outputs": [
    {
     "data": {
      "text/plain": [
       "'Friday'"
      ]
     },
     "execution_count": 10,
     "metadata": {},
     "output_type": "execute_result"
    }
   ],
   "source": [
    "time2.strftime('%A')"
   ]
  },
  {
   "cell_type": "markdown",
   "metadata": {},
   "source": [
    "#### datetime에서 사용되는 format \n",
    "- %Y : 년도 전체를 표기('2024')\n",
    "- %y : 년도를 축약해서 표기 ('24')\n",
    "- %m : 월을 숫자로 표기 ('01')\n",
    "- %b : 축약된 월의 이름 ('Mar')\n",
    "- %B : 월의 이름('March')\n",
    "- %d : 일을 숫자로 표기 ('26')\n",
    "- %H : 24시를 기준으로 표기 ('21')\n",
    "- %I : 12시를 기준으로 표기 ('09')\n",
    "- %M : 분을 표기\n",
    "- %S : 초를 표기 \n",
    "- %p : AM/PM 표기\n",
    "- %a : 요일의 이름을 축약해서 표기 ('Fri')\n",
    "- %A : 요일의 이름을 표기 ('Friday')\n",
    "- %w : 요일을 숫자로 표기 (0:일, 1:월, ...,6:토)"
   ]
  },
  {
   "cell_type": "code",
   "execution_count": null,
   "metadata": {},
   "outputs": [],
   "source": [
    "## pandas로 시계열 데이터 다루기"
   ]
  },
  {
   "cell_type": "code",
   "execution_count": 16,
   "metadata": {},
   "outputs": [],
   "source": [
    "import pandas as pd"
   ]
  },
  {
   "cell_type": "code",
   "execution_count": 18,
   "metadata": {},
   "outputs": [
    {
     "data": {
      "text/plain": [
       "Timedelta('1 days 00:00:00')"
      ]
     },
     "execution_count": 18,
     "metadata": {},
     "output_type": "execute_result"
    }
   ],
   "source": [
    "pd.Timedelta(days = 1)                            # 시간을 더하는 Class"
   ]
  },
  {
   "cell_type": "code",
   "execution_count": 19,
   "metadata": {},
   "outputs": [
    {
     "data": {
      "text/plain": [
       "Timestamp('1970-01-01 00:00:00.000000010')"
      ]
     },
     "execution_count": 19,
     "metadata": {},
     "output_type": "execute_result"
    }
   ],
   "source": [
    "pd.Timestamp(10)"
   ]
  },
  {
   "cell_type": "code",
   "execution_count": 23,
   "metadata": {},
   "outputs": [
    {
     "data": {
      "text/plain": [
       "Timestamp('2024-03-26 00:00:00')"
      ]
     },
     "execution_count": 23,
     "metadata": {},
     "output_type": "execute_result"
    }
   ],
   "source": [
    "pd.Timestamp(year = 2024, month = 3, day = 26)"
   ]
  },
  {
   "cell_type": "code",
   "execution_count": 28,
   "metadata": {},
   "outputs": [
    {
     "data": {
      "text/plain": [
       "Timestamp('2024-03-26 00:00:00')"
      ]
     },
     "execution_count": 28,
     "metadata": {},
     "output_type": "execute_result"
    }
   ],
   "source": [
    "## 문자열을 시계열 변경\n",
    "time_data3 = \"2024-03-26\"\n",
    "pd.to_datetime(\n",
    "    time_data3                                    # 여기서도 pormat 적어주는 것이 맞긴하나, 일반적인 형태라면 그냥 넣어도 된다. 그러나 한국어 인식 못한다.\n",
    ")"
   ]
  },
  {
   "cell_type": "code",
   "execution_count": null,
   "metadata": {},
   "outputs": [],
   "source": [
    "time_data4 = '2024년3월'\n",
    "pd.to_datetime(time_data4)         # dateparseError 데이터 파싱(변경) 중 에러"
   ]
  },
  {
   "cell_type": "code",
   "execution_count": 32,
   "metadata": {},
   "outputs": [
    {
     "data": {
      "text/plain": [
       "Timestamp('2024-03-01 00:00:00')"
      ]
     },
     "execution_count": 32,
     "metadata": {},
     "output_type": "execute_result"
    }
   ],
   "source": [
    "time_data4 = '2024년3월'\n",
    "pd.to_datetime(\n",
    "    time_data4,\n",
    "    format = \"%Y년%m월\"\n",
    ")                                 # 위의 과정은 스리즈에서도 동일하게 적용된다. "
   ]
  },
  {
   "cell_type": "code",
   "execution_count": 37,
   "metadata": {},
   "outputs": [
    {
     "data": {
      "text/plain": [
       "Timestamp('2024-05-10 16:30:00')"
      ]
     },
     "execution_count": 37,
     "metadata": {},
     "output_type": "execute_result"
    }
   ],
   "source": [
    "time_data5 = '16:30:00 05-10-24'\n",
    "pd.to_datetime(time_data5)"
   ]
  },
  {
   "cell_type": "code",
   "execution_count": null,
   "metadata": {},
   "outputs": [],
   "source": []
  }
 ],
 "metadata": {
  "kernelspec": {
   "display_name": "Python 3",
   "language": "python",
   "name": "python3"
  },
  "language_info": {
   "codemirror_mode": {
    "name": "ipython",
    "version": 3
   },
   "file_extension": ".py",
   "mimetype": "text/x-python",
   "name": "python",
   "nbconvert_exporter": "python",
   "pygments_lexer": "ipython3",
   "version": "3.12.2"
  }
 },
 "nbformat": 4,
 "nbformat_minor": 2
}
