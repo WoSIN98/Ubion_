{
 "cells": [
  {
   "cell_type": "code",
   "execution_count": 10,
   "metadata": {},
   "outputs": [],
   "source": [
    "import database as db                # 녹음 17:43"
   ]
  },
  {
   "cell_type": "code",
   "execution_count": 11,
   "metadata": {},
   "outputs": [],
   "source": [
    "## database 라는 모듈 안에 있는 MyDB Class 생성\n",
    "db1 = db.MyDB()"
   ]
  },
  {
   "cell_type": "code",
   "execution_count": 12,
   "metadata": {},
   "outputs": [
    {
     "data": {
      "text/plain": [
       "[{'transaction_id': 'T0000000114',\n",
       "  'price': 50000,\n",
       "  'payment_date': '2019-02-01 01:37:23',\n",
       "  'customer_id': 'HD678019'},\n",
       " {'transaction_id': 'T0000000116',\n",
       "  'price': 210000,\n",
       "  'payment_date': '2019-02-01 02:47:23',\n",
       "  'customer_id': 'IK452215'},\n",
       " {'transaction_id': 'T0000000117',\n",
       "  'price': 170000,\n",
       "  'payment_date': '2019-02-01 04:33:46',\n",
       "  'customer_id': 'PL542865'}]"
      ]
     },
     "execution_count": 12,
     "metadata": {},
     "output_type": "execute_result"
    }
   ],
   "source": [
    "select1 = \"\"\"\n",
    "    select * from tran_1 limit 3            # limit 띄우고 3 해야 된다.\n",
    "\"\"\"\n",
    "db1.sql_query(select1)"
   ]
  },
  {
   "cell_type": "code",
   "execution_count": 8,
   "metadata": {},
   "outputs": [],
   "source": [
    "## 커스텀하게 만든 모듈을 어떤 파일에서든 사용이 가능하게 하려면 python 내의 환경변수를 확인 \n",
    "import sys"
   ]
  },
  {
   "cell_type": "code",
   "execution_count": 9,
   "metadata": {},
   "outputs": [
    {
     "data": {
      "text/plain": [
       "['c:\\\\Users\\\\Jws\\\\Documents\\\\ubion\\\\python\\\\240320',\n",
       " 'c:\\\\Users\\\\Jws\\\\AppData\\\\Local\\\\Programs\\\\Python\\\\Python312\\\\python312.zip',\n",
       " 'c:\\\\Users\\\\Jws\\\\AppData\\\\Local\\\\Programs\\\\Python\\\\Python312\\\\DLLs',\n",
       " 'c:\\\\Users\\\\Jws\\\\AppData\\\\Local\\\\Programs\\\\Python\\\\Python312\\\\Lib',\n",
       " 'c:\\\\Users\\\\Jws\\\\AppData\\\\Local\\\\Programs\\\\Python\\\\Python312',\n",
       " '',\n",
       " 'C:\\\\Users\\\\Jws\\\\AppData\\\\Roaming\\\\Python\\\\Python312\\\\site-packages',\n",
       " 'C:\\\\Users\\\\Jws\\\\AppData\\\\Roaming\\\\Python\\\\Python312\\\\site-packages\\\\win32',\n",
       " 'C:\\\\Users\\\\Jws\\\\AppData\\\\Roaming\\\\Python\\\\Python312\\\\site-packages\\\\win32\\\\lib',\n",
       " 'C:\\\\Users\\\\Jws\\\\AppData\\\\Roaming\\\\Python\\\\Python312\\\\site-packages\\\\Pythonwin',\n",
       " 'c:\\\\Users\\\\Jws\\\\AppData\\\\Local\\\\Programs\\\\Python\\\\Python312\\\\Lib\\\\site-packages']"
      ]
     },
     "execution_count": 9,
     "metadata": {},
     "output_type": "execute_result"
    }
   ],
   "source": [
    "# 환경변수 출력 \n",
    "sys.path\n",
    "# 맨 처음 뜨는 거 지금 현재 경로\n",
    "# 'c:\\\\Users\\\\Jws\\\\AppData\\\\Local\\\\Programs\\\\Python\\\\Python312\\\\Lib\\\\site-packages'가 환경변수"
   ]
  },
  {
   "cell_type": "code",
   "execution_count": 13,
   "metadata": {},
   "outputs": [
    {
     "data": {
      "text/plain": [
       "'c:/Users/Jws/AppData/Local/Programs/Python/Python312/Lib/site-packages'"
      ]
     },
     "execution_count": 13,
     "metadata": {},
     "output_type": "execute_result"
    }
   ],
   "source": [
    "sys.path[-1].replace('\\\\','/')"
   ]
  },
  {
   "cell_type": "code",
   "execution_count": 14,
   "metadata": {},
   "outputs": [
    {
     "name": "stdout",
     "output_type": "stream",
     "text": [
      "Collecting pandas\n",
      "  Downloading pandas-2.2.1-cp312-cp312-win_amd64.whl.metadata (19 kB)\n",
      "Collecting numpy<2,>=1.26.0 (from pandas)\n",
      "  Downloading numpy-1.26.4-cp312-cp312-win_amd64.whl.metadata (61 kB)\n",
      "     ---------------------------------------- 0.0/61.0 kB ? eta -:--:--\n",
      "     --------------------------------- ------ 51.2/61.0 kB 1.3 MB/s eta 0:00:01\n",
      "     ---------------------------------------- 61.0/61.0 kB 1.6 MB/s eta 0:00:00\n",
      "Requirement already satisfied: python-dateutil>=2.8.2 in c:\\users\\jws\\appdata\\roaming\\python\\python312\\site-packages (from pandas) (2.9.0.post0)\n",
      "Collecting pytz>=2020.1 (from pandas)\n",
      "  Downloading pytz-2024.1-py2.py3-none-any.whl.metadata (22 kB)\n",
      "Collecting tzdata>=2022.7 (from pandas)\n",
      "  Downloading tzdata-2024.1-py2.py3-none-any.whl.metadata (1.4 kB)\n",
      "Requirement already satisfied: six>=1.5 in c:\\users\\jws\\appdata\\roaming\\python\\python312\\site-packages (from python-dateutil>=2.8.2->pandas) (1.16.0)\n",
      "Downloading pandas-2.2.1-cp312-cp312-win_amd64.whl (11.5 MB)\n",
      "   ---------------------------------------- 0.0/11.5 MB ? eta -:--:--\n",
      "   ----- ---------------------------------- 1.5/11.5 MB 31.6 MB/s eta 0:00:01\n",
      "   ----------- ---------------------------- 3.2/11.5 MB 34.4 MB/s eta 0:00:01\n",
      "   ------------------ --------------------- 5.4/11.5 MB 38.6 MB/s eta 0:00:01\n",
      "   -------------------------- ------------- 7.7/11.5 MB 41.1 MB/s eta 0:00:01\n",
      "   ----------------------------- ---------- 8.4/11.5 MB 41.5 MB/s eta 0:00:01\n",
      "   ------------------------------------ --- 10.4/11.5 MB 36.4 MB/s eta 0:00:01\n",
      "   ---------------------------------------- 11.5/11.5 MB 36.4 MB/s eta 0:00:00\n",
      "Downloading numpy-1.26.4-cp312-cp312-win_amd64.whl (15.5 MB)\n",
      "   ---------------------------------------- 0.0/15.5 MB ? eta -:--:--\n",
      "   ---- ----------------------------------- 1.7/15.5 MB 35.9 MB/s eta 0:00:01\n",
      "   ----------- ---------------------------- 4.5/15.5 MB 48.0 MB/s eta 0:00:01\n",
      "   ------------------ --------------------- 7.3/15.5 MB 51.9 MB/s eta 0:00:01\n",
      "   ------------------------ --------------- 9.7/15.5 MB 51.5 MB/s eta 0:00:01\n",
      "   -------------------------------- ------- 12.6/15.5 MB 54.4 MB/s eta 0:00:01\n",
      "   ---------------------------------------  15.3/15.5 MB 54.4 MB/s eta 0:00:01\n",
      "   ---------------------------------------- 15.5/15.5 MB 50.4 MB/s eta 0:00:00\n",
      "Downloading pytz-2024.1-py2.py3-none-any.whl (505 kB)\n",
      "   ---------------------------------------- 0.0/505.5 kB ? eta -:--:--\n",
      "   ---------------------------------------- 505.5/505.5 kB ? eta 0:00:00\n",
      "Downloading tzdata-2024.1-py2.py3-none-any.whl (345 kB)\n",
      "   ---------------------------------------- 0.0/345.4 kB ? eta -:--:--\n",
      "   ---------------------------------------- 345.4/345.4 kB ? eta 0:00:00\n",
      "Installing collected packages: pytz, tzdata, numpy, pandas\n",
      "Successfully installed numpy-1.26.4 pandas-2.2.1 pytz-2024.1 tzdata-2024.1\n"
     ]
    }
   ],
   "source": [
    "!pip install pandas"
   ]
  },
  {
   "cell_type": "code",
   "execution_count": 15,
   "metadata": {},
   "outputs": [],
   "source": [
    "import pandas as pd"
   ]
  },
  {
   "cell_type": "code",
   "execution_count": 16,
   "metadata": {},
   "outputs": [],
   "source": [
    "select1 = \"\"\"\n",
    "    select * from tran_1 \n",
    "\"\"\"\n",
    "data = db1.sql_query(select1)                 # data에는 리스트 안의 dict 형태의 tran_1 데이터들이 들어올것"
   ]
  },
  {
   "cell_type": "code",
   "execution_count": 17,
   "metadata": {},
   "outputs": [],
   "source": [
    "# sql을 통해서 받아온 데이터를 표의 형태로 출력\n",
    "df = pd.DataFrame(data)"
   ]
  },
  {
   "cell_type": "code",
   "execution_count": 21,
   "metadata": {},
   "outputs": [
    {
     "data": {
      "text/html": [
       "<div>\n",
       "<style scoped>\n",
       "    .dataframe tbody tr th:only-of-type {\n",
       "        vertical-align: middle;\n",
       "    }\n",
       "\n",
       "    .dataframe tbody tr th {\n",
       "        vertical-align: top;\n",
       "    }\n",
       "\n",
       "    .dataframe thead th {\n",
       "        text-align: right;\n",
       "    }\n",
       "</style>\n",
       "<table border=\"1\" class=\"dataframe\">\n",
       "  <thead>\n",
       "    <tr style=\"text-align: right;\">\n",
       "      <th></th>\n",
       "      <th>transaction_id</th>\n",
       "      <th>price</th>\n",
       "      <th>payment_date</th>\n",
       "      <th>customer_id</th>\n",
       "    </tr>\n",
       "  </thead>\n",
       "  <tbody>\n",
       "    <tr>\n",
       "      <th>0</th>\n",
       "      <td>T0000000114</td>\n",
       "      <td>50000</td>\n",
       "      <td>2019-02-01 01:37:23</td>\n",
       "      <td>HD678019</td>\n",
       "    </tr>\n",
       "    <tr>\n",
       "      <th>1</th>\n",
       "      <td>T0000000116</td>\n",
       "      <td>210000</td>\n",
       "      <td>2019-02-01 02:47:23</td>\n",
       "      <td>IK452215</td>\n",
       "    </tr>\n",
       "    <tr>\n",
       "      <th>2</th>\n",
       "      <td>T0000000117</td>\n",
       "      <td>170000</td>\n",
       "      <td>2019-02-01 04:33:46</td>\n",
       "      <td>PL542865</td>\n",
       "    </tr>\n",
       "    <tr>\n",
       "      <th>3</th>\n",
       "      <td>T0000000118</td>\n",
       "      <td>120000</td>\n",
       "      <td>2019-02-01 04:36:50</td>\n",
       "      <td>GD372798</td>\n",
       "    </tr>\n",
       "    <tr>\n",
       "      <th>4</th>\n",
       "      <td>T0000000119</td>\n",
       "      <td>180000</td>\n",
       "      <td>2019-02-01 05:25:18</td>\n",
       "      <td>IK782104</td>\n",
       "    </tr>\n",
       "    <tr>\n",
       "      <th>...</th>\n",
       "      <td>...</td>\n",
       "      <td>...</td>\n",
       "      <td>...</td>\n",
       "      <td>...</td>\n",
       "    </tr>\n",
       "    <tr>\n",
       "      <th>4993</th>\n",
       "      <td>T0000005108</td>\n",
       "      <td>210000</td>\n",
       "      <td>2019-06-15 02:42:41</td>\n",
       "      <td>HD315748</td>\n",
       "    </tr>\n",
       "    <tr>\n",
       "      <th>4994</th>\n",
       "      <td>T0000005109</td>\n",
       "      <td>150000</td>\n",
       "      <td>2019-06-15 03:36:16</td>\n",
       "      <td>HI215420</td>\n",
       "    </tr>\n",
       "    <tr>\n",
       "      <th>4995</th>\n",
       "      <td>T0000005110</td>\n",
       "      <td>50000</td>\n",
       "      <td>2019-06-15 03:44:06</td>\n",
       "      <td>IK880102</td>\n",
       "    </tr>\n",
       "    <tr>\n",
       "      <th>4996</th>\n",
       "      <td>T0000005111</td>\n",
       "      <td>210000</td>\n",
       "      <td>2019-06-15 04:14:06</td>\n",
       "      <td>IK074758</td>\n",
       "    </tr>\n",
       "    <tr>\n",
       "      <th>4997</th>\n",
       "      <td>T0000005112</td>\n",
       "      <td>50000</td>\n",
       "      <td>2019-06-15 04:42:38</td>\n",
       "      <td>HD444151</td>\n",
       "    </tr>\n",
       "  </tbody>\n",
       "</table>\n",
       "<p>4998 rows × 4 columns</p>\n",
       "</div>"
      ],
      "text/plain": [
       "     transaction_id   price         payment_date customer_id\n",
       "0       T0000000114   50000  2019-02-01 01:37:23    HD678019\n",
       "1       T0000000116  210000  2019-02-01 02:47:23    IK452215\n",
       "2       T0000000117  170000  2019-02-01 04:33:46    PL542865\n",
       "3       T0000000118  120000  2019-02-01 04:36:50    GD372798\n",
       "4       T0000000119  180000  2019-02-01 05:25:18    IK782104\n",
       "...             ...     ...                  ...         ...\n",
       "4993    T0000005108  210000  2019-06-15 02:42:41    HD315748\n",
       "4994    T0000005109  150000  2019-06-15 03:36:16    HI215420\n",
       "4995    T0000005110   50000  2019-06-15 03:44:06    IK880102\n",
       "4996    T0000005111  210000  2019-06-15 04:14:06    IK074758\n",
       "4997    T0000005112   50000  2019-06-15 04:42:38    HD444151\n",
       "\n",
       "[4998 rows x 4 columns]"
      ]
     },
     "execution_count": 21,
     "metadata": {},
     "output_type": "execute_result"
    }
   ],
   "source": [
    "df                                             # dataframe은 prind(df) 보다 df가 보기 편해서 df로 출력"
   ]
  },
  {
   "cell_type": "code",
   "execution_count": null,
   "metadata": {},
   "outputs": [],
   "source": []
  }
 ],
 "metadata": {
  "kernelspec": {
   "display_name": "Python 3",
   "language": "python",
   "name": "python3"
  },
  "language_info": {
   "codemirror_mode": {
    "name": "ipython",
    "version": 3
   },
   "file_extension": ".py",
   "mimetype": "text/x-python",
   "name": "python",
   "nbconvert_exporter": "python",
   "pygments_lexer": "ipython3",
   "version": "3.12.2"
  }
 },
 "nbformat": 4,
 "nbformat_minor": 2
}
