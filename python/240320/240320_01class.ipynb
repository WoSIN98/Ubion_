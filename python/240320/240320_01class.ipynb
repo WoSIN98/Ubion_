{
 "cells": [
  {
   "cell_type": "code",
   "execution_count": 1,
   "metadata": {},
   "outputs": [],
   "source": [
    "## class 선언                               # 13:34\n",
    "class Test_Class:\n",
    "    # 생성자 함수(초기화 함수)\n",
    "    # class가 생성이 될 때 최초로 한번만 실행이 되는 함수\n",
    "    # 일반적으로는 class 안에서 사용할 self 변수에 데이터를 대입하기 위해 사용\n",
    "    def __init__(self, input_a, input_b):\n",
    "        # self.변수 생성 \n",
    "        self.a = input_a\n",
    "        self.b = input_b"
   ]
  },
  {
   "cell_type": "code",
   "execution_count": 3,
   "metadata": {},
   "outputs": [],
   "source": [
    "## class 생성  --> 해당 클래스에 내장되어 있는 생성자 함수 호출 \n",
    "a_class = Test_Class(10, 'test')"
   ]
  },
  {
   "cell_type": "code",
   "execution_count": 6,
   "metadata": {},
   "outputs": [
    {
     "name": "stdout",
     "output_type": "stream",
     "text": [
      "<__main__.Test_Class object at 0x000002224BC07AD0>\n",
      "10\n",
      "test\n"
     ]
    }
   ],
   "source": [
    "# a_class 안에 있는 a라는 변수와 b라는 변수를 호출\n",
    "print(a_class)\n",
    "print(a_class.a)\n",
    "print(a_class.b)\n",
    "\n",
    "# 결과\n",
    "# <__main__.Test_Class object at 0x000002224BC07AD0>         코드(주소값)라는 곳에 a_class가 저장되어 있다. \n",
    "# 10                                                         a_class 안의 변수 a에 10이란 데이터가 들어가져 있다.\n",
    "# test                                                       a_class 안의 변수 b에 test란 데이터가 들어가져 있다."
   ]
  },
  {
   "cell_type": "code",
   "execution_count": 7,
   "metadata": {},
   "outputs": [],
   "source": [
    "b_class = Test_Class(30, 3.14)"
   ]
  },
  {
   "cell_type": "code",
   "execution_count": 8,
   "metadata": {},
   "outputs": [
    {
     "name": "stdout",
     "output_type": "stream",
     "text": [
      "<__main__.Test_Class object at 0x000002224BB089E0>\n",
      "30\n",
      "3.14\n"
     ]
    }
   ],
   "source": [
    "print(b_class)\n",
    "print(b_class.a)\n",
    "print(b_class.b)"
   ]
  },
  {
   "cell_type": "code",
   "execution_count": 9,
   "metadata": {},
   "outputs": [],
   "source": [
    "## 변수명 따로 쓰지 않고 self 쓰는 이유\n",
    "class Calculate:\n",
    "    def __init__(self, input_x, input_y):\n",
    "        self.x = input_x\n",
    "        self.y = input_y\n",
    "    # 두개의 self.x와 self.y의 합을 되돌려주는 함수\n",
    "    def add(self):\n",
    "        result = self.x + self.y\n",
    "        return result\n",
    "    # 두개의 self.x와 self.y의 차를 되돌려주는 함수\n",
    "    def subtract(self):\n",
    "        result = self.x - self.y\n",
    "        return result"
   ]
  },
  {
   "cell_type": "code",
   "execution_count": 13,
   "metadata": {},
   "outputs": [],
   "source": [
    "c_class = Calculate(10, 5)      # c_class라는 공간에 x라는 변수를 생성하여 10을 대입하고, y라는 변수에 5라는 데이터를 대입\n",
    "d_class = Calculate(20, 9)"
   ]
  },
  {
   "cell_type": "code",
   "execution_count": 14,
   "metadata": {},
   "outputs": [
    {
     "name": "stdout",
     "output_type": "stream",
     "text": [
      "10\n",
      "20\n"
     ]
    }
   ],
   "source": [
    "print(c_class.x)\n",
    "print(d_class.x)"
   ]
  },
  {
   "cell_type": "code",
   "execution_count": 11,
   "metadata": {},
   "outputs": [
    {
     "data": {
      "text/plain": [
       "15"
      ]
     },
     "execution_count": 11,
     "metadata": {},
     "output_type": "execute_result"
    }
   ],
   "source": [
    "# c_class 안에 있는 add() 함수를 호출\n",
    "# add() : 자기 자신 안에 있는 x와 y를 더해서 결과를 되돌려준다.\n",
    "#           self.x -> 10, self.y -> 5\n",
    "print(c_class.add())"
   ]
  },
  {
   "cell_type": "code",
   "execution_count": 15,
   "metadata": {},
   "outputs": [
    {
     "name": "stdout",
     "output_type": "stream",
     "text": [
      "29\n"
     ]
    }
   ],
   "source": [
    "# d_class 안에 있는 add() 함수를 호출\n",
    "# self.x -> 20, self.y -> 9\n",
    "print(d_class.add())"
   ]
  },
  {
   "cell_type": "code",
   "execution_count": null,
   "metadata": {},
   "outputs": [],
   "source": []
  }
 ],
 "metadata": {
  "kernelspec": {
   "display_name": "Python 3",
   "language": "python",
   "name": "python3"
  },
  "language_info": {
   "codemirror_mode": {
    "name": "ipython",
    "version": 3
   },
   "file_extension": ".py",
   "mimetype": "text/x-python",
   "name": "python",
   "nbconvert_exporter": "python",
   "pygments_lexer": "ipython3",
   "version": "3.12.2"
  }
 },
 "nbformat": 4,
 "nbformat_minor": 2
}
