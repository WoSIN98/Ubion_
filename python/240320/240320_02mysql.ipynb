{
 "cells": [
  {
   "cell_type": "markdown",
   "metadata": {},
   "source": [
    "### mysql과 python 연동        \n",
    "1. mysql과 연동할 수 있는 기능을 가진 라이브러리 설치\n",
    "    - python에서 라이브러리들이 저장되어 있는 공간\n",
    "    - R에서는 CRAN에 저장소가 있다면 python에서는 pip 저장소에 저장되어 있다.\n",
    "    - 라이브러리 설치 명령어 : pip install 라이브러리명\n",
    "    - mysql과 연동하는 라이브러리의 이름 : pymysql\n",
    "    - pip install pymysql \n",
    "2. 라이브러리 로드 \n",
    "    - import 라이브러리명 \n",
    "    - from 라이브러리명 import (Class|function|module)\n",
    "    - as 별칭 -> 별칭을 통해 라이브러리를 간단하게 쓰기 위해\n",
    "3. mysql 서버의 정보를 입력하고 연결 \n",
    "    - DB서버의 주소 : host \n",
    "        - localhost, 127.0.0.1 : 내 컴퓨터 \n",
    "        - 외부의 주소 (ex: 172.168.1.40)\n",
    "    - Port (방화벽 문)\n",
    "        - mysql의 기본포트 : 3306\n",
    "    - user \n",
    "        - mysql에 연결할 때 사용하는 사용자의 이름\n",
    "        - 기본 계정 (root)\n",
    "    - password\n",
    "        - mysql에 연결할 때 사용하는 사용자의 비밀번호\n",
    "    - db\n",
    "        - mysql 서버에서 사용할 Database의 이름\n",
    "\n",
    "4. DB서버와 python공간 사이에 가상 공간을 생성 \n",
    "    - cursor는 가상 공간의 이름 \n",
    "5. sql 쿼리문을 이용하여 cursor에 질의를 보낸다.\n",
    "    - 데이터의 변환 질의 (insert, update, delete)\n",
    "        - 질의 보내기 (execute())\n",
    "        - DB서버의 데이터 변경 (commit())                         # github에서 push\n",
    "        - DB서버와의 연결 종료 (close())\n",
    "    - 데이터의 로드 질의 (selcet)\n",
    "        - 질의 보내기 (execute())\n",
    "        - 질의에 대한 결과물 받아오기 (fetchall())             # fetchall 후 가상공간에서 데이터는 사라진다.\n",
    "        - DB서버와의 연결 종료 (close())                          # 연결종료 순간 가상공간도 없어진다."
   ]
  },
  {
   "cell_type": "code",
   "execution_count": 3,
   "metadata": {},
   "outputs": [
    {
     "name": "stdout",
     "output_type": "stream",
     "text": [
      "Requirement already satisfied: pymysql in c:\\users\\jws\\appdata\\local\\programs\\python\\python312\\lib\\site-packages (1.1.0)\n"
     ]
    }
   ],
   "source": [
    "## 1. 라이브러리 설치 \n",
    "!pip install pymysql"
   ]
  },
  {
   "cell_type": "code",
   "execution_count": 10,
   "metadata": {},
   "outputs": [],
   "source": [
    "## 2. 라이브러리 로드 \n",
    "import pymysql"
   ]
  },
  {
   "cell_type": "code",
   "execution_count": 5,
   "metadata": {},
   "outputs": [
    {
     "name": "stdout",
     "output_type": "stream",
     "text": [
      "Requirement already satisfied: cryptography in c:\\users\\jws\\appdata\\local\\programs\\python\\python312\\lib\\site-packages (42.0.5)\n",
      "Requirement already satisfied: cffi>=1.12 in c:\\users\\jws\\appdata\\local\\programs\\python\\python312\\lib\\site-packages (from cryptography) (1.16.0)\n",
      "Requirement already satisfied: pycparser in c:\\users\\jws\\appdata\\local\\programs\\python\\python312\\lib\\site-packages (from cffi>=1.12->cryptography) (2.21)\n"
     ]
    }
   ],
   "source": [
    "# mysql 연결시 cryptography 에러 발생\n",
    "!pip install cryptography"
   ]
  },
  {
   "cell_type": "code",
   "execution_count": 11,
   "metadata": {},
   "outputs": [],
   "source": [
    "## 3. 서버 정보 입력\n",
    "_db = pymysql.connect(\n",
    "    host = 'localhost',\n",
    "    port = 3306,\n",
    "    user = 'root',\n",
    "    password = '1234',\n",
    "    db = 'ubion'\n",
    ")"
   ]
  },
  {
   "cell_type": "code",
   "execution_count": null,
   "metadata": {},
   "outputs": [],
   "source": []
  },
  {
   "cell_type": "code",
   "execution_count": 49,
   "metadata": {},
   "outputs": [],
   "source": [
    "## 4. cursor 생성 (기본값 설정)\n",
    "cursor = _db.cursor()\n",
    "# cursor2 생성 (옵션변경)\n",
    "cursor2 = _db.cursor(pymysql.cursors.DictCursor)\n",
    "\n",
    "# cursor의 기본 설정대로 생성 시, 데이터 로드하는 과정에서 받아오는 데이터 타입이 2차원 tuple 형태\n",
    "# DictCursor 이용 시, 받아오는 데이터 타입은 list 안에 dict 형태 "
   ]
  },
  {
   "cell_type": "code",
   "execution_count": 14,
   "metadata": {},
   "outputs": [
    {
     "data": {
      "text/plain": [
       "5000"
      ]
     },
     "execution_count": 14,
     "metadata": {},
     "output_type": "execute_result"
    }
   ],
   "source": [
    "## 5. sql 쿼리문 \n",
    "# query문을 작성 -> 문자형 데이터\n",
    "query = \"\"\"\n",
    "    select \n",
    "    *\n",
    "    from\n",
    "    tran_1\n",
    "\"\"\"\n",
    "# execute()를 이용하여 query문을 cursor에게 보낸다.\n",
    "cursor.execute(query)\n",
    "cursor2.execute(query)"
   ]
  },
  {
   "cell_type": "code",
   "execution_count": null,
   "metadata": {},
   "outputs": [],
   "source": [
    "cursor.fetchall()    # 저장해주지 않았으므로 두번 실행 시 ()로 비어있다는 결과가 나온다. fechall() 후 Cursor는 클리어된다."
   ]
  },
  {
   "cell_type": "code",
   "execution_count": null,
   "metadata": {},
   "outputs": [],
   "source": [
    "cursor2.fetchall()"
   ]
  },
  {
   "cell_type": "code",
   "execution_count": 11,
   "metadata": {},
   "outputs": [],
   "source": [
    "# DB 서버와 연결 종료\n",
    "_db.close()"
   ]
  },
  {
   "cell_type": "code",
   "execution_count": 15,
   "metadata": {},
   "outputs": [],
   "source": [
    "# DB서버에 데이터들 수정\n",
    "query = \"\"\"\n",
    "    update\n",
    "    tran_1\n",
    "    set\n",
    "    price = 10000\n",
    "    where \n",
    "    transaction_id = 'T0000000113'\n",
    "\"\"\""
   ]
  },
  {
   "cell_type": "code",
   "execution_count": 19,
   "metadata": {},
   "outputs": [
    {
     "data": {
      "text/plain": [
       "1"
      ]
     },
     "execution_count": 19,
     "metadata": {},
     "output_type": "execute_result"
    }
   ],
   "source": [
    "# 데이터 변환 시 흐름 : execute() -> commit()\n",
    "cursor.execute(query)                               # >1        하나 바뀌었다. 조건이 2개였으면 2라고 떴을 것."
   ]
  },
  {
   "cell_type": "code",
   "execution_count": 22,
   "metadata": {},
   "outputs": [
    {
     "data": {
      "text/plain": [
       "(('T0000000113', 10000, '2019-02-01 01:36:57', 'PL563502'),\n",
       " ('T0000000114', 50000, '2019-02-01 01:37:23', 'HD678019'),\n",
       " ('T0000000115', 120000, '2019-02-01 02:34:19', 'HD298120'),\n",
       " ('T0000000116', 210000, '2019-02-01 02:47:23', 'IK452215'),\n",
       " ('T0000000117', 170000, '2019-02-01 04:33:46', 'PL542865'))"
      ]
     },
     "execution_count": 22,
     "metadata": {},
     "output_type": "execute_result"
    }
   ],
   "source": [
    "select_query = \"\"\"\n",
    "    select * from tran_1 limit 5\n",
    "\"\"\"\n",
    "cursor.execute(select_query)\n",
    "cursor.fetchall()"
   ]
  },
  {
   "cell_type": "code",
   "execution_count": 14,
   "metadata": {},
   "outputs": [],
   "source": [
    "# cursor에서 변경한 내역을 DB 서버에 보낸다. (cursor와 DB를 동기화)\n",
    "_db.commit()"
   ]
  },
  {
   "cell_type": "code",
   "execution_count": 13,
   "metadata": {},
   "outputs": [],
   "source": [
    "### 해당하는 과정을 함수 형태로   --->  이 함수들이 모여 모듈로 만드면 모듈만 불러와서 함수 사용할 수 있다. \n",
    "## select 문을 사용할 때의 함수 생성 \n",
    "def query_select(_sql):\n",
    "    # cursor에 _sql의 질의를 보낸다.\n",
    "    cursor.execute(_sql)\n",
    "    # 결과물을 돌려받는다.\n",
    "    result = cursor.fetchall()\n",
    "    return result"
   ]
  },
  {
   "cell_type": "code",
   "execution_count": 19,
   "metadata": {},
   "outputs": [],
   "source": [
    "select1 = \"\"\"\n",
    "    select * from tran_1 limit 5\n",
    "\"\"\""
   ]
  },
  {
   "cell_type": "code",
   "execution_count": 20,
   "metadata": {},
   "outputs": [
    {
     "data": {
      "text/plain": [
       "(('T0000000113', 10000, '2019-02-01 01:36:57', 'PL563502'),\n",
       " ('T0000000114', 50000, '2019-02-01 01:37:23', 'HD678019'),\n",
       " ('T0000000115', 120000, '2019-02-01 02:34:19', 'HD298120'),\n",
       " ('T0000000116', 210000, '2019-02-01 02:47:23', 'IK452215'),\n",
       " ('T0000000117', 170000, '2019-02-01 04:33:46', 'PL542865'))"
      ]
     },
     "execution_count": 20,
     "metadata": {},
     "output_type": "execute_result"
    }
   ],
   "source": [
    "query_select(select1)"
   ]
  },
  {
   "cell_type": "code",
   "execution_count": 21,
   "metadata": {},
   "outputs": [],
   "source": [
    "## insert, update, delete문을 이용할 때 사용할 함수 생성 (원래 excute와 commit 같은 함수에 들어가면 안된다. 연습이니 그냥 한다.)\n",
    "def cud_query(_sql):\n",
    "    # _sql를 cursor에 excute()\n",
    "    cursor.execute(_sql)\n",
    "    # DB서버와 동기화\n",
    "    _db.commit()\n",
    "    return 'Query Ok'"
   ]
  },
  {
   "cell_type": "code",
   "execution_count": 22,
   "metadata": {},
   "outputs": [],
   "source": [
    "delete1 = \"\"\"\n",
    "    delete \n",
    "    from \n",
    "    tran_1\n",
    "    where\n",
    "    transaction_id = 'T0000000113'\n",
    "\"\"\""
   ]
  },
  {
   "cell_type": "code",
   "execution_count": 24,
   "metadata": {},
   "outputs": [
    {
     "data": {
      "text/plain": [
       "'Query Ok'"
      ]
     },
     "execution_count": 24,
     "metadata": {},
     "output_type": "execute_result"
    }
   ],
   "source": [
    "cud_query(delete1)"
   ]
  },
  {
   "cell_type": "code",
   "execution_count": 35,
   "metadata": {},
   "outputs": [
    {
     "name": "stdout",
     "output_type": "stream",
     "text": [
      "False\n",
      "False\n",
      "False\n"
     ]
    }
   ],
   "source": [
    "query = \"\"\"\n",
    "    Select * from tran_1\n",
    "\"\"\"\n",
    "# query 문자열이 select로 시작하는가?\n",
    "# case1 (문자를 잘라서 확인)\n",
    "print(query.strip()[:6].lower() == 'select')\n",
    "# case2 (공백을 기준으로 문자열을 나눠준다.)\n",
    "print(query.split()[0].lower() == 'select')\n",
    "# case3 (문자의 시작이 특정 단어로 시작하는가?)\n",
    "print(query.lower().strip().startswith('select'))"
   ]
  },
  {
   "cell_type": "code",
   "execution_count": 38,
   "metadata": {},
   "outputs": [],
   "source": [
    "## query_select() 함수와 cud_query() 함수를 결합하여 하나의 함수 생성\n",
    "def sql_query(_sql):\n",
    "    # cursor에 질의를 보낸다.\n",
    "    cursor.execute(_sql)\n",
    "    # _sql에 입력되는 인자의 값이 select문이라면?\n",
    "    if _sql.lower().strip().startswith('select'):\n",
    "        # select문일 때 실행할 코드\n",
    "        result = cursor.fetchall()\n",
    "    else:\n",
    "        # select문이 아닐 때 실행할 코드 \n",
    "        _db.commit()\n",
    "        result = 'Query Ok'\n",
    "    \n",
    "    return result"
   ]
  },
  {
   "cell_type": "code",
   "execution_count": 40,
   "metadata": {},
   "outputs": [
    {
     "data": {
      "text/plain": [
       "(('T0000000114', 50000, '2019-02-01 01:37:23', 'HD678019'),\n",
       " ('T0000000115', 120000, '2019-02-01 02:34:19', 'HD298120'),\n",
       " ('T0000000116', 210000, '2019-02-01 02:47:23', 'IK452215'),\n",
       " ('T0000000117', 170000, '2019-02-01 04:33:46', 'PL542865'),\n",
       " ('T0000000118', 120000, '2019-02-01 04:36:50', 'GD372798'),\n",
       " ('T0000000119', 180000, '2019-02-01 05:25:18', 'IK782104'),\n",
       " ('T0000000120', 50000, '2019-02-01 06:22:39', 'IK624245'),\n",
       " ('T0000000121', 210000, '2019-02-01 06:40:14', 'HD218970'),\n",
       " ('T0000000122', 85000, '2019-02-01 08:10:23', 'AS912483'),\n",
       " ('T0000000123', 50000, '2019-02-01 09:32:27', 'OA336650'))"
      ]
     },
     "execution_count": 40,
     "metadata": {},
     "output_type": "execute_result"
    }
   ],
   "source": [
    "select2 = \"\"\"\n",
    "    SELECT * from tran_1 where price > 20000 limit 10\n",
    "\"\"\"\n",
    "sql_query(select2)"
   ]
  },
  {
   "cell_type": "code",
   "execution_count": 41,
   "metadata": {},
   "outputs": [
    {
     "data": {
      "text/plain": [
       "'Query Ok'"
      ]
     },
     "execution_count": 41,
     "metadata": {},
     "output_type": "execute_result"
    }
   ],
   "source": [
    "delete2 = \"\"\"\n",
    "    delete from tran_1 where transaction_id = 'T0000000115'\n",
    "\"\"\"\n",
    "sql_query(delete2)"
   ]
  },
  {
   "cell_type": "code",
   "execution_count": 52,
   "metadata": {},
   "outputs": [
    {
     "data": {
      "text/plain": [
       "(('T0000000513', 570000, '2019-02-11 10:28:04', 'GD649455'),\n",
       " ('T0000001026', 630000, '2019-02-24 11:58:34', 'AS108195'),\n",
       " ('T0000003754', 675000, '2019-05-08 09:49:08', 'HD096953'),\n",
       " ('T0000003841', 570000, '2019-05-10 21:33:32', 'TS244750'))"
      ]
     },
     "execution_count": 52,
     "metadata": {},
     "output_type": "execute_result"
    }
   ],
   "source": [
    "select3 = \"\"\"\n",
    "    select * from tran_1 where price >= %s and price <= %s\n",
    "\"\"\"\n",
    "\n",
    "#select3 = \"\"\"\n",
    "#    select * from tran_1 where between %s and %s                       # 왜 에러 뜨는 지 확인할 것.\n",
    "# \"\"\"\n",
    "value = [500000, 700000]                            # 튜플로도 가능 \n",
    "cursor.execute(select3,value)\n",
    "cursor.fetchall()\n",
    "\n"
   ]
  },
  {
   "cell_type": "code",
   "execution_count": 53,
   "metadata": {},
   "outputs": [],
   "source": [
    "def sql_query(_sql, *_values):\n",
    "    # cursor에 질의를 보낸다.\n",
    "    cursor.execute(_sql, _values)\n",
    "    # _sql에 입력되는 인자의 값이 select문이라면?\n",
    "    if _sql.lower().strip().startswith('select'):\n",
    "        # select문일 때 실행할 코드\n",
    "        result = cursor.fetchall()\n",
    "    else:\n",
    "        # select문이 아닐 때 실행할 코드 \n",
    "        _db.commit()\n",
    "        result = 'Query Ok'\n",
    "    \n",
    "    return result"
   ]
  },
  {
   "cell_type": "code",
   "execution_count": 54,
   "metadata": {},
   "outputs": [
    {
     "data": {
      "text/plain": [
       "(('T0000000513', 570000, '2019-02-11 10:28:04', 'GD649455'),\n",
       " ('T0000001026', 630000, '2019-02-24 11:58:34', 'AS108195'),\n",
       " ('T0000003754', 675000, '2019-05-08 09:49:08', 'HD096953'),\n",
       " ('T0000003841', 570000, '2019-05-10 21:33:32', 'TS244750'))"
      ]
     },
     "execution_count": 54,
     "metadata": {},
     "output_type": "execute_result"
    }
   ],
   "source": [
    "sql_query(select3,500000,700000)"
   ]
  },
  {
   "cell_type": "code",
   "execution_count": 55,
   "metadata": {},
   "outputs": [
    {
     "data": {
      "text/plain": [
       "(('T0000000114', 50000, '2019-02-01 01:37:23', 'HD678019'),\n",
       " ('T0000000116', 210000, '2019-02-01 02:47:23', 'IK452215'),\n",
       " ('T0000000117', 170000, '2019-02-01 04:33:46', 'PL542865'))"
      ]
     },
     "execution_count": 55,
     "metadata": {},
     "output_type": "execute_result"
    }
   ],
   "source": [
    "select4 = \"\"\"\n",
    "    select * from tran_1 limit 3\n",
    "\"\"\"\n",
    "sql_query(select4)                             # values 값 없는 쿼리문도 돌아간다. (values값 넣어주지 않아도 돌아간다.)"
   ]
  },
  {
   "cell_type": "code",
   "execution_count": null,
   "metadata": {},
   "outputs": [],
   "source": []
  },
  {
   "cell_type": "code",
   "execution_count": null,
   "metadata": {},
   "outputs": [],
   "source": []
  },
  {
   "cell_type": "code",
   "execution_count": 93,
   "metadata": {},
   "outputs": [],
   "source": [
    "## mysql server와의 연동을 하는 class 선언                     # 녹음 16:46\n",
    "class MyDB :\n",
    "    # 생성자 함수  (DB서버의 정보를 입력)\n",
    "    def __init__(\n",
    "            self,\n",
    "            _host = 'localhost',\n",
    "            _port = 3306,\n",
    "            _user = 'root',\n",
    "            _pw = '1234',\n",
    "            _db = 'ubion'                              # 기본값 입력. 아무것도 넣지 않으면 내 컴퓨터 DB 접속\n",
    "    ):\n",
    "        self.host = _host\n",
    "        self.port = _port\n",
    "        self.user = _user\n",
    "        self.pw = _pw\n",
    "        self.db = _db\n",
    "    \n",
    "    def sql_query(self, _sql, *_values):\n",
    "        # DB 서버와의 연결\n",
    "        mydb = pymysql.connect(\n",
    "            host = self.host,\n",
    "            port = self.port,\n",
    "            user = self.user,\n",
    "            password = self.pw,\n",
    "            db = self.db\n",
    "        )\n",
    "        # cursor 생성\n",
    "        cursor = mydb.cursor(pymysql.cursors.DictCursor)\n",
    "        # _sql, _values를 이용하여 cursor에 질의를 던진다.\n",
    "        cursor.execute(_sql, _values)\n",
    "        # _sql이 select문인가 확인 \n",
    "        if _sql.lower().strip().startswith('select'):\n",
    "            result = cursor.fetchall()\n",
    "        else:\n",
    "            mydb.commit()\n",
    "            result = 'Query OK'\n",
    "        # DB 서버와의 연결 종료\n",
    "        mydb.close()\n",
    "        # 결과값을 되돌려준다.\n",
    "        return result"
   ]
  },
  {
   "cell_type": "code",
   "execution_count": 94,
   "metadata": {},
   "outputs": [],
   "source": [
    "# MyDB Class 생성\n",
    "db1 = MyDB()"
   ]
  },
  {
   "cell_type": "code",
   "execution_count": 96,
   "metadata": {},
   "outputs": [
    {
     "data": {
      "text/plain": [
       "[{'transaction_id': 'T0000000114',\n",
       "  'price': 50000,\n",
       "  'payment_date': '2019-02-01 01:37:23',\n",
       "  'customer_id': 'HD678019'},\n",
       " {'transaction_id': 'T0000000116',\n",
       "  'price': 210000,\n",
       "  'payment_date': '2019-02-01 02:47:23',\n",
       "  'customer_id': 'IK452215'},\n",
       " {'transaction_id': 'T0000000117',\n",
       "  'price': 170000,\n",
       "  'payment_date': '2019-02-01 04:33:46',\n",
       "  'customer_id': 'PL542865'}]"
      ]
     },
     "execution_count": 96,
     "metadata": {},
     "output_type": "execute_result"
    }
   ],
   "source": [
    "# db1 : 서버의 정보가 내 컴퓨터 \n",
    "select1 = \"\"\"\n",
    "    select * from tran_1 limit %s\n",
    "\"\"\"\n",
    "db1.sql_query(select1, 3)"
   ]
  },
  {
   "cell_type": "code",
   "execution_count": 98,
   "metadata": {},
   "outputs": [],
   "source": [
    "## 외부의 컴퓨터 접속 \n",
    "db2 = MyDB(\n",
    "    _host = '172.30.1.55',\n",
    "    _port = 3306,\n",
    "    _user = 'ubion',\n",
    "    _pw = '1234',\n",
    "    _db = 'ubion'\n",
    ")"
   ]
  },
  {
   "cell_type": "code",
   "execution_count": 106,
   "metadata": {},
   "outputs": [
    {
     "data": {
      "text/plain": [
       "()"
      ]
     },
     "execution_count": 106,
     "metadata": {},
     "output_type": "execute_result"
    }
   ],
   "source": [
    "select1 = \"\"\"\n",
    "    select * from corona limit 5\n",
    "\"\"\"\n",
    "db2.sql_query(select1)\n",
    "\n",
    "delete1 = \"\"\"\n",
    "    delete from corona \n",
    "\"\"\"\n",
    "db2.sql_query(delete1)"
   ]
  },
  {
   "cell_type": "code",
   "execution_count": 102,
   "metadata": {},
   "outputs": [],
   "source": [
    "db3 = MyDB(\n",
    "    _host = 'moons-86.iptime.org',\n",
    "    _port = 3306,\n",
    "    _user = 'ubion',\n",
    "    _pw = '1234',\n",
    "    _db = 'ubion'\n",
    ")"
   ]
  },
  {
   "cell_type": "code",
   "execution_count": 107,
   "metadata": {},
   "outputs": [
    {
     "data": {
      "text/plain": [
       "[{'id': 'kys', 'password': '1234', 'name': 'kim', 'loc': 'seuol'},\n",
       " {'id': 'team', 'password': '1234', 'name': 'kim', 'loc': 'seoul'},\n",
       " {'id': 'team2', 'password': '1234', 'name': 'kim', 'loc': 'seoul'},\n",
       " {'id': 'test11', 'password': '0111', 'name': 'kim', 'loc': 'seoul'},\n",
       " {'id': 'test22', 'password': '0111', 'name': 'kim', 'loc': 'seoul'}]"
      ]
     },
     "execution_count": 107,
     "metadata": {},
     "output_type": "execute_result"
    }
   ],
   "source": [
    "select2 = \"\"\"\n",
    "    select * from user where name = 'kim'\n",
    "\"\"\"\n",
    "db3.sql_query(select2)"
   ]
  },
  {
   "cell_type": "code",
   "execution_count": null,
   "metadata": {},
   "outputs": [],
   "source": []
  }
 ],
 "metadata": {
  "kernelspec": {
   "display_name": "Python 3",
   "language": "python",
   "name": "python3"
  },
  "language_info": {
   "codemirror_mode": {
    "name": "ipython",
    "version": 3
   },
   "file_extension": ".py",
   "mimetype": "text/x-python",
   "name": "python",
   "nbconvert_exporter": "python",
   "pygments_lexer": "ipython3",
   "version": "3.12.2"
  }
 },
 "nbformat": 4,
 "nbformat_minor": 2
}
