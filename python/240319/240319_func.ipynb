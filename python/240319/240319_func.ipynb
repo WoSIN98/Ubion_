{
 "cells": [
  {
   "cell_type": "code",
   "execution_count": 5,
   "metadata": {},
   "outputs": [],
   "source": [
    "## 함수 생성\n",
    "## 매개변수가 존재하지 않는 함수\n",
    "# return 써야하는 이유. print는 결과값을 보여줄 뿐 그 값으로 무언가의 행동을 할 수 없다. \n",
    "def func_1():\n",
    "    return 'Hello'              # return은 괄호 안쓴다.\n",
    "\n",
    "def func_2():\n",
    "    print('Hello')               "
   ]
  },
  {
   "cell_type": "code",
   "execution_count": 3,
   "metadata": {},
   "outputs": [
    {
     "data": {
      "text/plain": [
       "'Hello'"
      ]
     },
     "execution_count": 3,
     "metadata": {},
     "output_type": "execute_result"
    }
   ],
   "source": [
    "func_1()           # 원래 print(func_1()) 적어줘야한다. print 안적었기에 Hello 가 아닌 'Hello'로 나온것. 240318_func에서 strip()함수 참조."
   ]
  },
  {
   "cell_type": "code",
   "execution_count": 6,
   "metadata": {},
   "outputs": [
    {
     "name": "stdout",
     "output_type": "stream",
     "text": [
      "Hello\n"
     ]
    }
   ],
   "source": [
    "func_2()"
   ]
  },
  {
   "cell_type": "code",
   "execution_count": 9,
   "metadata": {},
   "outputs": [],
   "source": [
    "a = func_1()"
   ]
  },
  {
   "cell_type": "code",
   "execution_count": 10,
   "metadata": {},
   "outputs": [
    {
     "name": "stdout",
     "output_type": "stream",
     "text": [
      "Hello\n"
     ]
    }
   ],
   "source": [
    "b = func_2()"
   ]
  },
  {
   "cell_type": "code",
   "execution_count": 13,
   "metadata": {},
   "outputs": [
    {
     "name": "stdout",
     "output_type": "stream",
     "text": [
      "Hello\n",
      "None\n"
     ]
    }
   ],
   "source": [
    "print(a)\n",
    "# func_2() return 존재하지 않기때문에 비어있다.\n",
    "print(b)              # b는 func에서 print를 사용하였기 때문에 result값으로 무언가를 할 수 없다. "
   ]
  },
  {
   "cell_type": "code",
   "execution_count": 14,
   "metadata": {},
   "outputs": [],
   "source": [
    "## 변수 생성 \n",
    "# 변수명1, 변수명2 = data1, data2 (아래와 같은 의미)\n",
    "# 변수명1 = data1 \n",
    "# 변수명2 = data2  \n",
    "def func_3():\n",
    "    a = 'Hello'\n",
    "    b = 'world'\n",
    "    return a, b"
   ]
  },
  {
   "cell_type": "code",
   "execution_count": 19,
   "metadata": {},
   "outputs": [
    {
     "name": "stdout",
     "output_type": "stream",
     "text": [
      "('Hello', 'world')\n",
      "Hello\n",
      "world\n"
     ]
    }
   ],
   "source": [
    "res1 = func_3()\n",
    "print(res1)                # res1은 튜플형태\n",
    "print(res1[0])\n",
    "print(res1[1])\n",
    "res_a = res1[0]              # 결과값이 두 개이므로 따로 따로 변수에 담아준다. \n",
    "res_b = res1[1]"
   ]
  },
  {
   "cell_type": "code",
   "execution_count": 20,
   "metadata": {},
   "outputs": [
    {
     "name": "stdout",
     "output_type": "stream",
     "text": [
      "Hello\n",
      "world\n"
     ]
    }
   ],
   "source": [
    "result_a, result_b = func_3()           # 그러나 애초에 이런 형태로 하면 과정 줄일 수 있다. \n",
    "print(result_a)\n",
    "print(result_b)"
   ]
  },
  {
   "cell_type": "code",
   "execution_count": 29,
   "metadata": {},
   "outputs": [],
   "source": [
    "## 매개변수가 존재하는 함수를 생성\n",
    "def func_4(x, y):\n",
    "    result = x + y\n",
    "    return result"
   ]
  },
  {
   "cell_type": "code",
   "execution_count": 30,
   "metadata": {},
   "outputs": [
    {
     "name": "stdout",
     "output_type": "stream",
     "text": [
      "8\n"
     ]
    }
   ],
   "source": [
    "print(func_4(5,3))"
   ]
  },
  {
   "cell_type": "code",
   "execution_count": null,
   "metadata": {},
   "outputs": [],
   "source": [
    "# 함수 호출 시 매개변수의 개수와 인자의 개수가 다르다면?\n",
    "print(func_4(1))                    # 에러 발생 : 너 y 안넣었는데?\n",
    "print(func_4(1,2,3))                # 에러 발생 : 너 매개변수보다 많이 넣었는데?"
   ]
  },
  {
   "cell_type": "code",
   "execution_count": 34,
   "metadata": {},
   "outputs": [
    {
     "name": "stdout",
     "output_type": "stream",
     "text": [
      "1\t2\n",
      "Help on built-in function print in module builtins:\n",
      "\n",
      "print(*args, sep=' ', end='\\n', file=None, flush=False)\n",
      "    Prints the values to a stream, or to sys.stdout by default.\n",
      "\n",
      "    sep\n",
      "      string inserted between values, default a space.\n",
      "    end\n",
      "      string appended after the last value, default a newline.\n",
      "    file\n",
      "      a file-like object (stream); defaults to the current sys.stdout.\n",
      "    flush\n",
      "      whether to forcibly flush the stream.\n",
      "\n"
     ]
    }
   ],
   "source": [
    "# print함수 매개변수\n",
    "print(1, end = '\\t')         # 줄바꾸는 게 아니라 tab만큼 이동. 다음 print가 붙어서 출력. end의 기본값은 \\n이다. \n",
    "print(2)\n",
    "help(print)                  "
   ]
  },
  {
   "cell_type": "code",
   "execution_count": 35,
   "metadata": {},
   "outputs": [],
   "source": [
    "# 기본값이 존재하는 함수를 생성\n",
    "def func_5(x, y=5):\n",
    "    result = x + y \n",
    "    return result "
   ]
  },
  {
   "cell_type": "code",
   "execution_count": 37,
   "metadata": {},
   "outputs": [
    {
     "name": "stdout",
     "output_type": "stream",
     "text": [
      "15\n",
      "13\n"
     ]
    }
   ],
   "source": [
    "print(func_5(10))    # x = 10, y = 기본값(5),  result = 10 + 5, return = 15\n",
    "print(func_5(10,3))  # x = 10, y = 3, result = 10 + 3, return = 13"
   ]
  },
  {
   "cell_type": "code",
   "execution_count": 38,
   "metadata": {},
   "outputs": [],
   "source": [
    "## 인자의 개수가 가변인 함수 생성 \n",
    "def func_6(*args):\n",
    "    print(args)\n",
    "    print(type(args))    \n",
    "\n",
    "# def func_1(*args)\n",
    "# args 라는 공간을 만들어 놓고 *는 그 공간을 자유롭게 변경할 수 있다는 의미.\n",
    "# args 앞에 붙는 * 가 여러 개의 인자를 묶어서 하나의 튜플로 묶어주고 \n",
    "# 이를 args 에 할당한다라고 생각하면 되겠다.      "
   ]
  },
  {
   "cell_type": "code",
   "execution_count": 39,
   "metadata": {},
   "outputs": [
    {
     "name": "stdout",
     "output_type": "stream",
     "text": [
      "(1, 2, 3, 4, 5)\n",
      "<class 'tuple'>\n"
     ]
    }
   ],
   "source": [
    "func_6(1, 2, 3, 4, 5)              # 타입은 튜플. "
   ]
  },
  {
   "cell_type": "code",
   "execution_count": null,
   "metadata": {},
   "outputs": [],
   "source": [
    "# 1부터 5까지의 합\n",
    "res = 0\n",
    "for i in range(1,6):\n",
    "    res += i \n",
    "print(res)\n"
   ]
  },
  {
   "cell_type": "code",
   "execution_count": 43,
   "metadata": {},
   "outputs": [
    {
     "name": "stdout",
     "output_type": "stream",
     "text": [
      "15\n",
      "15\n",
      "15\n"
     ]
    }
   ],
   "source": [
    "# 튜플의 합계\n",
    "_tuple = (1, 2, 3, 4, 5)\n",
    "res = 0 \n",
    "\n",
    "res = res + _tuple[0]\n",
    "res = res + _tuple[1]\n",
    "res = res + _tuple[2]\n",
    "res = res + _tuple[3]\n",
    "res = res + _tuple[4]\n",
    "print(res)\n",
    "\n",
    "res = 0\n",
    "for i in range(len(_tuple)):\n",
    "    res += _tuple[i]\n",
    "print(res)\n",
    "\n",
    "res = 0 \n",
    "for i in _tuple:\n",
    "    res += i\n",
    "print(res)"
   ]
  },
  {
   "cell_type": "code",
   "execution_count": 48,
   "metadata": {},
   "outputs": [],
   "source": [
    "def func_7(*args):\n",
    "    resu = 0             # resu 라는 변수를 생성해줘야 넣을 수 있겠지. 생각하자. # for 문 안에 넣으면 매번 resu를 0으로 초기화 해버린다. 마지막 인자값만 더해진다.\n",
    "    for i in args:\n",
    "        resu += i\n",
    "    return resu             "
   ]
  },
  {
   "cell_type": "code",
   "execution_count": 49,
   "metadata": {},
   "outputs": [
    {
     "data": {
      "text/plain": [
       "15"
      ]
     },
     "execution_count": 49,
     "metadata": {},
     "output_type": "execute_result"
    }
   ],
   "source": [
    "func_7(1,2,3,4,5)"
   ]
  },
  {
   "cell_type": "code",
   "execution_count": 2,
   "metadata": {},
   "outputs": [],
   "source": [
    "# 모든 인자 값들을 누적합 하여 되돌려주는 함수 \n",
    "def func_6(*args):\n",
    "    result = 0\n",
    "    # args가 튜플 형태의 데이터임으로 각 원소의 값들을 하나씩 출력하여 result에 더해준다.\n",
    "    for i in args:\n",
    "        #print(i)                # i는 어떤 데이터가 들어오나? : 튜플 안에 있는 인자값\n",
    "        result += i \n",
    "    return result                # return은 함수종료를 의미 그러므로 for안으로 들여쓰기하면 첫번째 인자값만 더하고 끝난다."
   ]
  },
  {
   "cell_type": "code",
   "execution_count": 3,
   "metadata": {},
   "outputs": [
    {
     "data": {
      "text/plain": [
       "12"
      ]
     },
     "execution_count": 3,
     "metadata": {},
     "output_type": "execute_result"
    }
   ],
   "source": [
    "func_6(3,4,5)"
   ]
  },
  {
   "cell_type": "code",
   "execution_count": null,
   "metadata": {},
   "outputs": [],
   "source": [
    "github Test1"
   ]
  }
 ],
 "metadata": {
  "kernelspec": {
   "display_name": "Python 3",
   "language": "python",
   "name": "python3"
  },
  "language_info": {
   "codemirror_mode": {
    "name": "ipython",
    "version": 3
   },
   "file_extension": ".py",
   "mimetype": "text/x-python",
   "name": "python",
   "nbconvert_exporter": "python",
   "pygments_lexer": "ipython3",
   "version": "3.12.2"
  }
 },
 "nbformat": 4,
 "nbformat_minor": 2
}
