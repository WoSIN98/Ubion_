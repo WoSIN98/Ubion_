{
 "cells": [
  {
   "cell_type": "code",
   "execution_count": 5,
   "metadata": {},
   "outputs": [],
   "source": [
    "## 함수 생성\n",
    "## 매개변수가 존재하지 않는 함수\n",
    "# return 써야하는 이유. print는 결과값을 보여줄 뿐 그 값으로 무언가의 행동을 할 수 없다. \n",
    "def func_1():\n",
    "    return 'Hello'              # return은 괄호 안쓴다.\n",
    "\n",
    "def func_2():\n",
    "    print('Hello')               "
   ]
  },
  {
   "cell_type": "code",
   "execution_count": 3,
   "metadata": {},
   "outputs": [
    {
     "data": {
      "text/plain": [
       "'Hello'"
      ]
     },
     "execution_count": 3,
     "metadata": {},
     "output_type": "execute_result"
    }
   ],
   "source": [
    "func_1()           # 원래 print(func_1()) 적어줘야한다. print 안적었기에 Hello 가 아닌 'Hello'로 나온것. 240318_func에서 strip()함수 참조."
   ]
  },
  {
   "cell_type": "code",
   "execution_count": 6,
   "metadata": {},
   "outputs": [
    {
     "name": "stdout",
     "output_type": "stream",
     "text": [
      "Hello\n"
     ]
    }
   ],
   "source": [
    "func_2()"
   ]
  },
  {
   "cell_type": "code",
   "execution_count": 9,
   "metadata": {},
   "outputs": [],
   "source": [
    "a = func_1()"
   ]
  },
  {
   "cell_type": "code",
   "execution_count": 10,
   "metadata": {},
   "outputs": [
    {
     "name": "stdout",
     "output_type": "stream",
     "text": [
      "Hello\n"
     ]
    }
   ],
   "source": [
    "b = func_2()"
   ]
  },
  {
   "cell_type": "code",
   "execution_count": 13,
   "metadata": {},
   "outputs": [
    {
     "name": "stdout",
     "output_type": "stream",
     "text": [
      "Hello\n",
      "None\n"
     ]
    }
   ],
   "source": [
    "print(a)\n",
    "# func_2() return 존재하지 않기때문에 비어있다.\n",
    "print(b)              # b는 func에서 print를 사용하였기 때문에 result값으로 무언가를 할 수 없다. "
   ]
  },
  {
   "cell_type": "code",
   "execution_count": 14,
   "metadata": {},
   "outputs": [],
   "source": [
    "## 변수 생성 \n",
    "# 변수명1, 변수명2 = data1, data2 (아래와 같은 의미)\n",
    "# 변수명1 = data1 \n",
    "# 변수명2 = data2  \n",
    "def func_3():\n",
    "    a = 'Hello'\n",
    "    b = 'world'\n",
    "    return a, b"
   ]
  },
  {
   "cell_type": "code",
   "execution_count": 19,
   "metadata": {},
   "outputs": [
    {
     "name": "stdout",
     "output_type": "stream",
     "text": [
      "('Hello', 'world')\n",
      "Hello\n",
      "world\n"
     ]
    }
   ],
   "source": [
    "res1 = func_3()\n",
    "print(res1)                # res1은 튜플형태\n",
    "print(res1[0])\n",
    "print(res1[1])\n",
    "res_a = res1[0]              # 결과값이 두 개이므로 따로 따로 변수에 담아준다. \n",
    "res_b = res1[1]"
   ]
  },
  {
   "cell_type": "code",
   "execution_count": 20,
   "metadata": {},
   "outputs": [
    {
     "name": "stdout",
     "output_type": "stream",
     "text": [
      "Hello\n",
      "world\n"
     ]
    }
   ],
   "source": [
    "result_a, result_b = func_3()           # 그러나 애초에 이런 형태로 하면 과정 줄일 수 있다. \n",
    "print(result_a)\n",
    "print(result_b)"
   ]
  },
  {
   "cell_type": "code",
   "execution_count": 29,
   "metadata": {},
   "outputs": [],
   "source": [
    "## 매개변수가 존재하는 함수를 생성\n",
    "def func_4(x, y):\n",
    "    result = x + y\n",
    "    return result"
   ]
  },
  {
   "cell_type": "code",
   "execution_count": 30,
   "metadata": {},
   "outputs": [
    {
     "name": "stdout",
     "output_type": "stream",
     "text": [
      "8\n"
     ]
    }
   ],
   "source": [
    "print(func_4(5,3))"
   ]
  },
  {
   "cell_type": "code",
   "execution_count": null,
   "metadata": {},
   "outputs": [],
   "source": [
    "# 함수 호출 시 매개변수의 개수와 인자의 개수가 다르다면?\n",
    "print(func_4(1))                    # 에러 발생 : 너 y 안넣었는데?\n",
    "print(func_4(1,2,3))                # 에러 발생 : 너 매개변수보다 많이 넣었는데?"
   ]
  },
  {
   "cell_type": "code",
   "execution_count": 34,
   "metadata": {},
   "outputs": [
    {
     "name": "stdout",
     "output_type": "stream",
     "text": [
      "1\t2\n",
      "Help on built-in function print in module builtins:\n",
      "\n",
      "print(*args, sep=' ', end='\\n', file=None, flush=False)\n",
      "    Prints the values to a stream, or to sys.stdout by default.\n",
      "\n",
      "    sep\n",
      "      string inserted between values, default a space.\n",
      "    end\n",
      "      string appended after the last value, default a newline.\n",
      "    file\n",
      "      a file-like object (stream); defaults to the current sys.stdout.\n",
      "    flush\n",
      "      whether to forcibly flush the stream.\n",
      "\n"
     ]
    }
   ],
   "source": [
    "# print함수 매개변수\n",
    "print(1, end = '\\t')         # 줄바꾸는 게 아니라 tab만큼 이동. 다음 print가 붙어서 출력. end의 기본값은 \\n이다. \n",
    "print(2)\n",
    "help(print)                  "
   ]
  },
  {
   "cell_type": "code",
   "execution_count": 35,
   "metadata": {},
   "outputs": [],
   "source": [
    "# 기본값이 존재하는 함수를 생성\n",
    "def func_5(x, y=5):\n",
    "    result = x + y \n",
    "    return result "
   ]
  },
  {
   "cell_type": "code",
   "execution_count": 37,
   "metadata": {},
   "outputs": [
    {
     "name": "stdout",
     "output_type": "stream",
     "text": [
      "15\n",
      "13\n"
     ]
    }
   ],
   "source": [
    "print(func_5(10))    # x = 10, y = 기본값(5),  result = 10 + 5, return = 15\n",
    "print(func_5(10,3))  # x = 10, y = 3, result = 10 + 3, return = 13"
   ]
  },
  {
   "cell_type": "code",
   "execution_count": 38,
   "metadata": {},
   "outputs": [],
   "source": [
    "## 인자의 개수가 가변인 함수 생성 \n",
    "def func_6(*args):\n",
    "    print(args)\n",
    "    print(type(args))    \n",
    "\n",
    "# def func_1(*args)\n",
    "# args 라는 공간을 만들어 놓고 *는 그 공간을 자유롭게 변경할 수 있다는 의미.\n",
    "# args 앞에 붙는 * 가 여러 개의 인자를 묶어서 하나의 튜플로 묶어주고 \n",
    "# 이를 args 에 할당한다라고 생각하면 되겠다.      "
   ]
  },
  {
   "cell_type": "code",
   "execution_count": 39,
   "metadata": {},
   "outputs": [
    {
     "name": "stdout",
     "output_type": "stream",
     "text": [
      "(1, 2, 3, 4, 5)\n",
      "<class 'tuple'>\n"
     ]
    }
   ],
   "source": [
    "func_6(1, 2, 3, 4, 5)              # 타입은 튜플. "
   ]
  },
  {
   "cell_type": "code",
   "execution_count": 1,
   "metadata": {},
   "outputs": [
    {
     "name": "stdout",
     "output_type": "stream",
     "text": [
      "15\n"
     ]
    }
   ],
   "source": [
    "# 1부터 5까지의 합\n",
    "res = 0\n",
    "for i in range(1,6):\n",
    "    res += i \n",
    "print(res)"
   ]
  },
  {
   "cell_type": "code",
   "execution_count": 43,
   "metadata": {},
   "outputs": [
    {
     "name": "stdout",
     "output_type": "stream",
     "text": [
      "15\n",
      "15\n",
      "15\n"
     ]
    }
   ],
   "source": [
    "# 튜플의 합계\n",
    "_tuple = (1, 2, 3, 4, 5)\n",
    "res = 0 \n",
    "\n",
    "res = res + _tuple[0]\n",
    "res = res + _tuple[1]\n",
    "res = res + _tuple[2]\n",
    "res = res + _tuple[3]\n",
    "res = res + _tuple[4]\n",
    "print(res)\n",
    "\n",
    "res = 0\n",
    "for i in range(len(_tuple)):\n",
    "    res += _tuple[i]\n",
    "print(res)\n",
    "\n",
    "res = 0 \n",
    "for i in _tuple:\n",
    "    res += i\n",
    "print(res)"
   ]
  },
  {
   "cell_type": "code",
   "execution_count": 48,
   "metadata": {},
   "outputs": [],
   "source": [
    "def func_7(*args):\n",
    "    resu = 0             # resu 라는 변수를 생성해줘야 넣을 수 있겠지. 생각하자. # for 문 안에 넣으면 매번 resu를 0으로 초기화 해버린다. 마지막 인자값만 더해진다.\n",
    "    for i in args:\n",
    "        resu += i\n",
    "    return resu             "
   ]
  },
  {
   "cell_type": "code",
   "execution_count": 49,
   "metadata": {},
   "outputs": [
    {
     "data": {
      "text/plain": [
       "15"
      ]
     },
     "execution_count": 49,
     "metadata": {},
     "output_type": "execute_result"
    }
   ],
   "source": [
    "func_7(1,2,3,4,5)"
   ]
  },
  {
   "cell_type": "code",
   "execution_count": 2,
   "metadata": {},
   "outputs": [],
   "source": [
    "# 모든 인자 값들을 누적합 하여 되돌려주는 함수 \n",
    "def func_6(*args):\n",
    "    result = 0\n",
    "    # args가 튜플 형태의 데이터임으로 각 원소의 값들을 하나씩 출력하여 result에 더해준다.\n",
    "    for i in args:\n",
    "        #print(i)                # i는 어떤 데이터가 들어오나? : 튜플 안에 있는 인자값\n",
    "        result += i \n",
    "    return result                # return은 함수종료를 의미 그러므로 for안으로 들여쓰기하면 첫번째 인자값만 더하고 끝난다."
   ]
  },
  {
   "cell_type": "code",
   "execution_count": 3,
   "metadata": {},
   "outputs": [
    {
     "data": {
      "text/plain": [
       "12"
      ]
     },
     "execution_count": 3,
     "metadata": {},
     "output_type": "execute_result"
    }
   ],
   "source": [
    "func_6(3,4,5)"
   ]
  },
  {
   "cell_type": "code",
   "execution_count": 2,
   "metadata": {},
   "outputs": [],
   "source": [
    "def func_7(data, *args):\n",
    "    print(data)\n",
    "    print(args)"
   ]
  },
  {
   "cell_type": "code",
   "execution_count": 3,
   "metadata": {},
   "outputs": [
    {
     "name": "stdout",
     "output_type": "stream",
     "text": [
      "t\n",
      "()\n"
     ]
    }
   ],
   "source": [
    "func_7('t')            # 원래 매개변수가 2개 인자가 1개이면 에러가 뜨나, *args는 인자값이 가변(0도 포함)인 걸 수용하기에 \n",
    "                       # data에는 t가, args에는 비어있는 튜플이 들어간다. "
   ]
  },
  {
   "cell_type": "code",
   "execution_count": 4,
   "metadata": {},
   "outputs": [
    {
     "name": "stdout",
     "output_type": "stream",
     "text": [
      "t\n",
      "(1, 3, 5)\n"
     ]
    }
   ],
   "source": [
    "func_7('t', 1,3,5)"
   ]
  },
  {
   "cell_type": "code",
   "execution_count": 5,
   "metadata": {},
   "outputs": [
    {
     "data": {
      "text/plain": [
       "19"
      ]
     },
     "execution_count": 5,
     "metadata": {},
     "output_type": "execute_result"
    }
   ],
   "source": [
    "sum([1,2,7,9])"
   ]
  },
  {
   "cell_type": "code",
   "execution_count": 8,
   "metadata": {},
   "outputs": [],
   "source": [
    "## 데이터들의 평균을 구하는 함수     (sum,len 안쓰고)\n",
    "# 함수의 매개변수는 인자의 개수가 가변인 상태로 생성\n",
    "# 평균 : 인자들의 총합 / 인자들의 개수 \n",
    "def mean(*_ags):\n",
    "    sum_val = 0\n",
    "    cnt = 0                  # 인자의 개수를 구하기 위한 변수. \n",
    "    for val in _ags:         # val에 대입 되는 데이터 : 인자\n",
    "         sum_val += val      # 인자들의 총합 구하기\n",
    "         cnt += 1            # 인자들의 개수 구하기\n",
    "    result = sum_val / cnt\n",
    "    return result"
   ]
  },
  {
   "cell_type": "code",
   "execution_count": 10,
   "metadata": {},
   "outputs": [
    {
     "data": {
      "text/plain": [
       "30.0"
      ]
     },
     "execution_count": 10,
     "metadata": {},
     "output_type": "execute_result"
    }
   ],
   "source": [
    "mean(10,20,30,40,50)         # 나누기 연산이 들어가 30.0 float 형태로 나온다. "
   ]
  },
  {
   "cell_type": "code",
   "execution_count": 1,
   "metadata": {},
   "outputs": [],
   "source": [
    "## 외부의 함수를 호출 \n",
    "# 자주 쓰는(만든) 함수를 다른 file에서도 쓸 수 있게 모듈화 \n",
    "import mod      # 한 번 불러오면 모드가 수정된다하여 새로이 mod불러오지 않는다. 이미 불러온 것으로 치부. "
   ]
  },
  {
   "cell_type": "code",
   "execution_count": 3,
   "metadata": {},
   "outputs": [
    {
     "data": {
      "text/plain": [
       "6.333333333333333"
      ]
     },
     "execution_count": 3,
     "metadata": {},
     "output_type": "execute_result"
    }
   ],
   "source": [
    "mod.mean(7, 3, 9)"
   ]
  },
  {
   "cell_type": "code",
   "execution_count": 36,
   "metadata": {},
   "outputs": [
    {
     "data": {
      "text/plain": [
       "<module 'mod' from 'c:\\\\Users\\\\Jws\\\\Documents\\\\ubion\\\\python\\\\240319\\\\mod.py'>"
      ]
     },
     "execution_count": 36,
     "metadata": {},
     "output_type": "execute_result"
    }
   ],
   "source": [
    "# 모듈을 reload하는 방법     # 덮어쓰는 방식\n",
    "import importlib \n",
    "importlib.reload(mod)"
   ]
  },
  {
   "cell_type": "code",
   "execution_count": 4,
   "metadata": {},
   "outputs": [],
   "source": [
    "## 인자들 중에 가장 작은 값을 출력하는 함수   (min()쓰지 않고)\n",
    "# 함수에 인자의 개수는 가변의 형태로 생성 \n",
    "    # ags의 첫번째 데이터와 두번째 데이터를 비교        ags[0] < ags[1]\n",
    "    # 작은 값을 저장                                  res = ags[0]\n",
    "\n",
    "    "
   ]
  },
  {
   "cell_type": "code",
   "execution_count": 57,
   "metadata": {},
   "outputs": [],
   "source": [
    "def c_min(*ags):\n",
    "    res = ags[0]\n",
    "    for i in range(1, len(ags),1):\n",
    "        if res > ags[i]:\n",
    "            res = ags[i]\n",
    "    return res                                       # 요상태면 ags는 튜플형태      \n"
   ]
  },
  {
   "cell_type": "code",
   "execution_count": null,
   "metadata": {},
   "outputs": [],
   "source": [
    "c_min(8, 6, 9, 3, 10)\n",
    "# ags --> (8, 6, 9, 3, 10)\n",
    "# res = ags[0] ---> res = 8\n",
    "# for i in ragne(1, 5, 1):\n",
    "# if res > ags[1]:             8 > 6 \n",
    "# ...."
   ]
  },
  {
   "cell_type": "code",
   "execution_count": 42,
   "metadata": {},
   "outputs": [],
   "source": [
    "## list 데이터에서 정렬을 오름차순으로 변경해주는 함수 sort()를 직접 만들어보자.   # 녹음 12:28"
   ]
  },
  {
   "cell_type": "code",
   "execution_count": 41,
   "metadata": {},
   "outputs": [],
   "source": [
    "# c_min() 수정. *ags 는 튜플 형태로 받기 때문에, 수정하지 않으면 \n",
    "# 아래 박스 min_ags = c_min(ags)에서 cmin(ags) = c_min((1,2,3_))으로 튜플 안에 튜플이 된다.\n",
    "\n",
    "def c_min(ags):\n",
    "    res = ags[0]\n",
    "    for i in range(1, len(ags),1):\n",
    "        if res > ags[i]:\n",
    "            res = ags[i]\n",
    "    return res      "
   ]
  },
  {
   "cell_type": "code",
   "execution_count": 48,
   "metadata": {},
   "outputs": [],
   "source": [
    "# 조금 더 복잡하게 break 문\n",
    "def c_sort(*ags):\n",
    "    result = []\n",
    "    \n",
    "    # ags를 list로 변경 (마지막 remove 이유 때문)\n",
    "    ags = list(ags)\n",
    "    \n",
    "    while True:\n",
    "        \n",
    "        # ags에 데이터가 존재하지 않을때\n",
    "            # ags의 길이가 0인 경우       len(ags) == 0\n",
    "            # \n",
    "        if len(ags) == 0:\n",
    "            break                                             # 브레이크를 while문 맨 아래 넣었을 때 에러 뜬다. 위에 넣으면 에러 뜨지 않는다.\n",
    "                                                              # 맨 위에 넣어주지 않으면 아무것도 없는 데이터로 작은 값 출력하고 별 과정을 다 거치려 하기 때문.\n",
    "        # ags에서 가장 작은 값을 출력 \n",
    "        min_ags = c_min(ags)\n",
    "        \n",
    "        # 새로운 리스트에 작은 값을 추가\n",
    "        result.append(min_ags)\n",
    "        \n",
    "        # ags에 가장 작은 값을 제거 (tuple은 이 과정이 불가능)\n",
    "        ags.remove(min_ags)\n",
    "        \n",
    "\n",
    "    return result"
   ]
  },
  {
   "cell_type": "code",
   "execution_count": 49,
   "metadata": {},
   "outputs": [
    {
     "data": {
      "text/plain": [
       "[]"
      ]
     },
     "execution_count": 49,
     "metadata": {},
     "output_type": "execute_result"
    }
   ],
   "source": [
    "c_sort()"
   ]
  },
  {
   "cell_type": "code",
   "execution_count": 55,
   "metadata": {},
   "outputs": [],
   "source": [
    "# while문의 활용\n",
    "\n",
    "def c_sort(*ags):\n",
    "    result = []\n",
    "    ags = list(ags)\n",
    "    while ags:    # while 뒤에 변수 넣으면 강제로 bool의 형태로 변경. 데이터 존재하지 않으면(False) while문 돌리지 않는다.  \n",
    "    \n",
    "        min_ags = c_min(ags)\n",
    "        \n",
    "        result.append(min_ags)\n",
    "        \n",
    "        ags.remove(min_ags)\n",
    "\n",
    "    return result    "
   ]
  },
  {
   "cell_type": "code",
   "execution_count": 56,
   "metadata": {},
   "outputs": [
    {
     "data": {
      "text/plain": [
       "[2, 3, 5, 8, 9]"
      ]
     },
     "execution_count": 56,
     "metadata": {},
     "output_type": "execute_result"
    }
   ],
   "source": [
    "c_sort(3,9,8,2,5)"
   ]
  },
  {
   "cell_type": "code",
   "execution_count": 76,
   "metadata": {},
   "outputs": [],
   "source": [
    "## c_min(*ags) 넣고도 실행할 수 있는 c_sort()\n",
    "def c_min(*ags):\n",
    "    res = ags[0]\n",
    "    for i in range(1, len(ags),1):\n",
    "        if res > ags[i]:\n",
    "            res = ags[i]\n",
    "    return res         \n",
    "\n",
    "def c_sort(*ags, reverse = False):\n",
    "    result = []\n",
    "    ags = list(ags)\n",
    "    while ags:      \n",
    "    \n",
    "        min_ags = c_min(*ags)\n",
    "        \n",
    "        result.append(min_ags)\n",
    "        \n",
    "        ags.remove(min_ags)\n",
    "\n",
    "    return result  "
   ]
  },
  {
   "cell_type": "code",
   "execution_count": 77,
   "metadata": {},
   "outputs": [
    {
     "data": {
      "text/plain": [
       "[2, 3, 5, 8, 9]"
      ]
     },
     "execution_count": 77,
     "metadata": {},
     "output_type": "execute_result"
    }
   ],
   "source": [
    "c_sort(3,9,8,2,5)"
   ]
  },
  {
   "cell_type": "code",
   "execution_count": 81,
   "metadata": {},
   "outputs": [],
   "source": [
    "## sort(,reverse=T) 오름차순 \n",
    "def c_sort(*ags, reverse = True):\n",
    "    result = []\n",
    "    ags = list(ags)\n",
    "    while ags:      \n",
    "        if reverse:\n",
    "            ags_ = max(ags)\n",
    "        else:\n",
    "            ags_ = c_min(*ags)\n",
    "        \n",
    "        result.append(ags_)\n",
    "        \n",
    "        ags.remove(ags_)\n",
    "\n",
    "    return result  "
   ]
  },
  {
   "cell_type": "code",
   "execution_count": 82,
   "metadata": {},
   "outputs": [
    {
     "data": {
      "text/plain": [
       "[2, 3, 5, 8, 9]"
      ]
     },
     "execution_count": 82,
     "metadata": {},
     "output_type": "execute_result"
    }
   ],
   "source": [
    "c_sort(3,9,8,2,5 , reverse = False)"
   ]
  },
  {
   "cell_type": "code",
   "execution_count": 83,
   "metadata": {},
   "outputs": [
    {
     "data": {
      "text/plain": [
       "[9, 8, 5, 3, 2]"
      ]
     },
     "execution_count": 83,
     "metadata": {},
     "output_type": "execute_result"
    }
   ],
   "source": [
    "c_sort(3,9,8,2,5 , reverse = True)"
   ]
  },
  {
   "cell_type": "code",
   "execution_count": null,
   "metadata": {},
   "outputs": [],
   "source": []
  }
 ],
 "metadata": {
  "kernelspec": {
   "display_name": "Python 3",
   "language": "python",
   "name": "python3"
  },
  "language_info": {
   "codemirror_mode": {
    "name": "ipython",
    "version": 3
   },
   "file_extension": ".py",
   "mimetype": "text/x-python",
   "name": "python",
   "nbconvert_exporter": "python",
   "pygments_lexer": "ipython3",
   "version": "3.12.2"
  }
 },
 "nbformat": 4,
 "nbformat_minor": 2
}
